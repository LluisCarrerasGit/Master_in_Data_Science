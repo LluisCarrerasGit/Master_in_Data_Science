{
 "cells": [
  {
   "cell_type": "markdown",
   "metadata": {},
   "source": [
    "# Introducció:\n",
    "__Volem plantejar com podria ser un hipotètic cas real de projecte de mineria de dades. Tot parteix d'una presentació del client que exposa un problema de negoci difús i molt genèric que haureu de reconduir com a projecte de mineria de dades. Heu treballat un cicle de vida de projecte que ara té que ser el pal de paller de les respostes.\n",
    "Transformeu els objectius de negoci en objectius de mineria de dades.\n",
    "Prepareu una estratègia. Cal aplicar com a mínim dos tipus d'algorismes de MD vistos al semestre. Per tant, com a mínim tindreu dos objectius de MD.\n",
    "Analitzeu bé les dades, enteneu el model que representen les dades.\n",
    "Preparació de dades, neteja, creació del model, avaluació de la qualitat, interpretació i proposta de què es pot fer amb el coneixement extret.\n",
    "Orienteu la pràctica com podria ser la presentació de resultats que li faríeu al client. Per tant llenguatge clar i ordenat.\n",
    "Les dades. Estan en fitxers csv. Hi ha un script de SQL que us pot ajudar a entendre la tipologia de les dades i les seves relacions. Si no queda clar pregunteu al Fòrum.\n",
    "Per preparar les dades creativitat i llibertat absoluta: R, Excel, Acces, Mysql... El que vulgueu. Treballeu en les eines que sigueu més eficients i productius.  Si us perdeu o quedeu aturats en algun punt  no dubteu en contactar amb mi.__"
   ]
  },
  {
   "cell_type": "markdown",
   "metadata": {},
   "source": [
    "# Presentació del client:\n",
    "__Hola, em dic Joan Schlemmer. Sóc CEO a la cadena de botigues presencials Gourmet. Ens dediquem al negoci de l'alimentació i beguda de qualitat. Tenim presència en botigues a Europa i Estats Units.\n",
    "El negoci no ens va malament però m'agradaria poder augmentar la facturació de l'empresa. No tinc clar si augmentant les vendes o reduint despeses... L'altre dia jugant al golf amb un company que es dedica al negoci de les comunicacions en va comentar que havia engegat un projecte de... Big Data o Mineria de Dades o no se que del coneixement... No ho tinc clar...  Em va dir que li varen aconsellar accions concretes a partir de dades recollides del seu negoci i que està content... La qüestió és que us enviaran unes dades extretes del nostre ERP perquè em feu això de la mineria. Si us plau si teniu dubtes amb les dades pregunteu als nostres tècnics. Quan podré tenir un primer informe? D'aquí un mes? Perfecte...__\n"
   ]
  },
  {
   "cell_type": "markdown",
   "metadata": {},
   "source": [
    "Tenim per davant una tasca interessant de Mineria de Dades. Un client ens proposa un problema de negoci molt difús i ens ofereix unes dades extrtes del deu ERP per intentar trobar alguna ajuda per prendre decissions. En concret, el client vol augmentar la facturació de l'empresa, però no té clar si fer-ho augmentant les vendes o reduint despeses. Per tant, enfocarem aquest projecte amb la intenció de poder contestar aquesta qüestió."
   ]
  },
  {
   "cell_type": "markdown",
   "metadata": {},
   "source": [
    "## Càrrega i anàlisi de les dades"
   ]
  },
  {
   "cell_type": "markdown",
   "metadata": {},
   "source": [
    "### Taula TIENDA"
   ]
  },
  {
   "cell_type": "markdown",
   "metadata": {},
   "source": [
    "El primer que hem de fer és estudiar les dades que ens ha proporcionat el client. Es tracta de 13 fitxers cvs i un script SQL. Anem a mirar primer el script SQL. Com que el script és molt llarg, el que faré serà visualitzar a poc a poc la informació que ofereix. Anem a veure la primera secció del script:"
   ]
  },
  {
   "cell_type": "markdown",
   "metadata": {},
   "source": [
    "```\n",
    "CREATE TABLE GOURMET.TIENDA  (\n",
    "                  NOMBRE CHAR(100) NOT NULL ,\n",
    "                  DIRECCION CHAR(100) NOT NULL ,\n",
    "                  SUPERFICIE DECIMAL(5,2) NOT NULL ,\n",
    "                  FORMATO_TIENDA CHAR(100) NOT NULL ,\n",
    "                  PAIS CHAR(100) NOT NULL ,\n",
    "                  TIPO_ZONA CHAR(100) NOT NULL )\n",
    "                 IN USERSPACE1 ;\n",
    "\n",
    "import from tienda.cvs\n",
    "of del modified by CHARDEL\"\"  COLDEL, DECPT.\n",
    "insert into gourmet.tienda;\n",
    "\n",
    "-- DDL Statements for primary key on Table GOURMET.TIENDA\n",
    "\n",
    "ALTER TABLE GOURMET.TIENDA\n",
    "        ADD CONSTRAINT CC1187120357877 PRIMARY KEY\n",
    "                (NOMBRE);\n",
    "```"
   ]
  },
  {
   "cell_type": "markdown",
   "metadata": {},
   "source": [
    "El que fa aquest codi és crear la taula __TIENDA__ en una base de dades __GOURMET__. Defineix els diferents atributs, carrega les dades des del fitxer *tienda.cvs* i fa que la clau primària de la taula sigui l'atribut __NOMBRE__. Anem a carregar les dades del fitxer *tienda.cvs*, per veure quin aspecte tenen. Primer, però, les visualitzo amb l'editor Notepad++ i veig que es tracta de files de dades separades per coma i sense capçalera. Per començar, especifico la ruta al directori de treball. A continuació carrego el fitxer *tienda.cvs* a l’entorn de R, en un dataframe amb nom *gourmet.tienda*. A més, aprofito la informació que ens dona el script en SQL per nombrar els atributs. Comprovo que s’ha carregat correctament amb la funció head(), que mostra en consola les primeres files del fitxer."
   ]
  },
  {
   "cell_type": "code",
   "execution_count": 1,
   "metadata": {
    "collapsed": false
   },
   "outputs": [
    {
     "data": {
      "text/html": [
       "<table>\n",
       "<thead><tr><th scope=col>NOMBRE</th><th scope=col>DIRECCION</th><th scope=col>SUPERFICIE</th><th scope=col>FORMATO_TIENDA</th><th scope=col>PAIS</th><th scope=col>TIPO_ZONA</th></tr></thead>\n",
       "<tbody>\n",
       "\t<tr><td>Barcelona               </td><td>Castellets, 119         </td><td>223                     </td><td>Centro comercial        </td><td>EspaÃ±a                 </td><td>XRTX                    </td></tr>\n",
       "\t<tr><td>Florencia               </td><td>Venize, 56              </td><td>275                     </td><td>Tienda de barrio        </td><td>Italia                  </td><td>XRTS                    </td></tr>\n",
       "\t<tr><td>Fort Lauderdale         </td><td>23, Vyn Ness Street     </td><td>135                     </td><td>Centro comercial        </td><td>Estados Unidos          </td><td>BRTX                    </td></tr>\n",
       "\t<tr><td>Liverpool               </td><td>23, Kingstown Road      </td><td> 80                     </td><td>Tienda de barrio        </td><td>Reino Unido             </td><td>BRXS                    </td></tr>\n",
       "\t<tr><td>Londres I               </td><td>78, Westland Street     </td><td>114                     </td><td>GalerÃ­a                </td><td>Reino Unido             </td><td>BRTX                    </td></tr>\n",
       "\t<tr><td>Londres II              </td><td>198, SouthCastle Street </td><td>195                     </td><td>Centro comercial        </td><td>Reino Unido             </td><td>BRXX                    </td></tr>\n",
       "</tbody>\n",
       "</table>\n"
      ],
      "text/latex": [
       "\\begin{tabular}{r|llllll}\n",
       " NOMBRE & DIRECCION & SUPERFICIE & FORMATO\\_TIENDA & PAIS & TIPO\\_ZONA\\\\\n",
       "\\hline\n",
       "\t Barcelona                & Castellets, 119          & 223                      & Centro comercial         & EspaÃ±a                  & XRTX                    \\\\\n",
       "\t Florencia                & Venize, 56               & 275                      & Tienda de barrio         & Italia                   & XRTS                    \\\\\n",
       "\t Fort Lauderdale          & 23, Vyn Ness Street      & 135                      & Centro comercial         & Estados Unidos           & BRTX                    \\\\\n",
       "\t Liverpool                & 23, Kingstown Road       &  80                      & Tienda de barrio         & Reino Unido              & BRXS                    \\\\\n",
       "\t Londres I                & 78, Westland Street      & 114                      & GalerÃ­a                 & Reino Unido              & BRTX                    \\\\\n",
       "\t Londres II               & 198, SouthCastle Street  & 195                      & Centro comercial         & Reino Unido              & BRXX                    \\\\\n",
       "\\end{tabular}\n"
      ],
      "text/markdown": [
       "\n",
       "NOMBRE | DIRECCION | SUPERFICIE | FORMATO_TIENDA | PAIS | TIPO_ZONA | \n",
       "|---|---|---|---|---|---|\n",
       "| Barcelona                | Castellets, 119          | 223                      | Centro comercial         | EspaÃ±a                  | XRTX                     | \n",
       "| Florencia                | Venize, 56               | 275                      | Tienda de barrio         | Italia                   | XRTS                     | \n",
       "| Fort Lauderdale          | 23, Vyn Ness Street      | 135                      | Centro comercial         | Estados Unidos           | BRTX                     | \n",
       "| Liverpool                | 23, Kingstown Road       |  80                      | Tienda de barrio         | Reino Unido              | BRXS                     | \n",
       "| Londres I                | 78, Westland Street      | 114                      | GalerÃ­a                 | Reino Unido              | BRTX                     | \n",
       "| Londres II               | 198, SouthCastle Street  | 195                      | Centro comercial         | Reino Unido              | BRXX                     | \n",
       "\n",
       "\n"
      ],
      "text/plain": [
       "  NOMBRE           DIRECCION                SUPERFICIE FORMATO_TIENDA  \n",
       "1 Barcelona        Castellets, 119          223        Centro comercial\n",
       "2 Florencia        Venize, 56               275        Tienda de barrio\n",
       "3 Fort Lauderdale  23, Vyn Ness Street      135        Centro comercial\n",
       "4 Liverpool        23, Kingstown Road        80        Tienda de barrio\n",
       "5 Londres I        78, Westland Street      114        GalerÃ­a        \n",
       "6 Londres II       198, SouthCastle Street  195        Centro comercial\n",
       "  PAIS           TIPO_ZONA\n",
       "1 EspaÃ±a        XRTX     \n",
       "2 Italia         XRTS     \n",
       "3 Estados Unidos BRTX     \n",
       "4 Reino Unido    BRXS     \n",
       "5 Reino Unido    BRTX     \n",
       "6 Reino Unido    BRXX     "
      ]
     },
     "metadata": {},
     "output_type": "display_data"
    }
   ],
   "source": [
    "setwd(\"C:/Users/Lluís/Documents/UOC/Màster en Data Science/Mineria de Dades/Practica/\")\n",
    "tienda_header <- c(\"NOMBRE\", \"DIRECCION\", \"SUPERFICIE\", \"FORMATO_TIENDA\", \"PAIS\", \"TIPO_ZONA\")\n",
    "gourmet.tienda <- read.csv(file=\"gourmetdb/tienda.cvs\", header=FALSE, sep=\",\")\n",
    "names(gourmet.tienda) <- tienda_header\n",
    "head(gourmet.tienda)"
   ]
  },
  {
   "cell_type": "markdown",
   "metadata": {},
   "source": [
    "Les dades s'han carregat i se lis ha afegit els encapçalaments, però veiem que certs caracters no es codifiquen bé. Per tant, vaig a repetir la lectura del fitxer però especificant la codificació."
   ]
  },
  {
   "cell_type": "code",
   "execution_count": 2,
   "metadata": {
    "collapsed": false
   },
   "outputs": [
    {
     "data": {
      "text/html": [
       "<table>\n",
       "<thead><tr><th scope=col>NOMBRE</th><th scope=col>DIRECCION</th><th scope=col>SUPERFICIE</th><th scope=col>FORMATO_TIENDA</th><th scope=col>PAIS</th><th scope=col>TIPO_ZONA</th></tr></thead>\n",
       "<tbody>\n",
       "\t<tr><td>Barcelona               </td><td>Castellets, 119         </td><td>223                     </td><td>Centro comercial        </td><td>España                  </td><td>XRTX                    </td></tr>\n",
       "\t<tr><td>Florencia               </td><td>Venize, 56              </td><td>275                     </td><td>Tienda de barrio        </td><td>Italia                  </td><td>XRTS                    </td></tr>\n",
       "\t<tr><td>Fort Lauderdale         </td><td>23, Vyn Ness Street     </td><td>135                     </td><td>Centro comercial        </td><td>Estados Unidos          </td><td>BRTX                    </td></tr>\n",
       "\t<tr><td>Liverpool               </td><td>23, Kingstown Road      </td><td> 80                     </td><td>Tienda de barrio        </td><td>Reino Unido             </td><td>BRXS                    </td></tr>\n",
       "\t<tr><td>Londres I               </td><td>78, Westland Street     </td><td>114                     </td><td>Galería                 </td><td>Reino Unido             </td><td>BRTX                    </td></tr>\n",
       "\t<tr><td>Londres II              </td><td>198, SouthCastle Street </td><td>195                     </td><td>Centro comercial        </td><td>Reino Unido             </td><td>BRXX                    </td></tr>\n",
       "</tbody>\n",
       "</table>\n"
      ],
      "text/latex": [
       "\\begin{tabular}{r|llllll}\n",
       " NOMBRE & DIRECCION & SUPERFICIE & FORMATO\\_TIENDA & PAIS & TIPO\\_ZONA\\\\\n",
       "\\hline\n",
       "\t Barcelona                & Castellets, 119          & 223                      & Centro comercial         & España                   & XRTX                    \\\\\n",
       "\t Florencia                & Venize, 56               & 275                      & Tienda de barrio         & Italia                   & XRTS                    \\\\\n",
       "\t Fort Lauderdale          & 23, Vyn Ness Street      & 135                      & Centro comercial         & Estados Unidos           & BRTX                    \\\\\n",
       "\t Liverpool                & 23, Kingstown Road       &  80                      & Tienda de barrio         & Reino Unido              & BRXS                    \\\\\n",
       "\t Londres I                & 78, Westland Street      & 114                      & Galería                  & Reino Unido              & BRTX                    \\\\\n",
       "\t Londres II               & 198, SouthCastle Street  & 195                      & Centro comercial         & Reino Unido              & BRXX                    \\\\\n",
       "\\end{tabular}\n"
      ],
      "text/markdown": [
       "\n",
       "NOMBRE | DIRECCION | SUPERFICIE | FORMATO_TIENDA | PAIS | TIPO_ZONA | \n",
       "|---|---|---|---|---|---|\n",
       "| Barcelona                | Castellets, 119          | 223                      | Centro comercial         | España                   | XRTX                     | \n",
       "| Florencia                | Venize, 56               | 275                      | Tienda de barrio         | Italia                   | XRTS                     | \n",
       "| Fort Lauderdale          | 23, Vyn Ness Street      | 135                      | Centro comercial         | Estados Unidos           | BRTX                     | \n",
       "| Liverpool                | 23, Kingstown Road       |  80                      | Tienda de barrio         | Reino Unido              | BRXS                     | \n",
       "| Londres I                | 78, Westland Street      | 114                      | Galería                  | Reino Unido              | BRTX                     | \n",
       "| Londres II               | 198, SouthCastle Street  | 195                      | Centro comercial         | Reino Unido              | BRXX                     | \n",
       "\n",
       "\n"
      ],
      "text/plain": [
       "  NOMBRE           DIRECCION                SUPERFICIE FORMATO_TIENDA  \n",
       "1 Barcelona        Castellets, 119          223        Centro comercial\n",
       "2 Florencia        Venize, 56               275        Tienda de barrio\n",
       "3 Fort Lauderdale  23, Vyn Ness Street      135        Centro comercial\n",
       "4 Liverpool        23, Kingstown Road        80        Tienda de barrio\n",
       "5 Londres I        78, Westland Street      114        Galería         \n",
       "6 Londres II       198, SouthCastle Street  195        Centro comercial\n",
       "  PAIS           TIPO_ZONA\n",
       "1 España         XRTX     \n",
       "2 Italia         XRTS     \n",
       "3 Estados Unidos BRTX     \n",
       "4 Reino Unido    BRXS     \n",
       "5 Reino Unido    BRTX     \n",
       "6 Reino Unido    BRXX     "
      ]
     },
     "metadata": {},
     "output_type": "display_data"
    }
   ],
   "source": [
    "gourmet.tienda <- read.csv(file=\"gourmetdb/tienda.cvs\", header=FALSE, sep=\",\", fileEncoding = \"UTF-8\")\n",
    "names(gourmet.tienda) <- tienda_header\n",
    "head(gourmet.tienda)"
   ]
  },
  {
   "cell_type": "markdown",
   "metadata": {},
   "source": [
    "Ara sí que es veuen bé les dades. Passem a mirar les dimensions del dataframe."
   ]
  },
  {
   "cell_type": "code",
   "execution_count": 3,
   "metadata": {
    "collapsed": false
   },
   "outputs": [
    {
     "data": {
      "text/html": [
       "<ol class=list-inline>\n",
       "\t<li>15</li>\n",
       "\t<li>6</li>\n",
       "</ol>\n"
      ],
      "text/latex": [
       "\\begin{enumerate*}\n",
       "\\item 15\n",
       "\\item 6\n",
       "\\end{enumerate*}\n"
      ],
      "text/markdown": [
       "1. 15\n",
       "2. 6\n",
       "\n",
       "\n"
      ],
      "text/plain": [
       "[1] 15  6"
      ]
     },
     "metadata": {},
     "output_type": "display_data"
    }
   ],
   "source": [
    "dim(gourmet.tienda)"
   ]
  },
  {
   "cell_type": "markdown",
   "metadata": {},
   "source": [
    "Es tracta d'un dataframe de 15 files de dades i 6 atributs. Anem a veure ara la distribució de les variables, amb la funció *summary()*."
   ]
  },
  {
   "cell_type": "code",
   "execution_count": 4,
   "metadata": {
    "collapsed": false
   },
   "outputs": [
    {
     "data": {
      "text/plain": [
       "              NOMBRE                     DIRECCION   SUPERFICIE   \n",
       " Barcelona       :1   198, SouthCastle Street :1   Min.   : 75.0  \n",
       " Florencia       :1   23, Kingstown Road      :1   1st Qu.:107.0  \n",
       " Fort Lauderdale :1   23, Vyn Ness Street     :1   Median :170.0  \n",
       " Liverpool       :1   55, 22nd Street         :1   Mean   :163.8  \n",
       " Londres I       :1   560, Collins Av         :1   3rd Qu.:207.5  \n",
       " Londres II      :1   67, 51st Street         :1   Max.   :275.0  \n",
       " (Other)         :9   (Other)                 :9                  \n",
       "          FORMATO_TIENDA             PAIS     TIPO_ZONA\n",
       " Centro comercial:4      Alemania      :1   BRXX   :3  \n",
       " Galería         :5      España        :2   BXTX   :3  \n",
       " Tienda de barrio:6      Estados Unidos:4   BRTX   :2  \n",
       "                         Francia       :2   XRTX   :2  \n",
       "                         Italia        :3   XRXX   :2  \n",
       "                         Reino Unido   :3   BRXS   :1  \n",
       "                                            (Other):2  "
      ]
     },
     "metadata": {},
     "output_type": "display_data"
    }
   ],
   "source": [
    "summary(gourmet.tienda)"
   ]
  },
  {
   "cell_type": "markdown",
   "metadata": {},
   "source": [
    "Anem a mirar la següent secció del script SQL."
   ]
  },
  {
   "cell_type": "markdown",
   "metadata": {},
   "source": [
    "### Taula PAIS"
   ]
  },
  {
   "cell_type": "markdown",
   "metadata": {},
   "source": [
    "```\n",
    "CREATE TABLE GOURMET.PAIS  (\n",
    "                  NOMBREPAIS CHAR(100) NOT NULL ,\n",
    "                  EXTENSION DECIMAL(10,0) NOT NULL ,\n",
    "                  POBLACION DECIMAL(10,0) NOT NULL ,\n",
    "                  NOMBREREGION CHAR(100) NOT NULL )\n",
    "                 IN USERSPACE1 ;\n",
    "\n",
    "import from pais.cvs\n",
    "of del modified by CHARDEL\"\"  COLDEL, DECPT.\n",
    "insert into gourmet.pais;\n",
    "\n",
    "-- DDL Statements for primary key on Table GOURMET.PAIS\n",
    "\n",
    "ALTER TABLE GOURMET.PAIS\n",
    "        ADD CONSTRAINT CC1186736972792 PRIMARY KEY\n",
    "                (NOMBREPAIS);\n",
    "```"
   ]
  },
  {
   "cell_type": "markdown",
   "metadata": {},
   "source": [
    "Aquest codi crea la taula __PAIS__ a la base de dades __GOURMET__. Defineix els diferents atributs, carrega les dades des del fitxer *pais.cvs* i fa que la clau primària de la taula sigui l'atribut __NOMBREPAIS__. Ara seria convenient carregar les dades del fitxer csv, afegint-hi l'encapçalament, mirar les primeres files, les dimensions i el sumari, però com que això ho acabarem fent per tots els fitxers csv que tenim considero adient crear una funció que realitzi totes aquestes tasques. La funció rebá com arguments el nom del fitxer csv i una llista amb el nom dels atributs."
   ]
  },
  {
   "cell_type": "code",
   "execution_count": 5,
   "metadata": {
    "collapsed": false
   },
   "outputs": [],
   "source": [
    "read_and_show_data <- function(name, col_names){\n",
    "    path <- paste(\"gourmetdb/\", name, sep = \"\", collapse = \"\")\n",
    "    df <- read.csv(file=path, header=FALSE, sep=\",\", fileEncoding = \"UTF-8\")\n",
    "    names(df) <- col_names\n",
    "    print(paste(\"Visualitzem informació del dataframe\", name))\n",
    "    cat(\"\\n\")\n",
    "    print(head(df))\n",
    "    cat(\"\\n\")\n",
    "    print(dim(df))\n",
    "    cat(\"\\n\")\n",
    "    print(summary(df))\n",
    "    return(df)\n",
    "}"
   ]
  },
  {
   "cell_type": "markdown",
   "metadata": {},
   "source": [
    "Creem la llista corresponent amb els noms dels atributs i apliquem la funció al fitxer *pais.cvs*."
   ]
  },
  {
   "cell_type": "code",
   "execution_count": 6,
   "metadata": {
    "collapsed": false
   },
   "outputs": [
    {
     "name": "stdout",
     "output_type": "stream",
     "text": [
      "[1] \"Visualitzem informació del dataframe pais.cvs\"\n",
      "\n",
      "      NOMBREPAIS EXTENSION POBLACION NOMBREREGION\n",
      "1         Italia    301230  58384321   Sur Europa\n",
      "2 Estados Unidos   9372610 266504935 Norteamérica\n",
      "3         España    504750  39510740   Sur Europa\n",
      "4       Francia     547030  58376462 Norte Europa\n",
      "5       Alemania    356910  81549019 Norte Europa\n",
      "6   Reino Unido     244820  58452516 Norte Europa\n",
      "\n",
      "[1] 16  4\n",
      "\n",
      "      NOMBREPAIS   EXTENSION         POBLACION                 NOMBREREGION\n",
      " Alemania  : 1   Min.   :  30510   Min.   :  3562164   Latinoamérica :1    \n",
      " Argentina : 1   1st Qu.:  63478   1st Qu.:  9722349   Norte Europa  :9    \n",
      " Australia : 1   Median : 403437   Median : 31708936   Norteamérica  :3    \n",
      " Bélgica   : 1   Mean   :2150139   Mean   : 49418835   Oceanía       :1    \n",
      " Canadá    : 1   3rd Qu.:2171135   3rd Qu.: 58401370   Sur Europa    :2    \n",
      " Dinamarca : 1   Max.   :9976140   Max.   :266504935                       \n",
      " (Other)   :10                                                             \n"
     ]
    }
   ],
   "source": [
    "pais_header <- c(\"NOMBREPAIS\", \"EXTENSION\", \"POBLACION\", \"NOMBREREGION\")\n",
    "gourmet.pais <- read_and_show_data(\"pais.cvs\", pais_header)"
   ]
  },
  {
   "cell_type": "markdown",
   "metadata": {},
   "source": [
    "Per tal de carregar i estudiar la resta de les dades, el que farem ara serà fer el mateix per a la resta de fitxers csv que tenim. Per tant, repetirem per a cada fitxer el procés de visualitzar la secció corresponent al script SQL, extreure manualment els noms dels atributs i crear una llista amb ells, i aplicar la funció que acabem de crear per tal de carregar les dades en un dataframe i  mostrar informació interessant."
   ]
  },
  {
   "cell_type": "markdown",
   "metadata": {},
   "source": [
    "### Taula REGIONGEOGRAFICA"
   ]
  },
  {
   "cell_type": "markdown",
   "metadata": {},
   "source": [
    "```\n",
    "CREATE TABLE GOURMET.REGIONGEOGRAFICA  (\n",
    "                  NOMBREREGION CHAR(100) NOT NULL ,\n",
    "                  CONTINENTE CHAR(100) NOT NULL )\n",
    "                 IN USERSPACE1 ;\n",
    "\n",
    "import from regiongeografica.cvs\n",
    "of del modified by CHARDEL\"\"  COLDEL, DECPT.\n",
    "insert into gourmet.regiongeografica;\n",
    "\n",
    "ALTER TABLE GOURMET.REGIONGEOGRAFICA\n",
    "        ADD CONSTRAINT CC1186758129270 PRIMARY KEY\n",
    "                (NOMBREREGION);\n",
    "```"
   ]
  },
  {
   "cell_type": "code",
   "execution_count": 7,
   "metadata": {
    "collapsed": false
   },
   "outputs": [
    {
     "name": "stdout",
     "output_type": "stream",
     "text": [
      "[1] \"Visualitzem informació del dataframe regiongeografica.cvs\"\n",
      "\n",
      "    NOMBREREGION CONTINENTE\n",
      "1   Norteamérica   América \n",
      "2 Latinoamérica    América \n",
      "3   Norte Europa     Europa\n",
      "4     Sur Europa     Europa\n",
      "5       Oceanía    Oceanía \n",
      "\n",
      "[1] 5 2\n",
      "\n",
      "         NOMBREREGION    CONTINENTE\n",
      " Latinoamérica :1     América :2   \n",
      " Norte Europa  :1     Europa  :2   \n",
      " Norteamérica  :1     Oceanía :1   \n",
      " Oceanía       :1                  \n",
      " Sur Europa    :1                  \n"
     ]
    }
   ],
   "source": [
    "region_header <- c(\"NOMBREREGION\", \"CONTINENTE\")\n",
    "gourmet.region <- read_and_show_data(\"regiongeografica.cvs\", region_header)"
   ]
  },
  {
   "cell_type": "markdown",
   "metadata": {},
   "source": [
    "### Taula CLIENTE"
   ]
  },
  {
   "cell_type": "markdown",
   "metadata": {},
   "source": [
    "```\n",
    "CREATE TABLE GOURMET.CLIENTE  (\n",
    "                  CODCLIENTE CHAR(10) NOT NULL ,\n",
    "                  NOMBRECLIENTE CHAR(100) ,\n",
    "                  SEXO CHAR(25) ,\n",
    "                  FECHANACIMIENTO DATE ,\n",
    "                  ESTADOCIVIL CHAR(25) ,\n",
    "                  DIRECCIÓN CHAR(100) ,\n",
    "                  PROFESIÓN CHAR(100) ,\n",
    "                  NUMEROHIJOS INTEGER ,\n",
    "                  REGION CHAR(100) ,\n",
    "                  NACIONALIDAD CHAR(100) ,\n",
    "                  TOTALCOMPRAS INTEGER ,\n",
    "                  PUNTOSACUMULADOS INTEGER )\n",
    "                 IN USERSPACE1 ;\n",
    "\n",
    "import from cliente.cvs\n",
    "of del modified by CHARDEL\"\"  COLDEL, DECPT.\n",
    "insert into gourmet.cliente;\n",
    "\n",
    "-- DDL Statements for primary key on Table GOURMET.CLIENTE\n",
    "\n",
    "ALTER TABLE GOURMET.CLIENTE\n",
    "        ADD CONSTRAINT CC1186758966594 PRIMARY KEY\n",
    "                (CODCLIENTE);\n",
    "```"
   ]
  },
  {
   "cell_type": "code",
   "execution_count": 8,
   "metadata": {
    "collapsed": false
   },
   "outputs": [
    {
     "name": "stdout",
     "output_type": "stream",
     "text": [
      "[1] \"Visualitzem informació del dataframe cliente.cvs\"\n",
      "\n",
      "  CODCLIENTE          NOMBRECLIENTE    SEXO FECHANACIMIENTO ESTADOCIVIL\n",
      "1   0000001R Roca Sacristán Narciso Hombre         19551220   Soltero/a\n",
      "2   0065536F Fuentes Mohedano Rosa    Mujer        19420108   Casado/a \n",
      "3   0065537P       Prat Salom Pedro Hombre         19400315   Casado/a \n",
      "4   0000002J         Jones Nicholas Hombre         19110808   Soltero/a\n",
      "5   0000003B       Burton Alexander Hombre         19420417   Casado/a \n",
      "6   0065538S         Sales Deborah    Mujer        19410526   Casado/a \n",
      "                                 DIRECCION\n",
      "1 Piazzale Suppercortemaggiore 4 , Milano \n",
      "2               C/ Niza 73 08032 Barcelona\n",
      "3       corso Vittorio Emanuele, 102 Roma \n",
      "4     1 Place de la Sorbonne , 75003 Paris\n",
      "5   46 Stockwell Place ,Liverpool L69 2DH \n",
      "6               Leopoldstraße 44, München \n",
      "                               PROFESION NUMEROHIJOS       REGION NACIONALIDAD\n",
      "1 Economistas,Abogados & Admin.Empresas            0   Sur Europa       España\n",
      "2             Ingenieros & Especialistas           1   Sur Europa       España\n",
      "3   Doctores & Profesionales de la Salud           2   Sur Europa       España\n",
      "4             Ingenieros & Especialistas           0 Norte Europa Reino Unido \n",
      "5   Doctores & Profesionales de la Salud           2 Norte Europa Reino Unido \n",
      "6 Economistas,Abogados & Admin.Empresas            1 Norte Europa Reino Unido \n",
      "  TOTALCOMPRAS PUNTOSACUMULADOS\n",
      "1            4                7\n",
      "2           16               13\n",
      "3           14               10\n",
      "4            2                9\n",
      "5           13                9\n",
      "6            7               11\n",
      "\n",
      "[1] 4069   12\n",
      "\n",
      "    CODCLIENTE          NOMBRECLIENTE       SEXO      FECHANACIMIENTO   \n",
      " 0000001R:   1   Hut Pizzeria  :   6   Empresa: 805   Min.   :19100204  \n",
      " 0000002J:   1   Norma         :   6   Hombre :2076   1st Qu.:19390225  \n",
      " 0000003B:   1   Payne Henry   :   6   Mujer  :1188   Median :19511109  \n",
      " 0000004N:   1   Brigham Ernest:   5                  Mean   :19516993  \n",
      " 0000005E:   1   Noma          :   5                  3rd Qu.:19670811  \n",
      " 0000006C:   1   Tanner        :   5                  Max.   :19791231  \n",
      " (Other) :4063   (Other)       :4036                                    \n",
      "        ESTADOCIVIL                                      DIRECCION   \n",
      "              : 805   116 Sussex Gardens ,London EC1          :   7  \n",
      " Casado/a     :1318   15 Bury St, St James'S ,London NW1      :   7  \n",
      " Divorciado/a : 651   Corso Buenos Aires 3 , Milano           :   7  \n",
      " Soltero/a    :1219   Piazzale Suppercortemaggiore 4 , Milano :   7  \n",
      " Viudo/a      :  76   Via Ludovico Ariosto 22 , Milano        :   7  \n",
      "                      Viale Lombardia 55 , Milano             :   7  \n",
      "                      (Other)                                 :4027  \n",
      "                                  PROFESION    NUMEROHIJOS    \n",
      " Economistas,Abogados & Admin.Empresas :707   Min.   :0.0000  \n",
      " Gerentes & Directivos                 :703   1st Qu.:0.0000  \n",
      " Doctores & Profesionales de la Salud  :663   Median :0.0000  \n",
      " Ingenieros & Especialistas            :507   Mean   :0.9684  \n",
      " Architectos,Decoradores & Humanistas  :485   3rd Qu.:2.0000  \n",
      " Catering                              :339   Max.   :4.0000  \n",
      " (Other)                               :665   NA's   :805     \n",
      "          REGION             NACIONALIDAD   TOTALCOMPRAS    PUNTOSACUMULADOS\n",
      " Norte Europa:1821   España        :1349   Min.   : 0.000   Min.   :  5.00  \n",
      " Norteamérica: 899   Estados Unidos: 899   1st Qu.: 5.000   1st Qu.:  7.00  \n",
      " Sur Europa  :1349   Reino Unido   :1821   Median : 8.000   Median :  9.00  \n",
      "                                           Mean   : 8.729   Mean   : 11.54  \n",
      "                                           3rd Qu.:12.000   3rd Qu.: 12.00  \n",
      "                                           Max.   :48.000   Max.   :105.00  \n",
      "                                                                            \n"
     ]
    }
   ],
   "source": [
    "cliente_header <- c(\"CODCLIENTE\", \"NOMBRECLIENTE\", \"SEXO\", \"FECHANACIMIENTO\", \"ESTADOCIVIL\", \"DIRECCION\", \n",
    "                    \"PROFESION\", \"NUMEROHIJOS\", \"REGION\", \"NACIONALIDAD\", \"TOTALCOMPRAS\", \"PUNTOSACUMULADOS\")\n",
    "gourmet.cliente <- read_and_show_data(\"cliente.cvs\", cliente_header)"
   ]
  },
  {
   "cell_type": "markdown",
   "metadata": {},
   "source": [
    "### Taula PRODUCTO"
   ]
  },
  {
   "cell_type": "markdown",
   "metadata": {},
   "source": [
    "```\n",
    "CREATE TABLE GOURMET.PRODUCTO  (\n",
    "                  CODPRODUCTO CHAR(25) NOT NULL ,\n",
    "                  DESCRIPCIÓN CHAR(100) NOT NULL ,\n",
    "                  NOMBREPAIS CHAR(100) NOT NULL ,\n",
    "                  COSTE DECIMAL(5,2) NOT NULL ,\n",
    "                  PRECIOVENTA DECIMAL(5,2) NOT NULL ,\n",
    "                  TIPOUNIDAD CHAR(100) NOT NULL ,\n",
    "                  NOMBRESUBFAMILIA CHAR(100) NOT NULL ,\n",
    "                  MARCA CHAR(100) NOT NULL ,\n",
    "                  CODPROVEEDOR CHAR(10) NOT NULL )\n",
    "                 IN USERSPACE1 ;\n",
    "\n",
    "import from producto.cvs\n",
    "of del modified by CHARDEL\"\"  COLDEL, DECPT.\n",
    "insert into gourmet.producto;\n",
    "\n",
    "-- DDL Statements for primary key on Table GOURMET.PRODUCTO\n",
    "\n",
    "ALTER TABLE GOURMET.PRODUCTO\n",
    "        ADD CONSTRAINT CC1187115240218 PRIMARY KEY\n",
    "                (CODPRODUCTO);\n",
    "\n",
    "```"
   ]
  },
  {
   "cell_type": "code",
   "execution_count": 9,
   "metadata": {
    "collapsed": false
   },
   "outputs": [
    {
     "name": "stdout",
     "output_type": "stream",
     "text": [
      "[1] \"Visualitzem informació del dataframe producto.cvs\"\n",
      "\n",
      "  CODPRODUCTO          DESCRIPCION   NOMBREPAIS COSTE PRECIOVENTA\n",
      "1       001CH             Chesire  Reino Unido   3.30        4.69\n",
      "2       002CO             Cotswold Reino Unido   3.47        4.98\n",
      "3       003CL Crumbly Lancanshire  Reino Unido   3.93        5.59\n",
      "4       004DG   Double Gloucester  Reino Unido   3.48        4.98\n",
      "5       005HU             Huntsman Reino Unido   4.83        6.84\n",
      "6       006MB Mature Blue Stilton  Reino Unido   5.08        7.13\n",
      "        TIPOUNIDAD   NOMBRESUBFAMILIA          MARCA CODPROVEEDOR\n",
      "1 Porción (250 g)        Vaca Curado    Smith Farmer          101\n",
      "2 Porción (250 g)        Vaca Curado        Old Hill          101\n",
      "3 Porción (250 g)    Vaca Semicurado  The Farmhouse           101\n",
      "4 Porción (250 g)        Vaca Curado      Mr. Cooper          101\n",
      "5 Porción (250 g)  Vaca Pasta veteada     Thoncheese          101\n",
      "6 Porción (250 g)  Vaca Pasta veteada       Blue Cow          101\n",
      "\n",
      "[1] 339   9\n",
      "\n",
      "  CODPRODUCTO            DESCRIPCION           NOMBREPAIS      COSTE       \n",
      " 001CH  :  1   Tinto Reserva 95: 17   España        :113   Min.   :  1.40  \n",
      " 002CO  :  1   Tinto Reserva 94: 12   Francia       : 68   1st Qu.:  4.18  \n",
      " 003CL  :  1   Chardonnay 98   :  9   Estados Unidos: 51   Median :  6.15  \n",
      " 004DG  :  1   Merlot 97       :  7   Italia        : 25   Mean   : 11.10  \n",
      " 005HU  :  1   Chardonnay 97   :  6   Reino Unido   : 25   3rd Qu.: 11.10  \n",
      " 006MB  :  1   Tinto Crianza 96:  6   Australia     : 15   Max.   :558.58  \n",
      " (Other):333   (Other)         :282   (Other)       : 42                   \n",
      "  PRECIOVENTA                 TIPOUNIDAD                      NOMBRESUBFAMILIA\n",
      " Min.   :  2.000   Botella         :205   D.O. Rioja-Tinto            : 40    \n",
      " 1st Qu.:  6.305   Botella (1.5 l) :  1   D.O. Napa-Blanco            : 34    \n",
      " Median :  9.980   Caja            : 24   Vaca Semicurado             : 26    \n",
      " Mean   : 18.991   Porción (250 g) :103   Vaca Curado                 : 16    \n",
      " 3rd Qu.: 19.950   Unidad          :  6   D.O. Champagne-Brut         : 14    \n",
      " Max.   :899.000                          D.O. Ribera del Duero-Tinto : 12    \n",
      "                                          (Other)                     :197    \n",
      "                  MARCA      CODPROVEEDOR  \n",
      " West Vineyards      : 13   Min.   :101.0  \n",
      " Château d'Or        : 10   1st Qu.:110.0  \n",
      " Golden Valley       : 10   Median :304.0  \n",
      " Bodegas de Aragón   :  8   Mean   :240.3  \n",
      " Conde Duque Alvarez :  8   3rd Qu.:315.0  \n",
      " Golden Vineyards    :  8   Max.   :329.0  \n",
      " (Other)             :282                  \n"
     ]
    }
   ],
   "source": [
    "producto_header <- c(\"CODPRODUCTO\", \"DESCRIPCION\", \"NOMBREPAIS\", \"COSTE\", \"PRECIOVENTA\", \"TIPOUNIDAD\", \n",
    "                    \"NOMBRESUBFAMILIA\", \"MARCA\", \"CODPROVEEDOR\")\n",
    "gourmet.producto <- read_and_show_data(\"producto.cvs\", producto_header)"
   ]
  },
  {
   "cell_type": "markdown",
   "metadata": {},
   "source": [
    "### Taula PROVEEDOR"
   ]
  },
  {
   "cell_type": "markdown",
   "metadata": {},
   "source": [
    "```\n",
    "CREATE TABLE GOURMET.PROVEEDOR  (\n",
    "                  CODPROVEEDOR CHAR(10) NOT NULL ,\n",
    "                  NOMBREPROVEEDOR CHAR(100) NOT NULL ,\n",
    "                  PERSONACONTACTO CHAR(100) NOT NULL ,\n",
    "                  DIRECCIÓN CHAR(100) NOT NULL ,\n",
    "                  TELÉFONO CHAR(25) NOT NULL ,\n",
    "                  PERIODOPAGO SMALLINT ,\n",
    "                  PAGOPENDIENTE DECIMAL(5,2) ,\n",
    "                  TIPOPROVEEDOR CHAR(100) ,\n",
    "                  ALCANCE CHAR(25) NOT NULL )\n",
    "                 IN USERSPACE1 ;\n",
    "\n",
    "import from proveedor.cvs\n",
    "of del modified by CHARDEL\"\"  COLDEL, DECPT.\n",
    "insert into gourmet.proveedor;\n",
    "\n",
    "-- DDL Statements for primary key on Table GOURMET.PROVEEDOR\n",
    "\n",
    "ALTER TABLE GOURMET.PROVEEDOR\n",
    "        ADD CONSTRAINT CC1187115755870 PRIMARY KEY\n",
    "                (CODPROVEEDOR);\n",
    "```"
   ]
  },
  {
   "cell_type": "code",
   "execution_count": 10,
   "metadata": {
    "collapsed": false
   },
   "outputs": [
    {
     "name": "stdout",
     "output_type": "stream",
     "text": [
      "[1] \"Visualitzem informació del dataframe proveedor.cvs\"\n",
      "\n",
      "  CODPROVEEDOR                  NOMBREPROVEEDOR      PERSONACONTACTO\n",
      "1          101           The Farmhouse Company        Richard Addams\n",
      "2          102 Cooperative de Produits Laitiers Jean François Duval \n",
      "3          103               Compagnie Laitier    Florence Deveroix \n",
      "4          104             Compagnie du Fromage     Jacques Decruel \n",
      "5          105               The Holland House        Mark Vanderlok\n",
      "6          106 Cooperativa Agricola il Poggiolo   Andrea Cavaglieri \n",
      "                                           DIRECCION TELEFONO PERIODOPAGO\n",
      "1                     122 Brackenbury Rd.,London SW3 76589900          60\n",
      "2             34 Rue de Raspail , Brussels, Belgium  90090011          60\n",
      "3         96 Rue Vauvilliers  , 75003 Paris, France  79034678          60\n",
      "4 15 Boulevard Bonne Nouvelle , 76003 Paris, France  56341390          90\n",
      "5           Leidsekade 97 1017 PN Amsterdam, Holland 45562389          60\n",
      "6   SS 503 Km. 23- Fraz. Rossoio 20 - 50042 -Italia   7893467          90\n",
      "  PAGOPENDIENTE TIPOPROVEEDOR ALCANCE\n",
      "1            NA            NA Global \n",
      "2            NA            NA Global \n",
      "3            NA            NA Global \n",
      "4            NA            NA Global \n",
      "5            NA            NA Global \n",
      "6            NA            NA Global \n",
      "\n",
      "[1] 48  9\n",
      "\n",
      "  CODPROVEEDOR                     NOMBREPROVEEDOR           PERSONACONTACTO\n",
      " Min.   :101.0   Atlas Vineyard            : 1     Andrea Cavaglieri : 1    \n",
      " 1st Qu.:112.8   Australian Cellars Company: 1     Andrew Schnell    : 1    \n",
      " Median :305.5   Australian Cow Company    : 1     Begoña Iribarren  : 1    \n",
      " Mean   :240.9   Bavarese Inc.             : 1     Benjamin Lynn     : 1    \n",
      " 3rd Qu.:317.2   Bebidas Selección         : 1     Bettina Rassmann  : 1    \n",
      " Max.   :329.0   Bodegas de Aragón         : 1     Carles Vilaseca   : 1    \n",
      "                 (Other)                   :42     (Other)           :42    \n",
      "                                          DIRECCION     TELEFONO        \n",
      " 10 Avenue de Caroline , 93021 Bordeaux, France: 1   Min.   :  3346678  \n",
      " 119 Rue Volney , 75498 Paris, France          : 1   1st Qu.:  7868732  \n",
      " 12 American Dr, St Pauls NSW 2111 Australia   : 1   Median : 56852902  \n",
      " 122 Brackenbury Rd.,London SW3                : 1   Mean   :279829589  \n",
      " 122Griffin Rd  Fort Lauderdale, FL 33041, USA : 1   3rd Qu.:912349696  \n",
      " 123 Boulevard Raspail , 75003 Poissy, France  : 1   Max.   :969048832  \n",
      " (Other)                                       :42                      \n",
      "  PERIODOPAGO    PAGOPENDIENTE  TIPOPROVEEDOR       ALCANCE  \n",
      " Min.   :15.00   Mode:logical   Mode:logical   Global   :46  \n",
      " 1st Qu.:30.00   NA's:48        NA's:48        Local    : 1  \n",
      " Median :60.00                                 Regional : 1  \n",
      " Mean   :56.56                                               \n",
      " 3rd Qu.:90.00                                               \n",
      " Max.   :90.00                                               \n",
      "                                                             \n"
     ]
    }
   ],
   "source": [
    "proveedor_header <- c(\"CODPROVEEDOR\", \"NOMBREPROVEEDOR\", \"PERSONACONTACTO\", \"DIRECCION\", \"TELEFONO\", \"PERIODOPAGO\", \n",
    "                    \"PAGOPENDIENTE\", \"TIPOPROVEEDOR\", \"ALCANCE\")\n",
    "gourmet.proveedor <- read_and_show_data(\"proveedor.cvs\", proveedor_header)"
   ]
  },
  {
   "cell_type": "markdown",
   "metadata": {},
   "source": [
    "### Taula NOMBRESUBFAMILIA"
   ]
  },
  {
   "cell_type": "markdown",
   "metadata": {},
   "source": [
    "```\n",
    "CREATE TABLE GOURMET.NOMBRESUBFAMILIA  (\n",
    "                  NOMBRESUBFAMILIA CHAR(100) NOT NULL ,\n",
    "                  DESCRIPCIÓN CHAR(100) ,\n",
    "                  NOMBREFAMILIA CHAR(100) NOT NULL )\n",
    "                 IN USERSPACE1 ;\n",
    "\n",
    "import from subfamilia.cvs\n",
    "of del modified by CHARDEL\"\"  COLDEL, DECPT.\n",
    "insert into gourmet.nombresubfamilia;\n",
    "\n",
    "-- DDL Statements for primary key on Table GOURMET.NOMBRESUBFAMILIA\n",
    "\n",
    "ALTER TABLE GOURMET.NOMBRESUBFAMILIA\n",
    "        ADD CONSTRAINT CC1187116579834 PRIMARY KEY\n",
    "                (NOMBRESUBFAMILIA);\n",
    "```"
   ]
  },
  {
   "cell_type": "code",
   "execution_count": 11,
   "metadata": {
    "collapsed": false
   },
   "outputs": [
    {
     "name": "stdout",
     "output_type": "stream",
     "text": [
      "[1] \"Visualitzem informació del dataframe subfamilia.cvs\"\n",
      "\n",
      "      NOMBRESUBFAMILIA DESCRIPCION NOMBREFAMILIA\n",
      "1     D.O. Rioja-Tinto                D.O. Rioja\n",
      "2   D.O. Rioja-Blanco                 D.O. Rioja\n",
      "3   D.O. Rioja-Rosado                 D.O. Rioja\n",
      "4   D.O. Penedés-Tinto              D.O. Penedés\n",
      "5 D.O. Penedés-Blanco               D.O. Penedés\n",
      "6 D.O. Penedés-Rosado               D.O. Penedés\n",
      "\n",
      "[1] 115   3\n",
      "\n",
      "             NOMBRESUBFAMILIA             DESCRIPCION    NOMBREFAMILIA\n",
      " Bizcochos           :  1                       :80   Búfala    : 7   \n",
      " Bollería            :  1     Textura del queso :35   Cabra     : 7   \n",
      " Búfala Añejo        :  1                             D.O. Cava : 7   \n",
      " Búfala Curado       :  1                             Mixto     : 7   \n",
      " Búfala Fresco       :  1                             Oveja     : 7   \n",
      " Búfala Pasta blanda :  1                             Vaca      : 7   \n",
      " (Other)             :109                             (Other)   :73   \n"
     ]
    }
   ],
   "source": [
    "nombresubfamilia_header <- c(\"NOMBRESUBFAMILIA\", \"DESCRIPCION\", \"NOMBREFAMILIA\")\n",
    "gourmet.nombresubfamilia <- read_and_show_data(\"subfamilia.cvs\", nombresubfamilia_header)"
   ]
  },
  {
   "cell_type": "markdown",
   "metadata": {},
   "source": [
    "### Taula FAMILIA"
   ]
  },
  {
   "cell_type": "markdown",
   "metadata": {},
   "source": [
    "```\n",
    "CREATE TABLE GOURMET.FAMILIA  (\n",
    "                  NOMBREFAMILIA CHAR(100) NOT NULL ,\n",
    "                  DESCRIPCIÓN CHAR(100) ,\n",
    "                  NOMBRESECCIÓN CHAR(100) NOT NULL )\n",
    "                 IN USERSPACE1 ;\n",
    "\n",
    "import from familia.cvs\n",
    "of del modified by CHARDEL\"\"  COLDEL, DECPT.\n",
    "insert into gourmet.familia;\n",
    "\n",
    "-- DDL Statements for primary key on Table GOURMET.FAMILIA\n",
    "\n",
    "ALTER TABLE GOURMET.FAMILIA\n",
    "        ADD CONSTRAINT CC1187116923569 PRIMARY KEY\n",
    "                (NOMBREFAMILIA);\n",
    "```"
   ]
  },
  {
   "cell_type": "code",
   "execution_count": 12,
   "metadata": {
    "collapsed": false
   },
   "outputs": [
    {
     "name": "stdout",
     "output_type": "stream",
     "text": [
      "[1] \"Visualitzem informació del dataframe familia.cvs\"\n",
      "\n",
      "           NOMBREFAMILIA DESCRIPCION NOMBRESECCION\n",
      "1             D.O. Rioja                    Vinos \n",
      "2           D.O. Penedés                    Vinos \n",
      "3 D.O. Ribera del Duero                     Vinos \n",
      "4         D.O. Somontano                    Vinos \n",
      "5         D.O. Priorato                     Vinos \n",
      "6             D.O. Pfalz                    Vinos \n",
      "\n",
      "[1] 28  3\n",
      "\n",
      "              NOMBREFAMILIA         DESCRIPCION    NOMBRESECCION\n",
      " Búfala              : 1                  :23   Espumosos : 2   \n",
      " Cabra               : 1    Tipo de leche : 5   Licores   : 1   \n",
      " D.O. Alsace         : 1                        Postres   : 2   \n",
      " D.O. Barossa Valley : 1                        Quesos    : 5   \n",
      " D.O. Beaujolais     : 1                        Vinos     :18   \n",
      " D.O. Bordeaux       : 1                                        \n",
      " (Other)             :22                                        \n"
     ]
    }
   ],
   "source": [
    "familia_header <- c(\"NOMBREFAMILIA\", \"DESCRIPCION\", \"NOMBRESECCION\")\n",
    "gourmet.familia <- read_and_show_data(\"familia.cvs\", familia_header)"
   ]
  },
  {
   "cell_type": "markdown",
   "metadata": {},
   "source": [
    "### Taula SECCION"
   ]
  },
  {
   "cell_type": "markdown",
   "metadata": {},
   "source": [
    "```\n",
    "CREATE TABLE GOURMET.SECCION  (\n",
    "                  NOMBRESECCIÓN CHAR(100) NOT NULL ,\n",
    "                  DESCRIPCIÓN CHAR(100) )\n",
    "                 IN USERSPACE1 ;\n",
    "\n",
    "import from seccion.cvs\n",
    "of del modified by CHARDEL\"\"  COLDEL, DECPT.\n",
    "insert into gourmet.seccion;\n",
    "\n",
    "-- DDL Statements for primary key on Table GOURMET.SECCION\n",
    "\n",
    "ALTER TABLE GOURMET.SECCION\n",
    "        ADD CONSTRAINT CC1187117338345 PRIMARY KEY\n",
    "                (NOMBRESECCIÓN);\n",
    "```"
   ]
  },
  {
   "cell_type": "code",
   "execution_count": 13,
   "metadata": {
    "collapsed": false
   },
   "outputs": [
    {
     "name": "stdout",
     "output_type": "stream",
     "text": [
      "[1] \"Visualitzem informació del dataframe seccion.cvs\"\n",
      "\n",
      "  NOMBRESECCION DESCRIPCION\n",
      "1        Vinos           NA\n",
      "2    Espumosos           NA\n",
      "3      Licores           NA\n",
      "4        Quesos          NA\n",
      "5      Postres           NA\n",
      "\n",
      "[1] 5 2\n",
      "\n",
      "    NOMBRESECCION DESCRIPCION   \n",
      " Espumosos :1     Mode:logical  \n",
      " Licores   :1     NA's:5        \n",
      " Postres   :1                   \n",
      " Quesos    :1                   \n",
      " Vinos     :1                   \n"
     ]
    }
   ],
   "source": [
    "seccion_header <- c(\"NOMBRESECCION\", \"DESCRIPCION\")\n",
    "gourmet.seccion <- read_and_show_data(\"seccion.cvs\", seccion_header)"
   ]
  },
  {
   "cell_type": "markdown",
   "metadata": {},
   "source": [
    "### Taula CABECERATICKET"
   ]
  },
  {
   "cell_type": "markdown",
   "metadata": {},
   "source": [
    "```\n",
    "CREATE TABLE GOURMET.CABECERATICKET  (\n",
    "                  CODVENTA CHAR(25) NOT NULL ,\n",
    "                  NOMBRETIENDA CHAR(100) NOT NULL ,\n",
    "                  FECHA DATE NOT NULL ,\n",
    "                  HORA SMALLINT NOT NULL ,\n",
    "                  FORMAPAGO CHAR(100) NOT NULL ,\n",
    "                  CODCLIENTE CHAR(25) ,\n",
    "                  IMPORTETOTAL DECIMAL(8,4) NOT NULL ,\n",
    "                  TOTALUNIDADES SMALLINT NOT NULL ,\n",
    "                  PUNTOSTICKET SMALLINT NOT NULL )\n",
    "                 IN USERSPACE1 ;\n",
    "\n",
    "import from cabeceraticket.cvs\n",
    "of del modified by CHARDEL\"\"  COLDEL, DECPT.\n",
    "insert into gourmet.cabeceraticket;\n",
    "\n",
    "-- DDL Statements for primary key on Table GOURMET.CABECERATICKET\n",
    "\n",
    "ALTER TABLE GOURMET.CABECERATICKET\n",
    "        ADD CONSTRAINT CC1187118498213 PRIMARY KEY\n",
    "                (CODVENTA);\n",
    "```"
   ]
  },
  {
   "cell_type": "code",
   "execution_count": 14,
   "metadata": {
    "collapsed": false
   },
   "outputs": [
    {
     "name": "stdout",
     "output_type": "stream",
     "text": [
      "[1] \"Visualitzem informació del dataframe cabeceraticket.cvs\"\n",
      "\n",
      "   CODVENTA NOMBRETIENDA    FECHA HORA          FORMAPAGO CODCLIENTE\n",
      "1 P20000000     París II 20000918   16 Tarjeta de Crédito           \n",
      "2 P20000001     París II 20000908   17           Efectivo           \n",
      "3 P20065536     París II 20000915   13 Tarjeta de Crédito           \n",
      "4 P20065537     París II 20000915   14 Tarjeta de Crédito           \n",
      "5 P20000002     París II 20000902   10             Cheque           \n",
      "6 P20000003     París II 20001013   11             Cheque           \n",
      "  IMPORTETOTAL TOTALUNIDADES PUNTOSTICKET\n",
      "1      33.1875             3            0\n",
      "2      61.9400             2            1\n",
      "3      26.9175             2            0\n",
      "4      22.9500             3            0\n",
      "5     106.8200             6            1\n",
      "6      49.1300             6            0\n",
      "\n",
      "[1] 74327     9\n",
      "\n",
      "      CODVENTA           NOMBRETIENDA       FECHA            HORA      \n",
      " BA0000000:    1   Londres I   :10652   Min.   :2e+07   Min.   : 9.00  \n",
      " BA0000001:    1   Manhattan I : 8984   1st Qu.:2e+07   1st Qu.:13.00  \n",
      " BA0000002:    1   Londres II  : 6995   Median :2e+07   Median :18.00  \n",
      " BA0000003:    1   Milán       : 6701   Mean   :2e+07   Mean   :17.06  \n",
      " BA0000004:    1   Munich      : 5882   3rd Qu.:2e+07   3rd Qu.:21.00  \n",
      " BA0000005:    1   París I     : 5586   Max.   :2e+07   Max.   :22.00  \n",
      " (Other)  :74321   (Other)     :29527                                  \n",
      "              FORMAPAGO         CODCLIENTE     IMPORTETOTAL    \n",
      " Cheque            :21820            :38810   Min.   :   2.00  \n",
      " Cheque de Turista :  433   2097157G :   48   1st Qu.:  13.79  \n",
      " Efectivo          :15200   3145777T :   48   Median :  29.95  \n",
      " Otra Tarjeta      : 1701   2293787M :   41   Mean   :  45.23  \n",
      " Tarjeta de Crédito:24779   1900549R :   40   3rd Qu.:  54.00  \n",
      " Tarjeta Débito    :10394   3670041C :   39   Max.   :2303.74  \n",
      "                            (Other)  :35301                    \n",
      " TOTALUNIDADES     PUNTOSTICKET    \n",
      " Min.   : 1.000   Min.   : 0.0000  \n",
      " 1st Qu.: 1.000   1st Qu.: 0.0000  \n",
      " Median : 2.000   Median : 0.0000  \n",
      " Mean   : 3.119   Mean   : 0.3423  \n",
      " 3rd Qu.: 4.000   3rd Qu.: 1.0000  \n",
      " Max.   :41.000   Max.   :23.0000  \n",
      "                                   \n"
     ]
    }
   ],
   "source": [
    "cabeceraticket_header <- c(\"CODVENTA\", \"NOMBRETIENDA\", \"FECHA\", \"HORA\", \"FORMAPAGO\", \"CODCLIENTE\"\n",
    "                          , \"IMPORTETOTAL\", \"TOTALUNIDADES\", \"PUNTOSTICKET\")\n",
    "gourmet.cabeceraticket <- read_and_show_data(\"cabeceraticket.cvs\", cabeceraticket_header)"
   ]
  },
  {
   "cell_type": "markdown",
   "metadata": {},
   "source": [
    "### Taula LINEASTICKET"
   ]
  },
  {
   "cell_type": "markdown",
   "metadata": {},
   "source": [
    "```\n",
    "CREATE TABLE GOURMET.LINEASTICKET  (\n",
    "                  CODLINEA SMALLINT NOT NULL ,\n",
    "                  CODVENTA CHAR(25) NOT NULL ,\n",
    "                  NOMBRETIENDA CHAR(100) NOT NULL ,\n",
    "                  CODPRODUCTO CHAR(100) NOT NULL ,\n",
    "                  CANTIDAD SMALLINT NOT NULL ,\n",
    "                  PRECIOVENTA DECIMAL(8,4) NOT NULL ,\n",
    "                  NOMBREPROMOCION CHAR(100) ,\n",
    "                  CODCABECERA INTEGER NOT NULL )\n",
    "                 IN USERSPACE1 ;\n",
    "\n",
    "import from lineasticket.cvs\n",
    "of del modified by CHARDEL\"\"  COLDEL, DECPT. COMMITCOUNT 500\n",
    "insert into gourmet.lineasticket;\n",
    "```"
   ]
  },
  {
   "cell_type": "code",
   "execution_count": 15,
   "metadata": {
    "collapsed": false
   },
   "outputs": [
    {
     "name": "stdout",
     "output_type": "stream",
     "text": [
      "[1] \"Visualitzem informació del dataframe lineasticket.cvs\"\n",
      "\n",
      "  CODLINEA  CODVENTA NOMBRETIENDA CODPRODUCTO CANTIDAD PRECIOVENTA\n",
      "1        1 RO0196608         Roma      123CB         1       3.990\n",
      "2        1 RO0196609         Roma      267BP         1       8.800\n",
      "3        2 RO0065539         Roma      079MA         1       4.975\n",
      "4        3 RO0065539         Roma      158TR         2      11.450\n",
      "5        4 RO0065539         Roma      283BC         2      29.950\n",
      "6        1 RO0131072         Roma      208ME         1      26.200\n",
      "  NOMBREPROMOCION CODCABECERA\n",
      "1                       13641\n",
      "2                       13642\n",
      "3                       13638\n",
      "4                       13638\n",
      "5                       13638\n",
      "6                       13639\n",
      "\n",
      "[1] 174671      8\n",
      "\n",
      "    CODLINEA           CODVENTA            NOMBRETIENDA    CODPRODUCTO    \n",
      " Min.   : 1.000   M15505039:    15   Londres I   :29803   022CA  :  6409  \n",
      " 1st Qu.: 1.000   M12031696:    14   Manhattan I :23642   125CT  :  6158  \n",
      " Median : 2.000   L13801129:    13   Londres II  :15367   122TI  :  5448  \n",
      " Mean   : 2.135   M12883623:    13   Milán       :14618   262BO  :  5060  \n",
      " 3rd Qu.: 3.000   M13407976:    13   Munich      :13207   145TG  :  4922  \n",
      " Max.   :15.000   MB1048604:    13   París I     :12806   283BC  :  4752  \n",
      "                  (Other)  :174590   (Other)     :65228   (Other):141922  \n",
      "    CANTIDAD      PRECIOVENTA                      NOMBREPROMOCION  \n",
      " Min.   :1.000   Min.   :  0.000                           :172922  \n",
      " 1st Qu.:1.000   1st Qu.:  5.725   Carquiñolis-GranReserva :     3  \n",
      " Median :1.000   Median :  9.588   Chocolate-Champagne     :   117  \n",
      " Mean   :1.329   Mean   : 14.454   Mahon-Chardonnay        :   109  \n",
      " 3rd Qu.:1.000   3rd Qu.: 19.380   Merlot Introduction     :   876  \n",
      " Max.   :7.000   Max.   :899.000   Semillon 5%             :   644  \n",
      "                                                                    \n",
      "  CODCABECERA   \n",
      " Min.   :13527  \n",
      " 1st Qu.:32332  \n",
      " Median :50578  \n",
      " Mean   :50679  \n",
      " 3rd Qu.:69085  \n",
      " Max.   :87853  \n",
      "                \n"
     ]
    }
   ],
   "source": [
    "lineasticket_header <- c(\"CODLINEA\", \"CODVENTA\", \"NOMBRETIENDA\", \"CODPRODUCTO\", \"CANTIDAD\", \"PRECIOVENTA\"\n",
    "                          , \"NOMBREPROMOCION\", \"CODCABECERA\")\n",
    "gourmet.lineasticket <- read_and_show_data(\"lineasticket.cvs\", lineasticket_header)"
   ]
  },
  {
   "cell_type": "markdown",
   "metadata": {},
   "source": [
    "### Taula PROMOCION"
   ]
  },
  {
   "cell_type": "markdown",
   "metadata": {},
   "source": [
    "```\n",
    "CREATE TABLE GOURMET.PROMOCION  (\n",
    "                  NOMBREPROMOCION CHAR(100) NOT NULL ,\n",
    "                  TIPOPROMOCION CHAR(100) NOT NULL ,\n",
    "                  COSTE SMALLINT ,\n",
    "                  FECHAINICIO DATE NOT NULL ,\n",
    "                  FECHAFIN DATE NOT NULL ,\n",
    "                  CODPRODUCTO CHAR(25) NOT NULL ,\n",
    "                  NOMBREFAMILIA CHAR(25) ,\n",
    "                  NOMBRESECCIÓN CHAR(25) ,\n",
    "                  NOMBRETIENDA CHAR(25) ,\n",
    "                  NOMBREREGION CHAR(25) ,\n",
    "                  NOMBREPAIS CHAR(25) )\n",
    "                 IN USERSPACE1 ;\n",
    "\n",
    "import from promocion.cvs\n",
    "of del modified by CHARDEL\"\"  COLDEL, DECPT.\n",
    "insert into gourmet.promocion;\n",
    "\n",
    "-- DDL Statements for primary key on Table GOURMET.PROMOCION\n",
    "\n",
    "ALTER TABLE GOURMET.PROMOCION\n",
    "        ADD CONSTRAINT CC1187123330592 PRIMARY KEY\n",
    "                (NOMBREPROMOCION);\n",
    "```"
   ]
  },
  {
   "cell_type": "code",
   "execution_count": 16,
   "metadata": {
    "collapsed": false
   },
   "outputs": [
    {
     "name": "stdout",
     "output_type": "stream",
     "text": [
      "[1] \"Visualitzem informació del dataframe promocion.cvs\"\n",
      "\n",
      "           NOMBREPROMOCION TIPOPROMOCION COSTE FECHAINICIO FECHAFIN CODPRODUCTO\n",
      "1             Semillon 5%   Descuento 5%    NA    20000901 20000930       295GS\n",
      "2     Merlot Introduction           3x2     NA    20001001 20001031       308ME\n",
      "3         Mahon-Chardonnay      Cruzada     NA    20001001 20001031       077MA\n",
      "4 Carquiñolis-GranReserva       Cruzada     NA    20001101 20001130       108CA\n",
      "5     Chocolate-Champagne       Cruzada     NA    20001101 20001130       123CB\n",
      "  NOMBREFAMILIA NOMBRESECCIÓN NOMBRETIENDA NOMBREREGION NOMBREPAIS\n",
      "1            NA            NA                        NA         NA\n",
      "2            NA            NA                        NA         NA\n",
      "3            NA            NA  Manhattan I           NA         NA\n",
      "4            NA            NA    Barcelona           NA         NA\n",
      "5            NA            NA    Londres I           NA         NA\n",
      "\n",
      "[1]  5 11\n",
      "\n",
      "                 NOMBREPROMOCION      TIPOPROMOCION  COSTE        \n",
      " Carquiñolis-GranReserva :1      3x2         :1     Mode:logical  \n",
      " Chocolate-Champagne     :1      Cruzada     :3     NA's:5        \n",
      " Mahon-Chardonnay        :1      Descuento 5%:1                   \n",
      " Merlot Introduction     :1                                       \n",
      " Semillon 5%             :1                                       \n",
      "                                                                  \n",
      "  FECHAINICIO       FECHAFIN     CODPRODUCTO NOMBREFAMILIA  NOMBRESECCIÓN \n",
      " Min.   :2e+07   Min.   :2e+07   077MA:1     Mode:logical   Mode:logical  \n",
      " 1st Qu.:2e+07   1st Qu.:2e+07   108CA:1     NA's:5         NA's:5        \n",
      " Median :2e+07   Median :2e+07   123CB:1                                  \n",
      " Mean   :2e+07   Mean   :2e+07   295GS:1                                  \n",
      " 3rd Qu.:2e+07   3rd Qu.:2e+07   308ME:1                                  \n",
      " Max.   :2e+07   Max.   :2e+07                                            \n",
      "      NOMBRETIENDA NOMBREREGION   NOMBREPAIS    \n",
      "            :2     Mode:logical   Mode:logical  \n",
      " Barcelona  :1     NA's:5         NA's:5        \n",
      " Londres I  :1                                  \n",
      " Manhattan I:1                                  \n",
      "                                                \n",
      "                                                \n"
     ]
    }
   ],
   "source": [
    "promocion_header <- c(\"NOMBREPROMOCION\", \"TIPOPROMOCION\", \"COSTE\", \"FECHAINICIO\", \"FECHAFIN\", \"CODPRODUCTO\", \n",
    "                      \"NOMBREFAMILIA\", \"NOMBRESECCIÓN\", \"NOMBRETIENDA\", \"NOMBREREGION\", \"NOMBREPAIS\")\n",
    "gourmet.promocion <- read_and_show_data(\"promocion.cvs\", promocion_header)"
   ]
  },
  {
   "cell_type": "markdown",
   "metadata": {},
   "source": [
    "### Taula PEDIDO"
   ]
  },
  {
   "cell_type": "markdown",
   "metadata": {},
   "source": [
    "```\n",
    "CREATE TABLE GOURMET.PEDIDO  (\n",
    "                  CODPEDIDO CHAR(25) NOT NULL ,\n",
    "                  NOMBRETIENDA CHAR(25) NOT NULL ,\n",
    "                  CODPRODUCTO CHAR(25) NOT NULL ,\n",
    "                  PRECIOCOMPRA DECIMAL(8,4) NOT NULL ,\n",
    "                  CANTIDADSOLICITADA SMALLINT NOT NULL ,\n",
    "                  FECHASOLICITUD DATE NOT NULL ,\n",
    "                  CANTIDADENTREGADA SMALLINT NOT NULL ,\n",
    "                  FECHAENTREGA DATE NOT NULL )\n",
    "                 IN USERSPACE1 ;\n",
    "\n",
    "import from pedido.cvs\n",
    "of del modified by CHARDEL\"\"  COLDEL, DECPT.\n",
    "insert into gourmet.pedido;\n",
    "\n",
    "-- DDL Statements for primary key on Table GOURMET.PEDIDO\n",
    "\n",
    "ALTER TABLE GOURMET.PEDIDO\n",
    "        ADD CONSTRAINT CC1187124047993 PRIMARY KEY\n",
    "                (CODPEDIDO);\n",
    "```"
   ]
  },
  {
   "cell_type": "code",
   "execution_count": 17,
   "metadata": {
    "collapsed": false
   },
   "outputs": [
    {
     "name": "stdout",
     "output_type": "stream",
     "text": [
      "[1] \"Visualitzem informació del dataframe pedido.cvs\"\n",
      "\n",
      "  CODPEDIDO NOMBRETIENDA CODPRODUCTO PRECIOCOMPRA CANTIDADSOLICITADA\n",
      "1     82207    Florencia       137TR        16.00                 12\n",
      "2     70595        Milán       219SY        18.28                 12\n",
      "3     93196  Miami Beach       335GB         9.31                 12\n",
      "4     66160      París I       305CH        18.03                 12\n",
      "5     55187        Roma        266BP         4.79                 12\n",
      "6     35933  Manhattan I       166TR         5.08                 12\n",
      "  FECHASOLICITUD CANTIDADENTREGADA FECHAENTREGA\n",
      "1       20000801                12     20000821\n",
      "2       20000801                12     20000821\n",
      "3       20000801                12     20000821\n",
      "4       20000801                12     20000821\n",
      "5       20000801                12     20000821\n",
      "6       20000801                12     20000821\n",
      "\n",
      "[1] 8882    8\n",
      "\n",
      "   CODPEDIDO          NOMBRETIENDA   CODPRODUCTO    PRECIOCOMPRA    \n",
      " Min.   :    4   Londres I  : 708   022CA  :  60   Min.   :  1.400  \n",
      " 1st Qu.:25867   Manhattan I: 660   023CH  :  60   1st Qu.:  3.930  \n",
      " Median :50868   París I    : 653   040ED  :  60   Median :  5.250  \n",
      " Mean   :50512   Londres II : 633   060PR  :  60   Mean   :  8.199  \n",
      " 3rd Qu.:75395   Miami Beach: 610   079MA  :  60   3rd Qu.:  8.480  \n",
      " Max.   :99994   Munich     : 599   088SG  :  60   Max.   :558.580  \n",
      "                 (Other)    :5019   (Other):8522                    \n",
      " CANTIDADSOLICITADA FECHASOLICITUD  CANTIDADENTREGADA  FECHAENTREGA    \n",
      " Min.   :  10.00    Min.   :2e+07   Min.   :   0.00   Min.   :1.9e+07  \n",
      " 1st Qu.:  10.00    1st Qu.:2e+07   1st Qu.:  10.00   1st Qu.:2.0e+07  \n",
      " Median :  12.00    Median :2e+07   Median :  12.00   Median :2.0e+07  \n",
      " Mean   :  26.13    Mean   :2e+07   Mean   :  26.08   Mean   :2.0e+07  \n",
      " 3rd Qu.:  24.00    3rd Qu.:2e+07   3rd Qu.:  24.00   3rd Qu.:2.0e+07  \n",
      " Max.   :1752.00    Max.   :2e+07   Max.   :1752.00   Max.   :2.0e+07  \n",
      "                                                                       \n"
     ]
    }
   ],
   "source": [
    "pedido_header <- c(\"CODPEDIDO\", \"NOMBRETIENDA\", \"CODPRODUCTO\", \"PRECIOCOMPRA\", \"CANTIDADSOLICITADA\", \"FECHASOLICITUD\", \n",
    "                      \"CANTIDADENTREGADA\", \"FECHAENTREGA\")\n",
    "gourmet.pedido <- read_and_show_data(\"pedido.cvs\", pedido_header)"
   ]
  },
  {
   "cell_type": "markdown",
   "metadata": {},
   "source": [
    "## Claus foranes"
   ]
  },
  {
   "cell_type": "markdown",
   "metadata": {},
   "source": [
    "Un cop carregades totes les dades, de tal manera que les dades de cada taula de la base de dades s'han carregat en un dataframe diferent, seguim mirant quina altra informació conté el script SQL. El que ens trobem són diferents comandes que especifiquen les claus foranes de les taules de la base de dades. Per exemle, aquesta és la primera comanda:"
   ]
  },
  {
   "cell_type": "markdown",
   "metadata": {},
   "source": [
    "```\n",
    "-- DDL Statements for foreign keys on Table GOURMET.TIENDA\n",
    "\n",
    "ALTER TABLE GOURMET.TIENDA\n",
    "        ADD CONSTRAINT CC1186736993542 FOREIGN KEY\n",
    "                (PAIS)\n",
    "        REFERENCES GOURMET.PAIS\n",
    "                (NOMBREPAIS)\n",
    "        ON DELETE RESTRICT\n",
    "        ON UPDATE RESTRICT\n",
    "        ENFORCED\n",
    "        ENABLE QUERY OPTIMIZATION;\n",
    "```"
   ]
  },
  {
   "cell_type": "markdown",
   "metadata": {},
   "source": [
    "El que ens diu això és que la taula __TIENDA__ té el seu atribut __PAIS__ que és una clau forana que referencia l'atribut __NOMBREPAIS__ de la taula __PAIS__. Si mirem la resta de comandes tenim la segúent llista de claus foranes:\n",
    "\n",
    "- TIENDA > PAIS:                  PAIS > NOMBREPAIS\n",
    "- PAIS > NOMBREREGION:            REGIONGEOGRAFICA > NOMBREREGION\n",
    "- PRODUCTO > CODPROVEEDOR:        PROVEEDOR > CODPROVEEDOR\n",
    "- PRODUCTO > NOMBRESUBFAMILIA:    NOMBRESUBFAMILIA > NOMBRESUBFAMILIA\n",
    "- FAMILIA > NOMBRESUBSECCION:     SECCION > NOMBRESUBSECCION\n",
    "- CABECERATICKET > NOMBRETIENDA:  TIENDA > NOMBRE\n",
    "- CABECERATICKET > CODCLIENTE:    CLIENTE > CODCLIENTE\n",
    "- LINEASTICKET > CODPRODUCTO:     PRODUCTO > CODPRODUCTO\n",
    "- LINEASTICKET > CODVENTA:        CABECERATICKET > CODVENTA\n",
    "- LINEASTICKET > NOMBREPROMOCION: PROMOCION > NOMBREPROMOCION\n",
    "- PEDIDO > NOMBRETIENDA:          TIENDA > NOMBRE\n",
    "- PEDIDO > CODPRODUCTO:           PRODUCTO > CODPRODUCTO\n"
   ]
  },
  {
   "cell_type": "markdown",
   "metadata": {},
   "source": [
    "## Regles d'asociació"
   ]
  },
  {
   "cell_type": "markdown",
   "metadata": {},
   "source": [
    "Veiem que l'empresa del client a vegades sol fer promocions. Les promocions són una bona eina per tal d'aconseguir més ventes. Podriem ajudar al client dissenyant un sistema predictiu basat en regles d'asociació. D'aquestes regles es pot treure un coneixement molt interessant. L'empresa del client podria emprar aquestes regles per detectar les comandes en les que hi \"manquen\" productes que es solen comprar junts amb els que hi ha a la comanda. Així, les botigues poden preveure, amb una alta probabilitat, que en la pròxima comanda el client inclourà aquests productes que ara hi manquen, i això les botigues ho poden aprofitar per oferir al client uns vals de descompte en aquests productes, que així poden fer d'esquer per propiciar pròximes comandes.\n",
    "\n",
    "Per realitzar aquest sistema basat en regles d'asociació ens calen les dades de les ventes que es fan, amb informació de les comandes, els productes comprats i el client concret. Aquesta informació la tenim a la taula __LINEASTIQUET__, que nosaltres tenim al dataframe __gourmet.lineasticket__. Anem a tornar a veure la informació interessant d'aquest dataframe:"
   ]
  },
  {
   "cell_type": "code",
   "execution_count": 18,
   "metadata": {
    "collapsed": false
   },
   "outputs": [
    {
     "data": {
      "text/html": [
       "<ol class=list-inline>\n",
       "\t<li>174671</li>\n",
       "\t<li>8</li>\n",
       "</ol>\n"
      ],
      "text/latex": [
       "\\begin{enumerate*}\n",
       "\\item 174671\n",
       "\\item 8\n",
       "\\end{enumerate*}\n"
      ],
      "text/markdown": [
       "1. 174671\n",
       "2. 8\n",
       "\n",
       "\n"
      ],
      "text/plain": [
       "[1] 174671      8"
      ]
     },
     "metadata": {},
     "output_type": "display_data"
    }
   ],
   "source": [
    "dim(gourmet.lineasticket)"
   ]
  },
  {
   "cell_type": "markdown",
   "metadata": {},
   "source": [
    "Aquest dataframe té 174.671 files amb 6 atributs. Passem a veure l'aspecte de les dades amb la funció *head()*:"
   ]
  },
  {
   "cell_type": "code",
   "execution_count": 19,
   "metadata": {
    "collapsed": false
   },
   "outputs": [
    {
     "data": {
      "text/html": [
       "<table>\n",
       "<thead><tr><th scope=col>CODLINEA</th><th scope=col>CODVENTA</th><th scope=col>NOMBRETIENDA</th><th scope=col>CODPRODUCTO</th><th scope=col>CANTIDAD</th><th scope=col>PRECIOVENTA</th><th scope=col>NOMBREPROMOCION</th><th scope=col>CODCABECERA</th></tr></thead>\n",
       "<tbody>\n",
       "\t<tr><td>1        </td><td>RO0196608</td><td>Roma     </td><td>123CB    </td><td>1        </td><td> 3.990   </td><td>         </td><td>13641    </td></tr>\n",
       "\t<tr><td>1        </td><td>RO0196609</td><td>Roma     </td><td>267BP    </td><td>1        </td><td> 8.800   </td><td>         </td><td>13642    </td></tr>\n",
       "\t<tr><td>2        </td><td>RO0065539</td><td>Roma     </td><td>079MA    </td><td>1        </td><td> 4.975   </td><td>         </td><td>13638    </td></tr>\n",
       "\t<tr><td>3        </td><td>RO0065539</td><td>Roma     </td><td>158TR    </td><td>2        </td><td>11.450   </td><td>         </td><td>13638    </td></tr>\n",
       "\t<tr><td>4        </td><td>RO0065539</td><td>Roma     </td><td>283BC    </td><td>2        </td><td>29.950   </td><td>         </td><td>13638    </td></tr>\n",
       "\t<tr><td>1        </td><td>RO0131072</td><td>Roma     </td><td>208ME    </td><td>1        </td><td>26.200   </td><td>         </td><td>13639    </td></tr>\n",
       "</tbody>\n",
       "</table>\n"
      ],
      "text/latex": [
       "\\begin{tabular}{r|llllllll}\n",
       " CODLINEA & CODVENTA & NOMBRETIENDA & CODPRODUCTO & CANTIDAD & PRECIOVENTA & NOMBREPROMOCION & CODCABECERA\\\\\n",
       "\\hline\n",
       "\t 1         & RO0196608 & Roma      & 123CB     & 1         &  3.990    &           & 13641    \\\\\n",
       "\t 1         & RO0196609 & Roma      & 267BP     & 1         &  8.800    &           & 13642    \\\\\n",
       "\t 2         & RO0065539 & Roma      & 079MA     & 1         &  4.975    &           & 13638    \\\\\n",
       "\t 3         & RO0065539 & Roma      & 158TR     & 2         & 11.450    &           & 13638    \\\\\n",
       "\t 4         & RO0065539 & Roma      & 283BC     & 2         & 29.950    &           & 13638    \\\\\n",
       "\t 1         & RO0131072 & Roma      & 208ME     & 1         & 26.200    &           & 13639    \\\\\n",
       "\\end{tabular}\n"
      ],
      "text/markdown": [
       "\n",
       "CODLINEA | CODVENTA | NOMBRETIENDA | CODPRODUCTO | CANTIDAD | PRECIOVENTA | NOMBREPROMOCION | CODCABECERA | \n",
       "|---|---|---|---|---|---|\n",
       "| 1         | RO0196608 | Roma      | 123CB     | 1         |  3.990    |           | 13641     | \n",
       "| 1         | RO0196609 | Roma      | 267BP     | 1         |  8.800    |           | 13642     | \n",
       "| 2         | RO0065539 | Roma      | 079MA     | 1         |  4.975    |           | 13638     | \n",
       "| 3         | RO0065539 | Roma      | 158TR     | 2         | 11.450    |           | 13638     | \n",
       "| 4         | RO0065539 | Roma      | 283BC     | 2         | 29.950    |           | 13638     | \n",
       "| 1         | RO0131072 | Roma      | 208ME     | 1         | 26.200    |           | 13639     | \n",
       "\n",
       "\n"
      ],
      "text/plain": [
       "  CODLINEA CODVENTA  NOMBRETIENDA CODPRODUCTO CANTIDAD PRECIOVENTA\n",
       "1 1        RO0196608 Roma         123CB       1         3.990     \n",
       "2 1        RO0196609 Roma         267BP       1         8.800     \n",
       "3 2        RO0065539 Roma         079MA       1         4.975     \n",
       "4 3        RO0065539 Roma         158TR       2        11.450     \n",
       "5 4        RO0065539 Roma         283BC       2        29.950     \n",
       "6 1        RO0131072 Roma         208ME       1        26.200     \n",
       "  NOMBREPROMOCION CODCABECERA\n",
       "1                 13641      \n",
       "2                 13642      \n",
       "3                 13638      \n",
       "4                 13638      \n",
       "5                 13638      \n",
       "6                 13639      "
      ]
     },
     "metadata": {},
     "output_type": "display_data"
    }
   ],
   "source": [
    "head(gourmet.lineasticket)"
   ]
  },
  {
   "cell_type": "markdown",
   "metadata": {},
   "source": [
    "Mirem també el sumari estadístic de les dades, amb la funció *summary()*:"
   ]
  },
  {
   "cell_type": "code",
   "execution_count": 20,
   "metadata": {
    "collapsed": false
   },
   "outputs": [
    {
     "data": {
      "text/plain": [
       "    CODLINEA           CODVENTA            NOMBRETIENDA    CODPRODUCTO    \n",
       " Min.   : 1.000   M15505039:    15   Londres I   :29803   022CA  :  6409  \n",
       " 1st Qu.: 1.000   M12031696:    14   Manhattan I :23642   125CT  :  6158  \n",
       " Median : 2.000   L13801129:    13   Londres II  :15367   122TI  :  5448  \n",
       " Mean   : 2.135   M12883623:    13   Milán       :14618   262BO  :  5060  \n",
       " 3rd Qu.: 3.000   M13407976:    13   Munich      :13207   145TG  :  4922  \n",
       " Max.   :15.000   MB1048604:    13   París I     :12806   283BC  :  4752  \n",
       "                  (Other)  :174590   (Other)     :65228   (Other):141922  \n",
       "    CANTIDAD      PRECIOVENTA                      NOMBREPROMOCION  \n",
       " Min.   :1.000   Min.   :  0.000                           :172922  \n",
       " 1st Qu.:1.000   1st Qu.:  5.725   Carquiñolis-GranReserva :     3  \n",
       " Median :1.000   Median :  9.588   Chocolate-Champagne     :   117  \n",
       " Mean   :1.329   Mean   : 14.454   Mahon-Chardonnay        :   109  \n",
       " 3rd Qu.:1.000   3rd Qu.: 19.380   Merlot Introduction     :   876  \n",
       " Max.   :7.000   Max.   :899.000   Semillon 5%             :   644  \n",
       "                                                                    \n",
       "  CODCABECERA   \n",
       " Min.   :13527  \n",
       " 1st Qu.:32332  \n",
       " Median :50578  \n",
       " Mean   :50679  \n",
       " 3rd Qu.:69085  \n",
       " Max.   :87853  \n",
       "                "
      ]
     },
     "metadata": {},
     "output_type": "display_data"
    }
   ],
   "source": [
    "summary(gourmet.lineasticket)"
   ]
  },
  {
   "cell_type": "markdown",
   "metadata": {},
   "source": [
    "Al summary veiem que no hi ha atributs que mostrin valors NAs a les seves dades. Anem a veure certa informació sobre les dades que ens interessen: les vendes concretes que es fan, els codis de les capçaleres de les vendes, i els productes diferents que es venen. Els dos primers ens hauien de donar el mateix valor, ja que es tracta de dades que fan referència a la mateixa informació. Anem a veure-ho: "
   ]
  },
  {
   "cell_type": "code",
   "execution_count": 21,
   "metadata": {
    "collapsed": false
   },
   "outputs": [
    {
     "data": {
      "text/html": [
       "74327"
      ],
      "text/latex": [
       "74327"
      ],
      "text/markdown": [
       "74327"
      ],
      "text/plain": [
       "[1] 74327"
      ]
     },
     "metadata": {},
     "output_type": "display_data"
    },
    {
     "data": {
      "text/html": [
       "74327"
      ],
      "text/latex": [
       "74327"
      ],
      "text/markdown": [
       "74327"
      ],
      "text/plain": [
       "[1] 74327"
      ]
     },
     "metadata": {},
     "output_type": "display_data"
    },
    {
     "data": {
      "text/html": [
       "338"
      ],
      "text/latex": [
       "338"
      ],
      "text/markdown": [
       "338"
      ],
      "text/plain": [
       "[1] 338"
      ]
     },
     "metadata": {},
     "output_type": "display_data"
    },
    {
     "data": {
      "text/html": [
       "74327"
      ],
      "text/latex": [
       "74327"
      ],
      "text/markdown": [
       "74327"
      ],
      "text/plain": [
       "[1] 74327"
      ]
     },
     "metadata": {},
     "output_type": "display_data"
    }
   ],
   "source": [
    "num_sales <- dim(unique(subset(gourmet.lineasticket, select=c('CODVENTA'))))[1]\n",
    "num_headers <- dim(unique(subset(gourmet.lineasticket, select=c('CODCABECERA'))))[1]\n",
    "num_products <- dim(unique(subset(gourmet.lineasticket, select=c('CODPRODUCTO'))))[1]\n",
    "\n",
    "\n",
    "num_sales\n",
    "num_headers\n",
    "num_products\n",
    "num_headers"
   ]
  },
  {
   "cell_type": "markdown",
   "metadata": {},
   "source": [
    "Efectivament, veiem que la informació dels atributs __CODVENTA__ i __CODCABECERA__ és redundant. Tenim 74.327 ventes i 338 productes diferents. "
   ]
  },
  {
   "cell_type": "markdown",
   "metadata": {},
   "source": [
    "Ara volem una llista per cada factura o venta amb els ítems que la componen. Eliminem la resta d'atributs:"
   ]
  },
  {
   "cell_type": "code",
   "execution_count": 22,
   "metadata": {
    "collapsed": true
   },
   "outputs": [],
   "source": [
    "items_per_invoice <- split(x=gourmet.lineasticket[,\"CODPRODUCTO\"],f=gourmet.lineasticket$CODVENTA)"
   ]
  },
  {
   "cell_type": "markdown",
   "metadata": {},
   "source": [
    "Ara anem a veure quin aspecte té aquesta llista:"
   ]
  },
  {
   "cell_type": "code",
   "execution_count": 23,
   "metadata": {
    "collapsed": false
   },
   "outputs": [
    {
     "data": {
      "text/html": [
       "<dl>\n",
       "\t<dt>$BA0000000</dt>\n",
       "\t\t<dd><ol class=list-inline>\n",
       "\t<li>216SG </li>\n",
       "\t<li>321SW </li>\n",
       "\t<li>030MI </li>\n",
       "</ol>\n",
       "</dd>\n",
       "\t<dt>$BA0000001</dt>\n",
       "\t\t<dd><ol class=list-inline>\n",
       "\t<li>123CB </li>\n",
       "\t<li>082QC </li>\n",
       "\t<li>042GO </li>\n",
       "</ol>\n",
       "</dd>\n",
       "\t<dt>$BA0000002</dt>\n",
       "\t\t<dd>176TR </dd>\n",
       "\t<dt>$BA0000003</dt>\n",
       "\t\t<dd>082QC </dd>\n",
       "\t<dt>$BA0000004</dt>\n",
       "\t\t<dd>312CB </dd>\n",
       "\t<dt>$BA0000005</dt>\n",
       "\t\t<dd>135TR </dd>\n",
       "</dl>\n"
      ],
      "text/latex": [
       "\\begin{description}\n",
       "\\item[\\$BA0000000] \\begin{enumerate*}\n",
       "\\item 216SG \n",
       "\\item 321SW \n",
       "\\item 030MI \n",
       "\\end{enumerate*}\n",
       "\n",
       "\\item[\\$BA0000001] \\begin{enumerate*}\n",
       "\\item 123CB \n",
       "\\item 082QC \n",
       "\\item 042GO \n",
       "\\end{enumerate*}\n",
       "\n",
       "\\item[\\$BA0000002] 176TR \n",
       "\\item[\\$BA0000003] 082QC \n",
       "\\item[\\$BA0000004] 312CB \n",
       "\\item[\\$BA0000005] 135TR \n",
       "\\end{description}\n"
      ],
      "text/markdown": [
       "$BA0000000\n",
       ":   1. 216SG \n",
       "2. 321SW \n",
       "3. 030MI \n",
       "\n",
       "\n",
       "\n",
       "$BA0000001\n",
       ":   1. 123CB \n",
       "2. 082QC \n",
       "3. 042GO \n",
       "\n",
       "\n",
       "\n",
       "$BA0000002\n",
       ":   176TR \n",
       "$BA0000003\n",
       ":   082QC \n",
       "$BA0000004\n",
       ":   312CB \n",
       "$BA0000005\n",
       ":   135TR \n",
       "\n",
       "\n"
      ],
      "text/plain": [
       "$BA0000000\n",
       "[1] 216SG  321SW  030MI \n",
       "338 Levels: 001CH  002CO  003CL  004DG  005HU  006MB  007RL  008MC  ... 339CO \n",
       "\n",
       "$BA0000001\n",
       "[1] 123CB  082QC  042GO \n",
       "338 Levels: 001CH  002CO  003CL  004DG  005HU  006MB  007RL  008MC  ... 339CO \n",
       "\n",
       "$BA0000002\n",
       "[1] 176TR \n",
       "338 Levels: 001CH  002CO  003CL  004DG  005HU  006MB  007RL  008MC  ... 339CO \n",
       "\n",
       "$BA0000003\n",
       "[1] 082QC \n",
       "338 Levels: 001CH  002CO  003CL  004DG  005HU  006MB  007RL  008MC  ... 339CO \n",
       "\n",
       "$BA0000004\n",
       "[1] 312CB \n",
       "338 Levels: 001CH  002CO  003CL  004DG  005HU  006MB  007RL  008MC  ... 339CO \n",
       "\n",
       "$BA0000005\n",
       "[1] 135TR \n",
       "338 Levels: 001CH  002CO  003CL  004DG  005HU  006MB  007RL  008MC  ... 339CO \n"
      ]
     },
     "metadata": {},
     "output_type": "display_data"
    }
   ],
   "source": [
    "head(items_per_invoice)"
   ]
  },
  {
   "cell_type": "markdown",
   "metadata": {},
   "source": [
    "Veiem que per cada factura es mostra una llista amb els ítems que conté. A continuació, si hi ha duplicats els eliminen, encara que per la pròpia natura de les dades és poc provable que hi pugui haver duplicats:"
   ]
  },
  {
   "cell_type": "code",
   "execution_count": 24,
   "metadata": {
    "collapsed": false
   },
   "outputs": [],
   "source": [
    "items_per_invoice <- lapply(items_per_invoice,unique)"
   ]
  },
  {
   "cell_type": "markdown",
   "metadata": {},
   "source": [
    "El dataframe gourmetdb.cabeceraticket conté les dades dls tickets. Mirant el sumari del seu atribut __TOTALUNIDADES__ podem veure la estadística de les unitats que composen les ventes. "
   ]
  },
  {
   "cell_type": "code",
   "execution_count": 25,
   "metadata": {
    "collapsed": false
   },
   "outputs": [
    {
     "data": {
      "text/plain": [
       "   Min. 1st Qu.  Median    Mean 3rd Qu.    Max. \n",
       "  1.000   1.000   2.000   3.119   4.000  41.000 "
      ]
     },
     "metadata": {},
     "output_type": "display_data"
    }
   ],
   "source": [
    "summary(gourmet.cabeceraticket$TOTALUNIDADES)"
   ]
  },
  {
   "cell_type": "markdown",
   "metadata": {},
   "source": [
    "Tenim que de mitjana hi ha algó més de 3 articles per ticket, amb un màxim de 41."
   ]
  },
  {
   "cell_type": "markdown",
   "metadata": {},
   "source": [
    "A continuació passem a binaritzar les dades. Per això, primer, cal carregar el paquet arules:"
   ]
  },
  {
   "cell_type": "code",
   "execution_count": 26,
   "metadata": {
    "collapsed": false
   },
   "outputs": [
    {
     "name": "stdout",
     "output_type": "stream",
     "text": [
      "package 'arules' successfully unpacked and MD5 sums checked\n",
      "\n",
      "The downloaded binary packages are in\n",
      "\tC:\\Users\\Lluís\\AppData\\Local\\Temp\\RtmpKmgUyv\\downloaded_packages\n"
     ]
    }
   ],
   "source": [
    "install.packages(\"arules\", repos = \"http://cran.us.r-project.org\")"
   ]
  },
  {
   "cell_type": "markdown",
   "metadata": {},
   "source": [
    "I ara carreguem aquest paquet:"
   ]
  },
  {
   "cell_type": "code",
   "execution_count": 27,
   "metadata": {
    "collapsed": false
   },
   "outputs": [
    {
     "name": "stderr",
     "output_type": "stream",
     "text": [
      "Warning message:\n",
      "\"package 'arules' was built under R version 3.4.3\"Loading required package: Matrix\n",
      "Warning message:\n",
      "\"package 'Matrix' was built under R version 3.4.3\"\n",
      "Attaching package: 'arules'\n",
      "\n",
      "The following objects are masked from 'package:base':\n",
      "\n",
      "    abbreviate, write\n",
      "\n"
     ]
    }
   ],
   "source": [
    "library(arules)"
   ]
  },
  {
   "cell_type": "code",
   "execution_count": 28,
   "metadata": {
    "collapsed": false
   },
   "outputs": [],
   "source": [
    "items_per_invoice <- as(items_per_invoice, \"transactions\")"
   ]
  },
  {
   "cell_type": "code",
   "execution_count": 29,
   "metadata": {
    "collapsed": false
   },
   "outputs": [
    {
     "data": {
      "text/plain": [
       "transactions in sparse format with\n",
       " 74327 transactions (rows) and\n",
       " 338 items (columns)"
      ]
     },
     "metadata": {},
     "output_type": "display_data"
    }
   ],
   "source": [
    "items_per_invoice"
   ]
  },
  {
   "cell_type": "markdown",
   "metadata": {},
   "source": [
    "Anem primer a explorar les dades abans de construir les regles. Mostrem un gràfic amb les freqüències dels 20 ítems més nombrosos:"
   ]
  },
  {
   "cell_type": "code",
   "execution_count": 30,
   "metadata": {
    "collapsed": false
   },
   "outputs": [
    {
     "data": {
      "image/png": "[encoded data removed]",
      "text/plain": [
       "plot without title"
      ]
     },
     "metadata": {},
     "output_type": "display_data"
    }
   ],
   "source": [
    "itemFrequencyPlot(items_per_invoice, topN=20, type=\"absolute\")"
   ]
  },
  {
   "cell_type": "markdown",
   "metadata": {},
   "source": [
    "A continuació anem a veure un sumari de les dades:"
   ]
  },
  {
   "cell_type": "code",
   "execution_count": 31,
   "metadata": {
    "collapsed": false
   },
   "outputs": [
    {
     "data": {
      "text/plain": [
       "transactions as itemMatrix in sparse format with\n",
       " 74327 rows (elements/itemsets/transactions) and\n",
       " 338 columns (items) and a density of 0.00676998 \n",
       "\n",
       "most frequent items:\n",
       " 022CA   125CT   262BO   145TG   283BC  (Other) \n",
       "   6182    5156    4877    4791    4582  144491 \n",
       "\n",
       "element (itemset/transaction) length distribution:\n",
       "sizes\n",
       "    1     2     3     4     5     6     7     8     9    10    11 \n",
       "24952 23990 13534  6693  2819  1296   619   286   103    31     4 \n",
       "\n",
       "   Min. 1st Qu.  Median    Mean 3rd Qu.    Max. \n",
       "  1.000   1.000   2.000   2.288   3.000  11.000 \n",
       "\n",
       "includes extended item information - examples:\n",
       "  labels\n",
       "1 001CH \n",
       "2 002CO \n",
       "3 003CL \n",
       "\n",
       "includes extended transaction information - examples:\n",
       "  transactionID\n",
       "1     BA0000000\n",
       "2     BA0000001\n",
       "3     BA0000002"
      ]
     },
     "metadata": {},
     "output_type": "display_data"
    }
   ],
   "source": [
    "summary(items_per_invoice)"
   ]
  },
  {
   "cell_type": "markdown",
   "metadata": {},
   "source": [
    "Veiem que tenim 74.327 transactions i 338 columnes.\n",
    "\n",
    "Ara ja podem passar a trobar les regles. Hem de passar uns valors mínims pel suport i la confiança. Provem amb un suport mínim de 0.01, és a dir, un 1%, i una confiança de 0.8, és a dir, del 80%:"
   ]
  },
  {
   "cell_type": "code",
   "execution_count": 32,
   "metadata": {
    "collapsed": false
   },
   "outputs": [
    {
     "name": "stdout",
     "output_type": "stream",
     "text": [
      "Apriori\n",
      "\n",
      "Parameter specification:\n",
      " confidence minval smax arem  aval originalSupport maxtime support minlen\n",
      "        0.8    0.1    1 none FALSE            TRUE       5    0.01      1\n",
      " maxlen target   ext\n",
      "     10  rules FALSE\n",
      "\n",
      "Algorithmic control:\n",
      " filter tree heap memopt load sort verbose\n",
      "    0.1 TRUE TRUE  FALSE TRUE    2    TRUE\n",
      "\n",
      "Absolute minimum support count: 743 \n",
      "\n",
      "set item appearances ...[0 item(s)] done [0.00s].\n",
      "set transactions ...[338 item(s), 74327 transaction(s)] done [0.02s].\n",
      "sorting and recoding items ... [47 item(s)] done [0.00s].\n",
      "creating transaction tree ... done [0.05s].\n",
      "checking subsets of size 1 2 done [0.00s].\n",
      "writing ... [0 rule(s)] done [0.00s].\n",
      "creating S4 object  ... done [0.00s].\n"
     ]
    }
   ],
   "source": [
    "retail_rules <- apriori(items_per_invoice, parameter = list(supp = 0.01, conf = 0.8))"
   ]
  },
  {
   "cell_type": "markdown",
   "metadata": {},
   "source": [
    "Ha trovat 0 regles. Anem, doncs, a relaxar una mica el suport, prenent un suport mínim del 0.1%:"
   ]
  },
  {
   "cell_type": "code",
   "execution_count": 33,
   "metadata": {
    "collapsed": false
   },
   "outputs": [
    {
     "name": "stdout",
     "output_type": "stream",
     "text": [
      "Apriori\n",
      "\n",
      "Parameter specification:\n",
      " confidence minval smax arem  aval originalSupport maxtime support minlen\n",
      "        0.8    0.1    1 none FALSE            TRUE       5   0.001      1\n",
      " maxlen target   ext\n",
      "     10  rules FALSE\n",
      "\n",
      "Algorithmic control:\n",
      " filter tree heap memopt load sort verbose\n",
      "    0.1 TRUE TRUE  FALSE TRUE    2    TRUE\n",
      "\n",
      "Absolute minimum support count: 74 \n",
      "\n",
      "set item appearances ...[0 item(s)] done [0.00s].\n",
      "set transactions ...[338 item(s), 74327 transaction(s)] done [0.01s].\n",
      "sorting and recoding items ... [333 item(s)] done [0.01s].\n",
      "creating transaction tree ... done [0.05s].\n",
      "checking subsets of size 1 2 3 done [0.00s].\n",
      "writing ... [1 rule(s)] done [0.00s].\n",
      "creating S4 object  ... done [0.02s].\n"
     ]
    }
   ],
   "source": [
    "retail_rules <- apriori(items_per_invoice, parameter = list(supp = 0.001, conf = 0.80))"
   ]
  },
  {
   "cell_type": "markdown",
   "metadata": {},
   "source": [
    "obtenim només 1 regla. Aniré provant diferents valors menys restrictius pel suport i la confiança fins que obtingui un número de regles significatiu. "
   ]
  },
  {
   "cell_type": "code",
   "execution_count": 34,
   "metadata": {
    "collapsed": false
   },
   "outputs": [
    {
     "name": "stdout",
     "output_type": "stream",
     "text": [
      "Apriori\n",
      "\n",
      "Parameter specification:\n",
      " confidence minval smax arem  aval originalSupport maxtime support minlen\n",
      "        0.6    0.1    1 none FALSE            TRUE       5   1e-04      1\n",
      " maxlen target   ext\n",
      "     10  rules FALSE\n",
      "\n",
      "Algorithmic control:\n",
      " filter tree heap memopt load sort verbose\n",
      "    0.1 TRUE TRUE  FALSE TRUE    2    TRUE\n",
      "\n",
      "Absolute minimum support count: 7 \n",
      "\n",
      "set item appearances ...[0 item(s)] done [0.00s].\n",
      "set transactions ...[338 item(s), 74327 transaction(s)] done [0.03s].\n",
      "sorting and recoding items ... [338 item(s)] done [0.00s].\n",
      "creating transaction tree ... done [0.03s].\n",
      "checking subsets of size 1 2 3 4 done [0.02s].\n",
      "writing ... [92 rule(s)] done [0.00s].\n",
      "creating S4 object  ... done [0.01s].\n"
     ]
    }
   ],
   "source": [
    "retail_rules <- apriori(items_per_invoice, parameter = list(supp = 0.0001, conf = 0.6))"
   ]
  },
  {
   "cell_type": "markdown",
   "metadata": {},
   "source": [
    "Molt bé, amb un suport del 0.0001 i una confiança del 0.6 (0.01% i 60%, respectivament), hem obtingut 92 regles. Les regles no estan ordenades. Normalment voldrem veure les regles més relevants en primer lloc. Per exemple, considerem que volem veure primer les regles més probables. Això ho farem ordenant segons la confiança:"
   ]
  },
  {
   "cell_type": "code",
   "execution_count": 35,
   "metadata": {
    "collapsed": true
   },
   "outputs": [],
   "source": [
    "retail_rules<-sort(retail_rules, by=\"confidence\", decreasing=TRUE)"
   ]
  },
  {
   "cell_type": "markdown",
   "metadata": {},
   "source": [
    "Ara mostrem les 20 primeres regles:"
   ]
  },
  {
   "cell_type": "code",
   "execution_count": 36,
   "metadata": {
    "collapsed": false
   },
   "outputs": [
    {
     "name": "stdout",
     "output_type": "stream",
     "text": [
      "     lhs                       rhs      support      confidence lift      count\n",
      "[1]  {011CH ,122TI ,206ZI } => {125CT } 0.0003094434 1.0000000   14.41563  23  \n",
      "[2]  {122TI ,206ZI ,321SW } => {125CT } 0.0002287190 0.9444444   13.61476  17  \n",
      "[3]  {037RO ,122TI ,206ZI } => {125CT } 0.0003901678 0.9354839   13.48559  29  \n",
      "[4]  {122TI ,206ZI ,281BC } => {125CT } 0.0001614487 0.9230769   13.30674  12  \n",
      "[5]  {122TI ,189ME ,206ZI } => {125CT } 0.0001614487 0.9230769   13.30674  12  \n",
      "[6]  {060PR ,122TI ,206ZI } => {125CT } 0.0002690812 0.9090909   13.10512  20  \n",
      "[7]  {122TI ,152TR ,206ZI } => {125CT } 0.0002556272 0.9047619   13.04271  19  \n",
      "[8]  {122TI ,206ZI ,283BC } => {125CT } 0.0002287190 0.8947368   12.89820  17  \n",
      "[9]  {030MI ,281BC }        => {312CB } 0.0001076325 0.8888889   49.45243   8  \n",
      "[10] {122TI ,206ZI ,225CS } => {125CT } 0.0001076325 0.8888889   12.81390   8  \n",
      "[11] {030MI ,262BO ,283BC } => {312CB } 0.0001076325 0.8888889   49.45243   8  \n",
      "[12] {122TI ,206ZI ,262BO } => {125CT } 0.0003228975 0.8888889   12.81390  24  \n",
      "[13] {122TI ,191CB ,206ZI } => {125CT } 0.0002018109 0.8823529   12.71968  15  \n",
      "[14] {125CT ,291BC }        => {122TI } 0.0001614487 0.8571429   13.92543  12  \n",
      "[15] {206ZI ,320SW }        => {125CT } 0.0002287190 0.8500000   12.25329  17  \n",
      "[16] {079MA ,122TI ,206ZI } => {125CT } 0.0002152650 0.8421053   12.13948  16  \n",
      "[17] {122TI ,145TG ,206ZI } => {125CT } 0.0002152650 0.8421053   12.13948  16  \n",
      "[18] {122TI ,132DC ,206ZI } => {125CT } 0.0002556272 0.8260870   11.90857  19  \n",
      "[19] {122TI ,206ZI }        => {125CT } 0.0036056884 0.8195719   11.81465 268  \n",
      "[20] {275GE ,286BR }        => {123CB } 0.0001210865 0.8181818  107.25397   9  \n"
     ]
    }
   ],
   "source": [
    "inspect(retail_rules[1:20])"
   ]
  },
  {
   "cell_type": "markdown",
   "metadata": {},
   "source": [
    "Anem a veure el sumary estadístic de les regles obtingudes:"
   ]
  },
  {
   "cell_type": "code",
   "execution_count": 37,
   "metadata": {
    "collapsed": false
   },
   "outputs": [
    {
     "data": {
      "text/plain": [
       "set of 92 rules\n",
       "\n",
       "rule length distribution (lhs + rhs):sizes\n",
       " 3  4 \n",
       "48 44 \n",
       "\n",
       "   Min. 1st Qu.  Median    Mean 3rd Qu.    Max. \n",
       "  3.000   3.000   3.000   3.478   4.000   4.000 \n",
       "\n",
       "summary of quality measures:\n",
       "    support            confidence          lift             count       \n",
       " Min.   :0.0001076   Min.   :0.6000   Min.   :  8.649   Min.   :  8.00  \n",
       " 1st Qu.:0.0001211   1st Qu.:0.6316   1st Qu.:  9.328   1st Qu.:  9.00  \n",
       " Median :0.0001480   Median :0.6667   Median : 11.089   Median : 11.00  \n",
       " Mean   :0.0002299   Mean   :0.7198   Mean   : 19.668   Mean   : 17.09  \n",
       " 3rd Qu.:0.0002287   3rd Qu.:0.8103   3rd Qu.: 14.048   3rd Qu.: 17.00  \n",
       " Max.   :0.0036057   Max.   :1.0000   Max.   :107.254   Max.   :268.00  \n",
       "\n",
       "mining info:\n",
       "              data ntransactions support confidence\n",
       " items_per_invoice         74327   1e-04        0.6"
      ]
     },
     "metadata": {},
     "output_type": "display_data"
    }
   ],
   "source": [
    "summary(retail_rules)"
   ]
  },
  {
   "cell_type": "markdown",
   "metadata": {},
   "source": [
    "Veiem que la confiança va del 60% mínim que hem triat fins al 100%, amb una mitjana del 72%. El suport va del 0.01% fins al 0.36%, amb una mitjana del 0.02%."
   ]
  },
  {
   "cell_type": "markdown",
   "metadata": {},
   "source": [
    "En el nostre sisteme de regles d'associació ens apareixen les recomanacions amb els productes segons els seu codi, __CODPRODUCTO__, que pel sistema això ja està bé, però per un humà segurament serà més intuitiu veure la descripció del productes. Al dataframe __gourmet.lineasticket__ no existeix aquesta columna, però sí que existeix al dataframe __gourmet.producto__. El que podem fer és repetir tot el procés que hem fet però prenent com a base un dataframe que sigui el resiltat d'un JOIN d'ambdós dataframes a partir de l'atribut comú __CODPRODUCTO__. Com que hem modificat  __gourmet.lineasticket__, l'haurem de tornar a carregar. Anem a fer-ho:"
   ]
  },
  {
   "cell_type": "code",
   "execution_count": 38,
   "metadata": {
    "collapsed": false
   },
   "outputs": [
    {
     "name": "stdout",
     "output_type": "stream",
     "text": [
      "[1] \"Visualitzem informació del dataframe lineasticket.cvs\"\n",
      "\n",
      "  CODLINEA  CODVENTA NOMBRETIENDA CODPRODUCTO CANTIDAD PRECIOVENTA\n",
      "1        1 RO0196608         Roma      123CB         1       3.990\n",
      "2        1 RO0196609         Roma      267BP         1       8.800\n",
      "3        2 RO0065539         Roma      079MA         1       4.975\n",
      "4        3 RO0065539         Roma      158TR         2      11.450\n",
      "5        4 RO0065539         Roma      283BC         2      29.950\n",
      "6        1 RO0131072         Roma      208ME         1      26.200\n",
      "  NOMBREPROMOCION CODCABECERA\n",
      "1                       13641\n",
      "2                       13642\n",
      "3                       13638\n",
      "4                       13638\n",
      "5                       13638\n",
      "6                       13639\n",
      "\n",
      "[1] 174671      8\n",
      "\n",
      "    CODLINEA           CODVENTA            NOMBRETIENDA    CODPRODUCTO    \n",
      " Min.   : 1.000   M15505039:    15   Londres I   :29803   022CA  :  6409  \n",
      " 1st Qu.: 1.000   M12031696:    14   Manhattan I :23642   125CT  :  6158  \n",
      " Median : 2.000   L13801129:    13   Londres II  :15367   122TI  :  5448  \n",
      " Mean   : 2.135   M12883623:    13   Milán       :14618   262BO  :  5060  \n",
      " 3rd Qu.: 3.000   M13407976:    13   Munich      :13207   145TG  :  4922  \n",
      " Max.   :15.000   MB1048604:    13   París I     :12806   283BC  :  4752  \n",
      "                  (Other)  :174590   (Other)     :65228   (Other):141922  \n",
      "    CANTIDAD      PRECIOVENTA                      NOMBREPROMOCION  \n",
      " Min.   :1.000   Min.   :  0.000                           :172922  \n",
      " 1st Qu.:1.000   1st Qu.:  5.725   Carquiñolis-GranReserva :     3  \n",
      " Median :1.000   Median :  9.588   Chocolate-Champagne     :   117  \n",
      " Mean   :1.329   Mean   : 14.454   Mahon-Chardonnay        :   109  \n",
      " 3rd Qu.:1.000   3rd Qu.: 19.380   Merlot Introduction     :   876  \n",
      " Max.   :7.000   Max.   :899.000   Semillon 5%             :   644  \n",
      "                                                                    \n",
      "  CODCABECERA   \n",
      " Min.   :13527  \n",
      " 1st Qu.:32332  \n",
      " Median :50578  \n",
      " Mean   :50679  \n",
      " 3rd Qu.:69085  \n",
      " Max.   :87853  \n",
      "                \n"
     ]
    }
   ],
   "source": [
    "lineasticket_header <- c(\"CODLINEA\", \"CODVENTA\", \"NOMBRETIENDA\", \"CODPRODUCTO\", \"CANTIDAD\", \"PRECIOVENTA\"\n",
    "                          , \"NOMBREPROMOCION\", \"CODCABECERA\")\n",
    "gourmet.lineasticket <- read_and_show_data(\"lineasticket.cvs\", lineasticket_header)"
   ]
  },
  {
   "cell_type": "code",
   "execution_count": 39,
   "metadata": {
    "collapsed": false
   },
   "outputs": [],
   "source": [
    "new_lineasticket <- merge(gourmet.lineasticket, gourmet.producto, by=\"CODPRODUCTO\", all = TRUE)"
   ]
  },
  {
   "cell_type": "code",
   "execution_count": 40,
   "metadata": {
    "collapsed": false
   },
   "outputs": [
    {
     "data": {
      "text/html": [
       "<table>\n",
       "<thead><tr><th scope=col>CODPRODUCTO</th><th scope=col>CODLINEA</th><th scope=col>CODVENTA</th><th scope=col>NOMBRETIENDA</th><th scope=col>CANTIDAD</th><th scope=col>PRECIOVENTA.x</th><th scope=col>NOMBREPROMOCION</th><th scope=col>CODCABECERA</th><th scope=col>DESCRIPCION</th><th scope=col>NOMBREPAIS</th><th scope=col>COSTE</th><th scope=col>PRECIOVENTA.y</th><th scope=col>TIPOUNIDAD</th><th scope=col>NOMBRESUBFAMILIA</th><th scope=col>MARCA</th><th scope=col>CODPROVEEDOR</th></tr></thead>\n",
       "<tbody>\n",
       "\t<tr><td>001CH       </td><td>1           </td><td>MB0196612   </td><td>Miami Beach </td><td>1           </td><td>4.6875      </td><td>            </td><td>13910       </td><td>NA          </td><td>NA          </td><td>NA          </td><td>NA          </td><td>NA          </td><td>NA          </td><td>NA          </td><td>NA          </td></tr>\n",
       "\t<tr><td>001CH       </td><td>1           </td><td>BA0262147   </td><td>Barcelona   </td><td>2           </td><td>4.6875      </td><td>            </td><td>13986       </td><td>NA          </td><td>NA          </td><td>NA          </td><td>NA          </td><td>NA          </td><td>NA          </td><td>NA          </td><td>NA          </td></tr>\n",
       "\t<tr><td>001CH       </td><td>1           </td><td>L10786432   </td><td>Londres I   </td><td>1           </td><td>4.6875      </td><td>            </td><td>14527       </td><td>NA          </td><td>NA          </td><td>NA          </td><td>NA          </td><td>NA          </td><td>NA          </td><td>NA          </td><td>NA          </td></tr>\n",
       "\t<tr><td>001CH       </td><td>1           </td><td>MB0393231   </td><td>Miami Beach </td><td>2           </td><td>4.6875      </td><td>            </td><td>14910       </td><td>NA          </td><td>NA          </td><td>NA          </td><td>NA          </td><td>NA          </td><td>NA          </td><td>NA          </td><td>NA          </td></tr>\n",
       "\t<tr><td>001CH       </td><td>2           </td><td>L10524306   </td><td>Londres I   </td><td>1           </td><td>4.6875      </td><td>            </td><td>15745       </td><td>NA          </td><td>NA          </td><td>NA          </td><td>NA          </td><td>NA          </td><td>NA          </td><td>NA          </td><td>NA          </td></tr>\n",
       "\t<tr><td>001CH       </td><td>2           </td><td>BA0524303   </td><td>Barcelona   </td><td>1           </td><td>4.6875      </td><td>            </td><td>16426       </td><td>NA          </td><td>NA          </td><td>NA          </td><td>NA          </td><td>NA          </td><td>NA          </td><td>NA          </td><td>NA          </td></tr>\n",
       "</tbody>\n",
       "</table>\n"
      ],
      "text/latex": [
       "\\begin{tabular}{r|llllllllllllllll}\n",
       " CODPRODUCTO & CODLINEA & CODVENTA & NOMBRETIENDA & CANTIDAD & PRECIOVENTA.x & NOMBREPROMOCION & CODCABECERA & DESCRIPCION & NOMBREPAIS & COSTE & PRECIOVENTA.y & TIPOUNIDAD & NOMBRESUBFAMILIA & MARCA & CODPROVEEDOR\\\\\n",
       "\\hline\n",
       "\t 001CH        & 1            & MB0196612    & Miami Beach  & 1            & 4.6875       &              & 13910        & NA           & NA           & NA           & NA           & NA           & NA           & NA           & NA          \\\\\n",
       "\t 001CH        & 1            & BA0262147    & Barcelona    & 2            & 4.6875       &              & 13986        & NA           & NA           & NA           & NA           & NA           & NA           & NA           & NA          \\\\\n",
       "\t 001CH        & 1            & L10786432    & Londres I    & 1            & 4.6875       &              & 14527        & NA           & NA           & NA           & NA           & NA           & NA           & NA           & NA          \\\\\n",
       "\t 001CH        & 1            & MB0393231    & Miami Beach  & 2            & 4.6875       &              & 14910        & NA           & NA           & NA           & NA           & NA           & NA           & NA           & NA          \\\\\n",
       "\t 001CH        & 2            & L10524306    & Londres I    & 1            & 4.6875       &              & 15745        & NA           & NA           & NA           & NA           & NA           & NA           & NA           & NA          \\\\\n",
       "\t 001CH        & 2            & BA0524303    & Barcelona    & 1            & 4.6875       &              & 16426        & NA           & NA           & NA           & NA           & NA           & NA           & NA           & NA          \\\\\n",
       "\\end{tabular}\n"
      ],
      "text/markdown": [
       "\n",
       "CODPRODUCTO | CODLINEA | CODVENTA | NOMBRETIENDA | CANTIDAD | PRECIOVENTA.x | NOMBREPROMOCION | CODCABECERA | DESCRIPCION | NOMBREPAIS | COSTE | PRECIOVENTA.y | TIPOUNIDAD | NOMBRESUBFAMILIA | MARCA | CODPROVEEDOR | \n",
       "|---|---|---|---|---|---|\n",
       "| 001CH        | 1            | MB0196612    | Miami Beach  | 1            | 4.6875       |              | 13910        | NA           | NA           | NA           | NA           | NA           | NA           | NA           | NA           | \n",
       "| 001CH        | 1            | BA0262147    | Barcelona    | 2            | 4.6875       |              | 13986        | NA           | NA           | NA           | NA           | NA           | NA           | NA           | NA           | \n",
       "| 001CH        | 1            | L10786432    | Londres I    | 1            | 4.6875       |              | 14527        | NA           | NA           | NA           | NA           | NA           | NA           | NA           | NA           | \n",
       "| 001CH        | 1            | MB0393231    | Miami Beach  | 2            | 4.6875       |              | 14910        | NA           | NA           | NA           | NA           | NA           | NA           | NA           | NA           | \n",
       "| 001CH        | 2            | L10524306    | Londres I    | 1            | 4.6875       |              | 15745        | NA           | NA           | NA           | NA           | NA           | NA           | NA           | NA           | \n",
       "| 001CH        | 2            | BA0524303    | Barcelona    | 1            | 4.6875       |              | 16426        | NA           | NA           | NA           | NA           | NA           | NA           | NA           | NA           | \n",
       "\n",
       "\n"
      ],
      "text/plain": [
       "  CODPRODUCTO CODLINEA CODVENTA  NOMBRETIENDA CANTIDAD PRECIOVENTA.x\n",
       "1 001CH       1        MB0196612 Miami Beach  1        4.6875       \n",
       "2 001CH       1        BA0262147 Barcelona    2        4.6875       \n",
       "3 001CH       1        L10786432 Londres I    1        4.6875       \n",
       "4 001CH       1        MB0393231 Miami Beach  2        4.6875       \n",
       "5 001CH       2        L10524306 Londres I    1        4.6875       \n",
       "6 001CH       2        BA0524303 Barcelona    1        4.6875       \n",
       "  NOMBREPROMOCION CODCABECERA DESCRIPCION NOMBREPAIS COSTE PRECIOVENTA.y\n",
       "1                 13910       NA          NA         NA    NA           \n",
       "2                 13986       NA          NA         NA    NA           \n",
       "3                 14527       NA          NA         NA    NA           \n",
       "4                 14910       NA          NA         NA    NA           \n",
       "5                 15745       NA          NA         NA    NA           \n",
       "6                 16426       NA          NA         NA    NA           \n",
       "  TIPOUNIDAD NOMBRESUBFAMILIA MARCA CODPROVEEDOR\n",
       "1 NA         NA               NA    NA          \n",
       "2 NA         NA               NA    NA          \n",
       "3 NA         NA               NA    NA          \n",
       "4 NA         NA               NA    NA          \n",
       "5 NA         NA               NA    NA          \n",
       "6 NA         NA               NA    NA          "
      ]
     },
     "metadata": {},
     "output_type": "display_data"
    }
   ],
   "source": [
    "head(new_lineasticket)"
   ]
  },
  {
   "cell_type": "markdown",
   "metadata": {},
   "source": [
    "Veiem que el JOIN no ha anat bé, hi deu haver algún problema. Mirant els resultats de les funcions *head()* i *summary()* no hi veig cap anomalia. Mirant els fitxers originals *lineasticket.cvs* i *producto.cvs* detecto que a *lineasticket.cvs* els valors de l'atribut __CODPRODUCTE__ són de la forma *\"123CB \"* i a *producto.cvs* són de la forma *\"123CB\"*, és a dir, a *lineasticket.cvs* ténen un espai en blanc al final i a *producto.cvs* no. Suposo que el problema en fer el JOIN deu ser deguat a aquesta discrepància. Anem a solucionar-ho, emprant la funció *trimws()*, que elimina els espais en blanc que hi hagi davant o darrera d'un string."
   ]
  },
  {
   "cell_type": "code",
   "execution_count": 41,
   "metadata": {
    "collapsed": false
   },
   "outputs": [],
   "source": [
    "gourmet.lineasticket$CODPRODUCTO <- trimws(gourmet.lineasticket$CODPRODUCTO)"
   ]
  },
  {
   "cell_type": "markdown",
   "metadata": {},
   "source": [
    "Anem a veure si ara funciona:"
   ]
  },
  {
   "cell_type": "code",
   "execution_count": 42,
   "metadata": {
    "collapsed": true
   },
   "outputs": [],
   "source": [
    "new_lineasticket <- merge(gourmet.lineasticket, gourmet.producto, by=\"CODPRODUCTO\", all = TRUE)"
   ]
  },
  {
   "cell_type": "code",
   "execution_count": 43,
   "metadata": {
    "collapsed": false
   },
   "outputs": [
    {
     "data": {
      "text/html": [
       "<table>\n",
       "<thead><tr><th scope=col>CODPRODUCTO</th><th scope=col>CODLINEA</th><th scope=col>CODVENTA</th><th scope=col>NOMBRETIENDA</th><th scope=col>CANTIDAD</th><th scope=col>PRECIOVENTA.x</th><th scope=col>NOMBREPROMOCION</th><th scope=col>CODCABECERA</th><th scope=col>DESCRIPCION</th><th scope=col>NOMBREPAIS</th><th scope=col>COSTE</th><th scope=col>PRECIOVENTA.y</th><th scope=col>TIPOUNIDAD</th><th scope=col>NOMBRESUBFAMILIA</th><th scope=col>MARCA</th><th scope=col>CODPROVEEDOR</th></tr></thead>\n",
       "<tbody>\n",
       "\t<tr><td>001CH           </td><td>1               </td><td>LI0983046       </td><td>Liverpool       </td><td>1               </td><td>4.6875          </td><td>                </td><td>17353           </td><td>Chesire         </td><td>Reino Unido     </td><td>3.3             </td><td>4.69            </td><td>Porción (250 g) </td><td>Vaca Curado     </td><td>Smith Farmer    </td><td>101             </td></tr>\n",
       "\t<tr><td>001CH           </td><td>1               </td><td>MB2555952       </td><td>Miami Beach     </td><td>1               </td><td>4.6875          </td><td>                </td><td>80604           </td><td>Chesire         </td><td>Reino Unido     </td><td>3.3             </td><td>4.69            </td><td>Porción (250 g) </td><td>Vaca Curado     </td><td>Smith Farmer    </td><td>101             </td></tr>\n",
       "\t<tr><td>001CH           </td><td>1               </td><td>L23801122       </td><td>Londres II      </td><td>1               </td><td>4.6875          </td><td>                </td><td>53561           </td><td>Chesire         </td><td>Reino Unido     </td><td>3.3             </td><td>4.69            </td><td>Porción (250 g) </td><td>Vaca Curado     </td><td>Smith Farmer    </td><td>101             </td></tr>\n",
       "\t<tr><td>001CH           </td><td>1               </td><td>MB0196612       </td><td>Miami Beach     </td><td>1               </td><td>4.6875          </td><td>                </td><td>13910           </td><td>Chesire         </td><td>Reino Unido     </td><td>3.3             </td><td>4.69            </td><td>Porción (250 g) </td><td>Vaca Curado     </td><td>Smith Farmer    </td><td>101             </td></tr>\n",
       "\t<tr><td>001CH           </td><td>2               </td><td>P20065552       </td><td>París II        </td><td>5               </td><td>4.6875          </td><td>                </td><td>21597           </td><td>Chesire         </td><td>Reino Unido     </td><td>3.3             </td><td>4.69            </td><td>Porción (250 g) </td><td>Vaca Curado     </td><td>Smith Farmer    </td><td>101             </td></tr>\n",
       "\t<tr><td>001CH           </td><td>1               </td><td>RO1900573       </td><td>Roma            </td><td>1               </td><td>4.6875          </td><td>                </td><td>28257           </td><td>Chesire         </td><td>Reino Unido     </td><td>3.3             </td><td>4.69            </td><td>Porción (250 g) </td><td>Vaca Curado     </td><td>Smith Farmer    </td><td>101             </td></tr>\n",
       "</tbody>\n",
       "</table>\n"
      ],
      "text/latex": [
       "\\begin{tabular}{r|llllllllllllllll}\n",
       " CODPRODUCTO & CODLINEA & CODVENTA & NOMBRETIENDA & CANTIDAD & PRECIOVENTA.x & NOMBREPROMOCION & CODCABECERA & DESCRIPCION & NOMBREPAIS & COSTE & PRECIOVENTA.y & TIPOUNIDAD & NOMBRESUBFAMILIA & MARCA & CODPROVEEDOR\\\\\n",
       "\\hline\n",
       "\t 001CH            & 1                & LI0983046        & Liverpool        & 1                & 4.6875           &                  & 17353            & Chesire          & Reino Unido      & 3.3              & 4.69             & Porción (250 g)  & Vaca Curado      & Smith Farmer     & 101             \\\\\n",
       "\t 001CH            & 1                & MB2555952        & Miami Beach      & 1                & 4.6875           &                  & 80604            & Chesire          & Reino Unido      & 3.3              & 4.69             & Porción (250 g)  & Vaca Curado      & Smith Farmer     & 101             \\\\\n",
       "\t 001CH            & 1                & L23801122        & Londres II       & 1                & 4.6875           &                  & 53561            & Chesire          & Reino Unido      & 3.3              & 4.69             & Porción (250 g)  & Vaca Curado      & Smith Farmer     & 101             \\\\\n",
       "\t 001CH            & 1                & MB0196612        & Miami Beach      & 1                & 4.6875           &                  & 13910            & Chesire          & Reino Unido      & 3.3              & 4.69             & Porción (250 g)  & Vaca Curado      & Smith Farmer     & 101             \\\\\n",
       "\t 001CH            & 2                & P20065552        & París II         & 5                & 4.6875           &                  & 21597            & Chesire          & Reino Unido      & 3.3              & 4.69             & Porción (250 g)  & Vaca Curado      & Smith Farmer     & 101             \\\\\n",
       "\t 001CH            & 1                & RO1900573        & Roma             & 1                & 4.6875           &                  & 28257            & Chesire          & Reino Unido      & 3.3              & 4.69             & Porción (250 g)  & Vaca Curado      & Smith Farmer     & 101             \\\\\n",
       "\\end{tabular}\n"
      ],
      "text/markdown": [
       "\n",
       "CODPRODUCTO | CODLINEA | CODVENTA | NOMBRETIENDA | CANTIDAD | PRECIOVENTA.x | NOMBREPROMOCION | CODCABECERA | DESCRIPCION | NOMBREPAIS | COSTE | PRECIOVENTA.y | TIPOUNIDAD | NOMBRESUBFAMILIA | MARCA | CODPROVEEDOR | \n",
       "|---|---|---|---|---|---|\n",
       "| 001CH            | 1                | LI0983046        | Liverpool        | 1                | 4.6875           |                  | 17353            | Chesire          | Reino Unido      | 3.3              | 4.69             | Porción (250 g)  | Vaca Curado      | Smith Farmer     | 101              | \n",
       "| 001CH            | 1                | MB2555952        | Miami Beach      | 1                | 4.6875           |                  | 80604            | Chesire          | Reino Unido      | 3.3              | 4.69             | Porción (250 g)  | Vaca Curado      | Smith Farmer     | 101              | \n",
       "| 001CH            | 1                | L23801122        | Londres II       | 1                | 4.6875           |                  | 53561            | Chesire          | Reino Unido      | 3.3              | 4.69             | Porción (250 g)  | Vaca Curado      | Smith Farmer     | 101              | \n",
       "| 001CH            | 1                | MB0196612        | Miami Beach      | 1                | 4.6875           |                  | 13910            | Chesire          | Reino Unido      | 3.3              | 4.69             | Porción (250 g)  | Vaca Curado      | Smith Farmer     | 101              | \n",
       "| 001CH            | 2                | P20065552        | París II         | 5                | 4.6875           |                  | 21597            | Chesire          | Reino Unido      | 3.3              | 4.69             | Porción (250 g)  | Vaca Curado      | Smith Farmer     | 101              | \n",
       "| 001CH            | 1                | RO1900573        | Roma             | 1                | 4.6875           |                  | 28257            | Chesire          | Reino Unido      | 3.3              | 4.69             | Porción (250 g)  | Vaca Curado      | Smith Farmer     | 101              | \n",
       "\n",
       "\n"
      ],
      "text/plain": [
       "  CODPRODUCTO CODLINEA CODVENTA  NOMBRETIENDA CANTIDAD PRECIOVENTA.x\n",
       "1 001CH       1        LI0983046 Liverpool    1        4.6875       \n",
       "2 001CH       1        MB2555952 Miami Beach  1        4.6875       \n",
       "3 001CH       1        L23801122 Londres II   1        4.6875       \n",
       "4 001CH       1        MB0196612 Miami Beach  1        4.6875       \n",
       "5 001CH       2        P20065552 París II     5        4.6875       \n",
       "6 001CH       1        RO1900573 Roma         1        4.6875       \n",
       "  NOMBREPROMOCION CODCABECERA DESCRIPCION NOMBREPAIS   COSTE PRECIOVENTA.y\n",
       "1                 17353       Chesire     Reino Unido  3.3   4.69         \n",
       "2                 80604       Chesire     Reino Unido  3.3   4.69         \n",
       "3                 53561       Chesire     Reino Unido  3.3   4.69         \n",
       "4                 13910       Chesire     Reino Unido  3.3   4.69         \n",
       "5                 21597       Chesire     Reino Unido  3.3   4.69         \n",
       "6                 28257       Chesire     Reino Unido  3.3   4.69         \n",
       "  TIPOUNIDAD       NOMBRESUBFAMILIA MARCA        CODPROVEEDOR\n",
       "1 Porción (250 g)  Vaca Curado      Smith Farmer 101         \n",
       "2 Porción (250 g)  Vaca Curado      Smith Farmer 101         \n",
       "3 Porción (250 g)  Vaca Curado      Smith Farmer 101         \n",
       "4 Porción (250 g)  Vaca Curado      Smith Farmer 101         \n",
       "5 Porción (250 g)  Vaca Curado      Smith Farmer 101         \n",
       "6 Porción (250 g)  Vaca Curado      Smith Farmer 101         "
      ]
     },
     "metadata": {},
     "output_type": "display_data"
    }
   ],
   "source": [
    "head(new_lineasticket)"
   ]
  },
  {
   "cell_type": "markdown",
   "metadata": {},
   "source": [
    "Perfecte, hem pogut solucionar el problema. Ara el que farem serà repetir tot el procés però prenent l'atribut __DESCRIPCION__ en comptes de __CODPRODUCTO__."
   ]
  },
  {
   "cell_type": "code",
   "execution_count": 44,
   "metadata": {
    "collapsed": false
   },
   "outputs": [
    {
     "data": {
      "text/plain": [
       "transactions in sparse format with\n",
       " 74327 transactions (rows) and\n",
       " 248 items (columns)"
      ]
     },
     "metadata": {},
     "output_type": "display_data"
    }
   ],
   "source": [
    "items_per_invoice <- split(x=new_lineasticket[,\"DESCRIPCION\"],f=new_lineasticket$CODVENTA)\n",
    "items_per_invoice <- lapply(items_per_invoice,unique)\n",
    "items_per_invoice <- as(items_per_invoice, \"transactions\")\n",
    "items_per_invoice"
   ]
  },
  {
   "cell_type": "code",
   "execution_count": 45,
   "metadata": {
    "collapsed": false
   },
   "outputs": [
    {
     "name": "stdout",
     "output_type": "stream",
     "text": [
      "Apriori\n",
      "\n",
      "Parameter specification:\n",
      " confidence minval smax arem  aval originalSupport maxtime support minlen\n",
      "        0.6    0.1    1 none FALSE            TRUE       5   1e-04      1\n",
      " maxlen target   ext\n",
      "     10  rules FALSE\n",
      "\n",
      "Algorithmic control:\n",
      " filter tree heap memopt load sort verbose\n",
      "    0.1 TRUE TRUE  FALSE TRUE    2    TRUE\n",
      "\n",
      "Absolute minimum support count: 7 \n",
      "\n",
      "set item appearances ...[0 item(s)] done [0.00s].\n",
      "set transactions ...[248 item(s), 74327 transaction(s)] done [0.03s].\n",
      "sorting and recoding items ... [248 item(s)] done [0.00s].\n",
      "creating transaction tree ... done [0.06s].\n",
      "checking subsets of size 1 2 3 4 done [0.01s].\n",
      "writing ... [93 rule(s)] done [0.00s].\n",
      "creating S4 object  ... done [0.01s].\n"
     ]
    }
   ],
   "source": [
    "retail_rules <- apriori(items_per_invoice, parameter = list(supp = 0.0001, conf = 0.6))"
   ]
  },
  {
   "cell_type": "code",
   "execution_count": 46,
   "metadata": {
    "collapsed": true
   },
   "outputs": [],
   "source": [
    "retail_rules<-sort(retail_rules, by=\"confidence\", decreasing=TRUE)"
   ]
  },
  {
   "cell_type": "code",
   "execution_count": 47,
   "metadata": {
    "collapsed": false
   },
   "outputs": [
    {
     "name": "stdout",
     "output_type": "stream",
     "text": [
      "     lhs                                   rhs                       support confidence     lift count\n",
      "[1]  {Tinto Gran Reserva 89 ,                                                                         \n",
      "      Tiramisú,                                                                                       \n",
      "      Zinfandel 97}                     => {Chocolate Truffle } 0.0001076325  1.0000000 14.41563     8\n",
      "[2]  {Chevagne,                                                                                       \n",
      "      Tiramisú,                                                                                       \n",
      "      Zinfandel 97}                     => {Chocolate Truffle } 0.0003094434  1.0000000 14.41563    23\n",
      "[3]  {Scotch Whiskey 18 años,                                                                         \n",
      "      Tiramisú,                                                                                       \n",
      "      Zinfandel 97}                     => {Chocolate Truffle } 0.0002287190  0.9444444 13.61476    17\n",
      "[4]  {Parmigiano Reggiano ,                                                                           \n",
      "      Tiramisú,                                                                                       \n",
      "      Zinfandel 97}                     => {Chocolate Truffle } 0.0002690812  0.9090909 13.10512    20\n",
      "[5]  {Roquefort ,                                                                                     \n",
      "      Tiramisú,                                                                                       \n",
      "      Zinfandel 97}                     => {Chocolate Truffle } 0.0003901678  0.9062500 13.06417    29\n",
      "[6]  {Brut Premier Cru,                                                                               \n",
      "      Mimolette }                       => {Cru Beaujolais 98 } 0.0001076325  0.8888889 39.75237     8\n",
      "[7]  {Cabernet Suavignon 97 ,                                                                         \n",
      "      Tiramisú,                                                                                       \n",
      "      Zinfandel 97}                     => {Chocolate Truffle } 0.0001076325  0.8888889 12.81390     8\n",
      "[8]  {Bordeaux 97 ,                                                                                   \n",
      "      Brut Chardonnay Blanc de Blancs ,                                                               \n",
      "      Mimolette }                       => {Cru Beaujolais 98 } 0.0001076325  0.8888889 39.75237     8\n",
      "[9]  {Brut Premier Cru,                                                                               \n",
      "      Tiramisú,                                                                                       \n",
      "      Zinfandel 97}                     => {Chocolate Truffle } 0.0002152650  0.8888889 12.81390    16\n",
      "[10] {Bordeaux 97 ,                                                                                   \n",
      "      Tiramisú,                                                                                       \n",
      "      Zinfandel 97}                     => {Chocolate Truffle } 0.0003228975  0.8888889 12.81390    24\n",
      "[11] {Chenin Blanc 97 ,                                                                               \n",
      "      Tiramisú,                                                                                       \n",
      "      Zinfandel 97}                     => {Chocolate Truffle } 0.0002018109  0.8823529 12.71968    15\n",
      "[12] {Merlot 97 ,                                                                                     \n",
      "      Tiramisú,                                                                                       \n",
      "      Zinfandel 97}                     => {Chocolate Truffle } 0.0002690812  0.8695652 12.53533    20\n",
      "[13] {Manchego,                                                                                       \n",
      "      Tiramisú,                                                                                       \n",
      "      Zinfandel 97}                     => {Chocolate Truffle } 0.0002690812  0.8695652 12.53533    20\n",
      "[14] {Chocolate Truffle ,                                                                             \n",
      "      Grand Cordon Brut }               => {Tiramisú}           0.0001614487  0.8571429 13.92543    12\n",
      "[15] {Tinto Reserva 95,                                                                               \n",
      "      Tiramisú,                                                                                       \n",
      "      Zinfandel 97}                     => {Chocolate Truffle } 0.0005247084  0.8478261 12.22195    39\n",
      "[16] {Tinto Reserva 94,                                                                               \n",
      "      Tiramisú,                                                                                       \n",
      "      Zinfandel 97}                     => {Chocolate Truffle } 0.0002018109  0.8333333 12.01303    15\n",
      "[17] {Cabernet Sauvignon 97 ,                                                                         \n",
      "      Mimolette }                       => {Cru Beaujolais 98 } 0.0001210865  0.8181818 36.59025     9\n",
      "[18] {Golden Semillon 97,                                                                             \n",
      "      Tiramisú,                                                                                       \n",
      "      Zinfandel 97}                     => {Chocolate Truffle } 0.0001210865  0.8181818 11.79461     9\n",
      "[19] {Golden Semillon 97,                                                                             \n",
      "      Tinto Reserva 95,                                                                               \n",
      "      Tiramisú}                         => {Chocolate Truffle } 0.0001210865  0.8181818 11.79461     9\n",
      "[20] {Tinto Gran Reserva 91 ,                                                                         \n",
      "      Tiramisú,                                                                                       \n",
      "      Zinfandel 97}                     => {Chocolate Truffle } 0.0002421731  0.8181818 11.79461    18\n"
     ]
    }
   ],
   "source": [
    "inspect(retail_rules[1:20])"
   ]
  },
  {
   "cell_type": "markdown",
   "metadata": {},
   "source": [
    "Molt bé, aquest és el resultat que obtenim considerant totes les dades. Però podriem intentar afinar més, i tenir un sistema predictiu similar diferent i dedicat per a cadascuna de les 15 botigues que té l'empresa."
   ]
  },
  {
   "cell_type": "code",
   "execution_count": 48,
   "metadata": {
    "collapsed": true
   },
   "outputs": [],
   "source": [
    "bcn_lineasticket <- subset(new_lineasticket, NOMBRETIENDA==\"Barcelona\")"
   ]
  },
  {
   "cell_type": "code",
   "execution_count": 49,
   "metadata": {
    "collapsed": false
   },
   "outputs": [
    {
     "data": {
      "text/html": [
       "<ol class=list-inline>\n",
       "\t<li>174672</li>\n",
       "\t<li>16</li>\n",
       "</ol>\n"
      ],
      "text/latex": [
       "\\begin{enumerate*}\n",
       "\\item 174672\n",
       "\\item 16\n",
       "\\end{enumerate*}\n"
      ],
      "text/markdown": [
       "1. 174672\n",
       "2. 16\n",
       "\n",
       "\n"
      ],
      "text/plain": [
       "[1] 174672     16"
      ]
     },
     "metadata": {},
     "output_type": "display_data"
    },
    {
     "data": {
      "text/html": [
       "<ol class=list-inline>\n",
       "\t<li>0</li>\n",
       "\t<li>16</li>\n",
       "</ol>\n"
      ],
      "text/latex": [
       "\\begin{enumerate*}\n",
       "\\item 0\n",
       "\\item 16\n",
       "\\end{enumerate*}\n"
      ],
      "text/markdown": [
       "1. 0\n",
       "2. 16\n",
       "\n",
       "\n"
      ],
      "text/plain": [
       "[1]  0 16"
      ]
     },
     "metadata": {},
     "output_type": "display_data"
    }
   ],
   "source": [
    "dim(new_lineasticket)\n",
    "dim(bcn_lineasticket)"
   ]
  },
  {
   "cell_type": "markdown",
   "metadata": {},
   "source": [
    "El dataframe obtingut no té cap fila, hi ha algun error. Recordant l'error anterior, vaig a mirar al fitxer *tiendas.cvs* i veig que passa el mateix, que en comptes de *\"Barcelona\"* tenim *\"Barcelona \"*, amb un espai en blanc al final. Resolguem aquest problema i tornem a crear el dataframe de les dades corresponents només a la botiga de Barcelona:"
   ]
  },
  {
   "cell_type": "code",
   "execution_count": 50,
   "metadata": {
    "collapsed": true
   },
   "outputs": [],
   "source": [
    "new_lineasticket$NOMBRETIENDA <- trimws(new_lineasticket$NOMBRETIENDA)"
   ]
  },
  {
   "cell_type": "code",
   "execution_count": 51,
   "metadata": {
    "collapsed": true
   },
   "outputs": [],
   "source": [
    "bcn_lineasticket <- subset(new_lineasticket, NOMBRETIENDA==\"Barcelona\")"
   ]
  },
  {
   "cell_type": "code",
   "execution_count": 52,
   "metadata": {
    "collapsed": false
   },
   "outputs": [
    {
     "data": {
      "text/html": [
       "<ol class=list-inline>\n",
       "\t<li>174672</li>\n",
       "\t<li>16</li>\n",
       "</ol>\n"
      ],
      "text/latex": [
       "\\begin{enumerate*}\n",
       "\\item 174672\n",
       "\\item 16\n",
       "\\end{enumerate*}\n"
      ],
      "text/markdown": [
       "1. 174672\n",
       "2. 16\n",
       "\n",
       "\n"
      ],
      "text/plain": [
       "[1] 174672     16"
      ]
     },
     "metadata": {},
     "output_type": "display_data"
    },
    {
     "data": {
      "text/html": [
       "<ol class=list-inline>\n",
       "\t<li>10122</li>\n",
       "\t<li>16</li>\n",
       "</ol>\n"
      ],
      "text/latex": [
       "\\begin{enumerate*}\n",
       "\\item 10122\n",
       "\\item 16\n",
       "\\end{enumerate*}\n"
      ],
      "text/markdown": [
       "1. 10122\n",
       "2. 16\n",
       "\n",
       "\n"
      ],
      "text/plain": [
       "[1] 10122    16"
      ]
     },
     "metadata": {},
     "output_type": "display_data"
    }
   ],
   "source": [
    "dim(new_lineasticket)\n",
    "dim(bcn_lineasticket)"
   ]
  },
  {
   "cell_type": "markdown",
   "metadata": {},
   "source": [
    "Ara repetim tot el procés anterior però pel cas en que només considerem la botiga de Barcelona:"
   ]
  },
  {
   "cell_type": "code",
   "execution_count": 53,
   "metadata": {
    "collapsed": false
   },
   "outputs": [
    {
     "data": {
      "text/plain": [
       "transactions in sparse format with\n",
       " 74327 transactions (rows) and\n",
       " 169 items (columns)"
      ]
     },
     "metadata": {},
     "output_type": "display_data"
    }
   ],
   "source": [
    "bcn_items_per_invoice <- split(x=bcn_lineasticket[,\"DESCRIPCION\"],f=bcn_lineasticket$CODVENTA)\n",
    "bcn_items_per_invoice <- lapply(bcn_items_per_invoice,unique)\n",
    "bcn_items_per_invoice <- as(bcn_items_per_invoice, \"transactions\")\n",
    "bcn_items_per_invoice"
   ]
  },
  {
   "cell_type": "code",
   "execution_count": 54,
   "metadata": {
    "collapsed": false
   },
   "outputs": [
    {
     "name": "stdout",
     "output_type": "stream",
     "text": [
      "Apriori\n",
      "\n",
      "Parameter specification:\n",
      " confidence minval smax arem  aval originalSupport maxtime support minlen\n",
      "        0.6    0.1    1 none FALSE            TRUE       5   1e-05      1\n",
      " maxlen target   ext\n",
      "     10  rules FALSE\n",
      "\n",
      "Algorithmic control:\n",
      " filter tree heap memopt load sort verbose\n",
      "    0.1 TRUE TRUE  FALSE TRUE    2    TRUE\n",
      "\n",
      "Absolute minimum support count: 0 \n",
      "\n",
      "set item appearances ...[0 item(s)] done [0.00s].\n",
      "set transactions ...[169 item(s), 74327 transaction(s)] done [0.02s].\n",
      "sorting and recoding items ... [169 item(s)] done [0.00s].\n",
      "creating transaction tree ... done [0.01s].\n",
      "checking subsets of size 1 2 3 4 5 6 7 done [0.01s].\n",
      "writing ... [12791 rule(s)] done [0.01s].\n",
      "creating S4 object  ... done [0.02s].\n"
     ]
    }
   ],
   "source": [
    "bcn_retail_rules <- apriori(bcn_items_per_invoice, parameter = list(supp = 0.00001, conf = 0.6))"
   ]
  },
  {
   "cell_type": "code",
   "execution_count": 55,
   "metadata": {
    "collapsed": true
   },
   "outputs": [],
   "source": [
    "bcn_retail_rules<-sort(bcn_retail_rules, by=\"confidence\", decreasing=TRUE)"
   ]
  },
  {
   "cell_type": "code",
   "execution_count": 56,
   "metadata": {
    "collapsed": false
   },
   "outputs": [
    {
     "name": "stdout",
     "output_type": "stream",
     "text": [
      "     lhs                                 rhs                                   support confidence       lift count\n",
      "[1]  {Cabernet Sauvignon Reserva 93 ,                                                                             \n",
      "      Grand Cordon Brut }             => {White Stilton }                 1.345406e-05          1  2563.0000     1\n",
      "[2]  {Grand Cordon Brut ,                                                                                         \n",
      "      White Stilton }                 => {Cabernet Sauvignon Reserva 93 } 1.345406e-05          1  4129.2778     1\n",
      "[3]  {Cabernet Sauvignon Reserva 93 ,                                                                             \n",
      "      White Stilton }                 => {Grand Cordon Brut }             1.345406e-05          1 18581.7500     1\n",
      "[4]  {Cabernet Sauvignon Reserva 93 ,                                                                             \n",
      "      Grand Cordon Brut }             => {Tinto Reserva 95}               1.345406e-05          1   130.3982     1\n",
      "[5]  {Grand Cordon Brut ,                                                                                         \n",
      "      Tinto Reserva 95}               => {Cabernet Sauvignon Reserva 93 } 1.345406e-05          1  4129.2778     1\n",
      "[6]  {Cabernet Sauvignon Reserva 93 ,                                                                             \n",
      "      Tinto Reserva 95}               => {Grand Cordon Brut }             1.345406e-05          1 18581.7500     1\n",
      "[7]  {Cognac,                                                                                                     \n",
      "      Grand Cordon Brut }             => {Merlot 97 }                     1.345406e-05          1   333.3049     1\n",
      "[8]  {Grand Cordon Brut ,                                                                                         \n",
      "      Merlot 97 }                     => {Cognac}                         1.345406e-05          1  3378.5000     1\n",
      "[9]  {Cognac,                                                                                                     \n",
      "      Merlot 97 }                     => {Grand Cordon Brut }             1.345406e-05          1 18581.7500     1\n",
      "[10] {Grand Cordon Brut ,                                                                                         \n",
      "      White Stilton }                 => {Tinto Reserva 95}               1.345406e-05          1   130.3982     1\n",
      "[11] {Grand Cordon Brut ,                                                                                         \n",
      "      Tinto Reserva 95}               => {White Stilton }                 1.345406e-05          1  2563.0000     1\n",
      "[12] {Tinto Reserva 95,                                                                                           \n",
      "      White Stilton }                 => {Grand Cordon Brut }             1.345406e-05          1 18581.7500     1\n",
      "[13] {Gewürztraminer 93 ,                                                                                         \n",
      "      Syrah 96}                       => {Ibérico }                       1.345406e-05          1  3716.3500     1\n",
      "[14] {Ibérico ,                                                                                                   \n",
      "      Syrah 96}                       => {Gewürztraminer 93 }             1.345406e-05          1  3911.9474     1\n",
      "[15] {Gewürztraminer 93 ,                                                                                         \n",
      "      Ibérico }                       => {Syrah 96}                       1.345406e-05          1  7432.7000     1\n",
      "[16] {Gewürztraminer 93 ,                                                                                         \n",
      "      Syrah 96}                       => {Pont L'Evèque }                 1.345406e-05          1  3378.5000     1\n",
      "[17] {Pont L'Evèque ,                                                                                             \n",
      "      Syrah 96}                       => {Gewürztraminer 93 }             1.345406e-05          1  3911.9474     1\n",
      "[18] {Gewürztraminer 93 ,                                                                                         \n",
      "      Pont L'Evèque }                 => {Syrah 96}                       1.345406e-05          1  7432.7000     1\n",
      "[19] {Gewürztraminer 93 ,                                                                                         \n",
      "      Syrah 96}                       => {Chardonnay 98 }                 1.345406e-05          1   502.2095     1\n",
      "[20] {Chardonnay 98 ,                                                                                             \n",
      "      Syrah 96}                       => {Gewürztraminer 93 }             1.345406e-05          1  3911.9474     1\n"
     ]
    }
   ],
   "source": [
    "inspect(bcn_retail_rules[1:20])"
   ]
  },
  {
   "cell_type": "markdown",
   "metadata": {},
   "source": [
    "Com podem veure, els resultats obtinguts si considerem una sola botiga, en aquest cas la de Barcelona, són diferents al cas general que hem obtingut anteriorment. Per tant, veiem que seria interessant considerar no un cas general sinó fer un cas particular per a cada botiga, ja que en cada zona els clients poden tenir uns comportaments prou diferents davant el consum dels productes que ofereixen aquestes botigues."
   ]
  },
  {
   "cell_type": "code",
   "execution_count": 57,
   "metadata": {
    "collapsed": false
   },
   "outputs": [
    {
     "data": {
      "text/plain": [
       "    CODCLIENTE          NOMBRECLIENTE       SEXO      FECHANACIMIENTO   \n",
       " 0000001R:   1   Hut Pizzeria  :   6   Empresa: 805   Min.   :19100204  \n",
       " 0000002J:   1   Norma         :   6   Hombre :2076   1st Qu.:19390225  \n",
       " 0000003B:   1   Payne Henry   :   6   Mujer  :1188   Median :19511109  \n",
       " 0000004N:   1   Brigham Ernest:   5                  Mean   :19516993  \n",
       " 0000005E:   1   Noma          :   5                  3rd Qu.:19670811  \n",
       " 0000006C:   1   Tanner        :   5                  Max.   :19791231  \n",
       " (Other) :4063   (Other)       :4036                                    \n",
       "        ESTADOCIVIL                                      DIRECCION   \n",
       "              : 805   116 Sussex Gardens ,London EC1          :   7  \n",
       " Casado/a     :1318   15 Bury St, St James'S ,London NW1      :   7  \n",
       " Divorciado/a : 651   Corso Buenos Aires 3 , Milano           :   7  \n",
       " Soltero/a    :1219   Piazzale Suppercortemaggiore 4 , Milano :   7  \n",
       " Viudo/a      :  76   Via Ludovico Ariosto 22 , Milano        :   7  \n",
       "                      Viale Lombardia 55 , Milano             :   7  \n",
       "                      (Other)                                 :4027  \n",
       "                                  PROFESION    NUMEROHIJOS    \n",
       " Economistas,Abogados & Admin.Empresas :707   Min.   :0.0000  \n",
       " Gerentes & Directivos                 :703   1st Qu.:0.0000  \n",
       " Doctores & Profesionales de la Salud  :663   Median :0.0000  \n",
       " Ingenieros & Especialistas            :507   Mean   :0.9684  \n",
       " Architectos,Decoradores & Humanistas  :485   3rd Qu.:2.0000  \n",
       " Catering                              :339   Max.   :4.0000  \n",
       " (Other)                               :665   NA's   :805     \n",
       "          REGION             NACIONALIDAD   TOTALCOMPRAS    PUNTOSACUMULADOS\n",
       " Norte Europa:1821   España        :1349   Min.   : 0.000   Min.   :  5.00  \n",
       " Norteamérica: 899   Estados Unidos: 899   1st Qu.: 5.000   1st Qu.:  7.00  \n",
       " Sur Europa  :1349   Reino Unido   :1821   Median : 8.000   Median :  9.00  \n",
       "                                           Mean   : 8.729   Mean   : 11.54  \n",
       "                                           3rd Qu.:12.000   3rd Qu.: 12.00  \n",
       "                                           Max.   :48.000   Max.   :105.00  \n",
       "                                                                            "
      ]
     },
     "metadata": {},
     "output_type": "display_data"
    }
   ],
   "source": [
    "summary(gourmet.cliente)"
   ]
  },
  {
   "cell_type": "markdown",
   "metadata": {},
   "source": [
    "## Arbres de decisió "
   ]
  },
  {
   "cell_type": "markdown",
   "metadata": {},
   "source": [
    "Una altra manera d'ajudar al nostre client pot ser fer un sistema predictiu a partir d'arbres de decisions, que a partir de dades del client ens faci una predicció del nivell de despesa que realitzará. Així podriem conèixer a futurs bons clients, als quals podem oferir-els-hi promocions especials o targetes de fidelització amb condicions especials, per exemple. \n",
    "\n",
    "A continuació, anem a estudiar les dades del dataframe __gourmet.cliente__:"
   ]
  },
  {
   "cell_type": "code",
   "execution_count": 58,
   "metadata": {
    "collapsed": false
   },
   "outputs": [
    {
     "data": {
      "text/html": [
       "<ol class=list-inline>\n",
       "\t<li>4069</li>\n",
       "\t<li>12</li>\n",
       "</ol>\n"
      ],
      "text/latex": [
       "\\begin{enumerate*}\n",
       "\\item 4069\n",
       "\\item 12\n",
       "\\end{enumerate*}\n"
      ],
      "text/markdown": [
       "1. 4069\n",
       "2. 12\n",
       "\n",
       "\n"
      ],
      "text/plain": [
       "[1] 4069   12"
      ]
     },
     "metadata": {},
     "output_type": "display_data"
    }
   ],
   "source": [
    "dim(gourmet.cliente)"
   ]
  },
  {
   "cell_type": "markdown",
   "metadata": {},
   "source": [
    "Aquest dataframe té 4.069 files, és a dir, hi ha 4.069 clients, i hi ha 12 atributs que els defineixen."
   ]
  },
  {
   "cell_type": "code",
   "execution_count": 59,
   "metadata": {
    "collapsed": false
   },
   "outputs": [
    {
     "data": {
      "text/html": [
       "<table>\n",
       "<thead><tr><th scope=col>CODCLIENTE</th><th scope=col>NOMBRECLIENTE</th><th scope=col>SEXO</th><th scope=col>FECHANACIMIENTO</th><th scope=col>ESTADOCIVIL</th><th scope=col>DIRECCION</th><th scope=col>PROFESION</th><th scope=col>NUMEROHIJOS</th><th scope=col>REGION</th><th scope=col>NACIONALIDAD</th><th scope=col>TOTALCOMPRAS</th><th scope=col>PUNTOSACUMULADOS</th></tr></thead>\n",
       "<tbody>\n",
       "\t<tr><td>0000001R                                            </td><td>Roca Sacristán Narciso                              </td><td>Hombre                                              </td><td>19551220                                            </td><td>Soltero/a                                           </td><td>Piazzale Suppercortemaggiore 4 , Milano             </td><td>Economistas,Abogados &amp; Admin.Empresas           </td><td>0                                                   </td><td><span style=white-space:pre-wrap>Sur Europa  </span></td><td><span style=white-space:pre-wrap>España      </span></td><td> 4                                                  </td><td> 7                                                  </td></tr>\n",
       "\t<tr><td>0065536F                                                                          </td><td>Fuentes Mohedano Rosa                                                             </td><td><span style=white-space:pre-wrap>Mujer  </span>                                   </td><td>19420108                                                                          </td><td>Casado/a                                                                          </td><td><span style=white-space:pre-wrap>C/ Niza 73 08032 Barcelona              </span>  </td><td><span style=white-space:pre-wrap>Ingenieros &amp; Especialistas            </span></td><td>1                                                                                 </td><td><span style=white-space:pre-wrap>Sur Europa  </span>                              </td><td><span style=white-space:pre-wrap>España      </span>                              </td><td>16                                                                                </td><td>13                                                                                </td></tr>\n",
       "\t<tr><td>0065537P                                                                          </td><td><span style=white-space:pre-wrap>Prat Salom Pedro      </span>                    </td><td>Hombre                                                                            </td><td>19400315                                                                          </td><td>Casado/a                                                                          </td><td><span style=white-space:pre-wrap>corso Vittorio Emanuele, 102 Roma       </span>  </td><td><span style=white-space:pre-wrap>Doctores &amp; Profesionales de la Salud  </span></td><td>2                                                                                 </td><td><span style=white-space:pre-wrap>Sur Europa  </span>                              </td><td><span style=white-space:pre-wrap>España      </span>                              </td><td>14                                                                                </td><td>10                                                                                </td></tr>\n",
       "\t<tr><td>0000002J                                                                          </td><td><span style=white-space:pre-wrap>Jones Nicholas        </span>                    </td><td>Hombre                                                                            </td><td>19110808                                                                          </td><td>Soltero/a                                                                         </td><td><span style=white-space:pre-wrap>1 Place de la Sorbonne , 75003 Paris    </span>  </td><td><span style=white-space:pre-wrap>Ingenieros &amp; Especialistas            </span></td><td>0                                                                                 </td><td>Norte Europa                                                                      </td><td>Reino Unido                                                                       </td><td> 2                                                                                </td><td> 9                                                                                </td></tr>\n",
       "\t<tr><td>0000003B                                                                          </td><td><span style=white-space:pre-wrap>Burton Alexander      </span>                    </td><td>Hombre                                                                            </td><td>19420417                                                                          </td><td>Casado/a                                                                          </td><td><span style=white-space:pre-wrap>46 Stockwell Place ,Liverpool L69 2DH   </span>  </td><td><span style=white-space:pre-wrap>Doctores &amp; Profesionales de la Salud  </span></td><td>2                                                                                 </td><td>Norte Europa                                                                      </td><td>Reino Unido                                                                       </td><td>13                                                                                </td><td> 9                                                                                </td></tr>\n",
       "\t<tr><td>0065538S                                                                        </td><td><span style=white-space:pre-wrap>Sales Deborah         </span>                  </td><td><span style=white-space:pre-wrap>Mujer  </span>                                 </td><td>19410526                                                                        </td><td>Casado/a                                                                        </td><td><span style=white-space:pre-wrap>Leopoldstraße 44, München               </span></td><td>Economistas,Abogados &amp; Admin.Empresas                                       </td><td>1                                                                               </td><td>Norte Europa                                                                    </td><td>Reino Unido                                                                     </td><td> 7                                                                              </td><td>11                                                                              </td></tr>\n",
       "</tbody>\n",
       "</table>\n"
      ],
      "text/latex": [
       "\\begin{tabular}{r|llllllllllll}\n",
       " CODCLIENTE & NOMBRECLIENTE & SEXO & FECHANACIMIENTO & ESTADOCIVIL & DIRECCION & PROFESION & NUMEROHIJOS & REGION & NACIONALIDAD & TOTALCOMPRAS & PUNTOSACUMULADOS\\\\\n",
       "\\hline\n",
       "\t 0000001R                                 & Roca Sacristán Narciso                   & Hombre                                   & 19551220                                 & Soltero/a                                & Piazzale Suppercortemaggiore 4 , Milano  & Economistas,Abogados \\& Admin.Empresas  & 0                                        & Sur Europa                               & España                                   &  4                                       &  7                                      \\\\\n",
       "\t 0065536F                                 & Fuentes Mohedano Rosa                    & Mujer                                    & 19420108                                 & Casado/a                                 & C/ Niza 73 08032 Barcelona               & Ingenieros \\& Especialistas             & 1                                        & Sur Europa                               & España                                   & 16                                       & 13                                      \\\\\n",
       "\t 0065537P                                 & Prat Salom Pedro                         & Hombre                                   & 19400315                                 & Casado/a                                 & corso Vittorio Emanuele, 102 Roma        & Doctores \\& Profesionales de la Salud   & 2                                        & Sur Europa                               & España                                   & 14                                       & 10                                      \\\\\n",
       "\t 0000002J                                 & Jones Nicholas                           & Hombre                                   & 19110808                                 & Soltero/a                                & 1 Place de la Sorbonne , 75003 Paris     & Ingenieros \\& Especialistas             & 0                                        & Norte Europa                             & Reino Unido                              &  2                                       &  9                                      \\\\\n",
       "\t 0000003B                                 & Burton Alexander                         & Hombre                                   & 19420417                                 & Casado/a                                 & 46 Stockwell Place ,Liverpool L69 2DH    & Doctores \\& Profesionales de la Salud   & 2                                        & Norte Europa                             & Reino Unido                              & 13                                       &  9                                      \\\\\n",
       "\t 0065538S                                 & Sales Deborah                            & Mujer                                    & 19410526                                 & Casado/a                                 & Leopoldstraße 44, München                & Economistas,Abogados \\& Admin.Empresas  & 1                                        & Norte Europa                             & Reino Unido                              &  7                                       & 11                                      \\\\\n",
       "\\end{tabular}\n"
      ],
      "text/markdown": [
       "\n",
       "CODCLIENTE | NOMBRECLIENTE | SEXO | FECHANACIMIENTO | ESTADOCIVIL | DIRECCION | PROFESION | NUMEROHIJOS | REGION | NACIONALIDAD | TOTALCOMPRAS | PUNTOSACUMULADOS | \n",
       "|---|---|---|---|---|---|\n",
       "| 0000001R                                 | Roca Sacristán Narciso                   | Hombre                                   | 19551220                                 | Soltero/a                                | Piazzale Suppercortemaggiore 4 , Milano  | Economistas,Abogados & Admin.Empresas    | 0                                        | Sur Europa                               | España                                   |  4                                       |  7                                       | \n",
       "| 0065536F                                 | Fuentes Mohedano Rosa                    | Mujer                                    | 19420108                                 | Casado/a                                 | C/ Niza 73 08032 Barcelona               | Ingenieros & Especialistas               | 1                                        | Sur Europa                               | España                                   | 16                                       | 13                                       | \n",
       "| 0065537P                                 | Prat Salom Pedro                         | Hombre                                   | 19400315                                 | Casado/a                                 | corso Vittorio Emanuele, 102 Roma        | Doctores & Profesionales de la Salud     | 2                                        | Sur Europa                               | España                                   | 14                                       | 10                                       | \n",
       "| 0000002J                                 | Jones Nicholas                           | Hombre                                   | 19110808                                 | Soltero/a                                | 1 Place de la Sorbonne , 75003 Paris     | Ingenieros & Especialistas               | 0                                        | Norte Europa                             | Reino Unido                              |  2                                       |  9                                       | \n",
       "| 0000003B                                 | Burton Alexander                         | Hombre                                   | 19420417                                 | Casado/a                                 | 46 Stockwell Place ,Liverpool L69 2DH    | Doctores & Profesionales de la Salud     | 2                                        | Norte Europa                             | Reino Unido                              | 13                                       |  9                                       | \n",
       "| 0065538S                                 | Sales Deborah                            | Mujer                                    | 19410526                                 | Casado/a                                 | Leopoldstraße 44, München                | Economistas,Abogados & Admin.Empresas    | 1                                        | Norte Europa                             | Reino Unido                              |  7                                       | 11                                       | \n",
       "\n",
       "\n"
      ],
      "text/plain": [
       "  CODCLIENTE NOMBRECLIENTE          SEXO    FECHANACIMIENTO ESTADOCIVIL\n",
       "1 0000001R   Roca Sacristán Narciso Hombre  19551220        Soltero/a  \n",
       "2 0065536F   Fuentes Mohedano Rosa  Mujer   19420108        Casado/a   \n",
       "3 0065537P   Prat Salom Pedro       Hombre  19400315        Casado/a   \n",
       "4 0000002J   Jones Nicholas         Hombre  19110808        Soltero/a  \n",
       "5 0000003B   Burton Alexander       Hombre  19420417        Casado/a   \n",
       "6 0065538S   Sales Deborah          Mujer   19410526        Casado/a   \n",
       "  DIRECCION                               \n",
       "1 Piazzale Suppercortemaggiore 4 , Milano \n",
       "2 C/ Niza 73 08032 Barcelona              \n",
       "3 corso Vittorio Emanuele, 102 Roma       \n",
       "4 1 Place de la Sorbonne , 75003 Paris    \n",
       "5 46 Stockwell Place ,Liverpool L69 2DH   \n",
       "6 Leopoldstraße 44, München               \n",
       "  PROFESION                              NUMEROHIJOS REGION       NACIONALIDAD\n",
       "1 Economistas,Abogados & Admin.Empresas  0           Sur Europa   España      \n",
       "2 Ingenieros & Especialistas             1           Sur Europa   España      \n",
       "3 Doctores & Profesionales de la Salud   2           Sur Europa   España      \n",
       "4 Ingenieros & Especialistas             0           Norte Europa Reino Unido \n",
       "5 Doctores & Profesionales de la Salud   2           Norte Europa Reino Unido \n",
       "6 Economistas,Abogados & Admin.Empresas  1           Norte Europa Reino Unido \n",
       "  TOTALCOMPRAS PUNTOSACUMULADOS\n",
       "1  4            7              \n",
       "2 16           13              \n",
       "3 14           10              \n",
       "4  2            9              \n",
       "5 13            9              \n",
       "6  7           11              "
      ]
     },
     "metadata": {},
     "output_type": "display_data"
    }
   ],
   "source": [
    "head(gourmet.cliente)"
   ]
  },
  {
   "cell_type": "code",
   "execution_count": 60,
   "metadata": {
    "collapsed": false
   },
   "outputs": [
    {
     "data": {
      "text/plain": [
       "    CODCLIENTE          NOMBRECLIENTE       SEXO      FECHANACIMIENTO   \n",
       " 0000001R:   1   Hut Pizzeria  :   6   Empresa: 805   Min.   :19100204  \n",
       " 0000002J:   1   Norma         :   6   Hombre :2076   1st Qu.:19390225  \n",
       " 0000003B:   1   Payne Henry   :   6   Mujer  :1188   Median :19511109  \n",
       " 0000004N:   1   Brigham Ernest:   5                  Mean   :19516993  \n",
       " 0000005E:   1   Noma          :   5                  3rd Qu.:19670811  \n",
       " 0000006C:   1   Tanner        :   5                  Max.   :19791231  \n",
       " (Other) :4063   (Other)       :4036                                    \n",
       "        ESTADOCIVIL                                      DIRECCION   \n",
       "              : 805   116 Sussex Gardens ,London EC1          :   7  \n",
       " Casado/a     :1318   15 Bury St, St James'S ,London NW1      :   7  \n",
       " Divorciado/a : 651   Corso Buenos Aires 3 , Milano           :   7  \n",
       " Soltero/a    :1219   Piazzale Suppercortemaggiore 4 , Milano :   7  \n",
       " Viudo/a      :  76   Via Ludovico Ariosto 22 , Milano        :   7  \n",
       "                      Viale Lombardia 55 , Milano             :   7  \n",
       "                      (Other)                                 :4027  \n",
       "                                  PROFESION    NUMEROHIJOS    \n",
       " Economistas,Abogados & Admin.Empresas :707   Min.   :0.0000  \n",
       " Gerentes & Directivos                 :703   1st Qu.:0.0000  \n",
       " Doctores & Profesionales de la Salud  :663   Median :0.0000  \n",
       " Ingenieros & Especialistas            :507   Mean   :0.9684  \n",
       " Architectos,Decoradores & Humanistas  :485   3rd Qu.:2.0000  \n",
       " Catering                              :339   Max.   :4.0000  \n",
       " (Other)                               :665   NA's   :805     \n",
       "          REGION             NACIONALIDAD   TOTALCOMPRAS    PUNTOSACUMULADOS\n",
       " Norte Europa:1821   España        :1349   Min.   : 0.000   Min.   :  5.00  \n",
       " Norteamérica: 899   Estados Unidos: 899   1st Qu.: 5.000   1st Qu.:  7.00  \n",
       " Sur Europa  :1349   Reino Unido   :1821   Median : 8.000   Median :  9.00  \n",
       "                                           Mean   : 8.729   Mean   : 11.54  \n",
       "                                           3rd Qu.:12.000   3rd Qu.: 12.00  \n",
       "                                           Max.   :48.000   Max.   :105.00  \n",
       "                                                                            "
      ]
     },
     "metadata": {},
     "output_type": "display_data"
    }
   ],
   "source": [
    "summary(gourmet.cliente)"
   ]
  },
  {
   "cell_type": "markdown",
   "metadata": {},
   "source": [
    "Veiem que acada client li correspon un codi que el diferencia dels altres clients. Anem a veure quants de codis diferents hi ha, és a dir, quants de clients tenim."
   ]
  },
  {
   "cell_type": "code",
   "execution_count": 61,
   "metadata": {
    "collapsed": false
   },
   "outputs": [
    {
     "data": {
      "text/html": [
       "<ol class=list-inline>\n",
       "\t<li>4069</li>\n",
       "\t<li>1</li>\n",
       "</ol>\n"
      ],
      "text/latex": [
       "\\begin{enumerate*}\n",
       "\\item 4069\n",
       "\\item 1\n",
       "\\end{enumerate*}\n"
      ],
      "text/markdown": [
       "1. 4069\n",
       "2. 1\n",
       "\n",
       "\n"
      ],
      "text/plain": [
       "[1] 4069    1"
      ]
     },
     "metadata": {},
     "output_type": "display_data"
    }
   ],
   "source": [
    "dim(unique(subset(gourmet.cliente, select=CODCLIENTE)))"
   ]
  },
  {
   "cell_type": "markdown",
   "metadata": {},
   "source": [
    "Molt bé, veiem que no hi ha clients repetits.\n",
    "\n",
    "Cada client té un nom, i veiem com hi ha noms que es repeteixen. Això pot ser degut a que un mateix client pot ser-ho de diferents botigues. Anem a veure quants de noms diferents hi ha: "
   ]
  },
  {
   "cell_type": "code",
   "execution_count": 62,
   "metadata": {
    "collapsed": false
   },
   "outputs": [
    {
     "data": {
      "text/html": [
       "<ol class=list-inline>\n",
       "\t<li>3288</li>\n",
       "\t<li>1</li>\n",
       "</ol>\n"
      ],
      "text/latex": [
       "\\begin{enumerate*}\n",
       "\\item 3288\n",
       "\\item 1\n",
       "\\end{enumerate*}\n"
      ],
      "text/markdown": [
       "1. 3288\n",
       "2. 1\n",
       "\n",
       "\n"
      ],
      "text/plain": [
       "[1] 3288    1"
      ]
     },
     "metadata": {},
     "output_type": "display_data"
    }
   ],
   "source": [
    "dim(unique(subset(gourmet.cliente, select=NOMBRECLIENTE)))"
   ]
  },
  {
   "cell_type": "markdown",
   "metadata": {},
   "source": [
    "Veiem que, efectivament, hi ha menys noms únics que codis de clients. Anem a agafar qualsevol dels clients que tenen noms repetits, per exemple *Norma* (com es pot veure als resultats de la funció *head()*), i anem a veure les files en que apareix."
   ]
  },
  {
   "cell_type": "code",
   "execution_count": 63,
   "metadata": {
    "collapsed": false
   },
   "outputs": [
    {
     "data": {
      "text/html": [
       "<ol class=list-inline>\n",
       "\t<li>0</li>\n",
       "\t<li>12</li>\n",
       "</ol>\n"
      ],
      "text/latex": [
       "\\begin{enumerate*}\n",
       "\\item 0\n",
       "\\item 12\n",
       "\\end{enumerate*}\n"
      ],
      "text/markdown": [
       "1. 0\n",
       "2. 12\n",
       "\n",
       "\n"
      ],
      "text/plain": [
       "[1]  0 12"
      ]
     },
     "metadata": {},
     "output_type": "display_data"
    }
   ],
   "source": [
    "dim(unique(subset(gourmet.cliente, NOMBRECLIENTE==\"Norma\")))"
   ]
  },
  {
   "cell_type": "markdown",
   "metadata": {},
   "source": [
    "Ens surten 0 resultats, quan la funció *head()* ens mostra clarament que hi ha 6 clients amb el nom *Norma*. Suposo que es tracta del mateix problema de presència d'espais en blanc que hem tingut anteriorment. Anem a treure aquests possibles espais en blanc:"
   ]
  },
  {
   "cell_type": "code",
   "execution_count": 64,
   "metadata": {
    "collapsed": true
   },
   "outputs": [],
   "source": [
    "gourmet.cliente$NOMBRECLIENTE <- trimws(gourmet.cliente$NOMBRECLIENTE)"
   ]
  },
  {
   "cell_type": "code",
   "execution_count": 65,
   "metadata": {
    "collapsed": false
   },
   "outputs": [
    {
     "data": {
      "text/html": [
       "<ol class=list-inline>\n",
       "\t<li>6</li>\n",
       "\t<li>12</li>\n",
       "</ol>\n"
      ],
      "text/latex": [
       "\\begin{enumerate*}\n",
       "\\item 6\n",
       "\\item 12\n",
       "\\end{enumerate*}\n"
      ],
      "text/markdown": [
       "1. 6\n",
       "2. 12\n",
       "\n",
       "\n"
      ],
      "text/plain": [
       "[1]  6 12"
      ]
     },
     "metadata": {},
     "output_type": "display_data"
    }
   ],
   "source": [
    "dim(unique(subset(gourmet.cliente, NOMBRECLIENTE==\"Norma\")))"
   ]
  },
  {
   "cell_type": "markdown",
   "metadata": {},
   "source": [
    "Molt bé, hem solucionat el problema. Com que veig que es tracta d'un problema recurrent, vaig a fer la mateixa operació amb totes les columnes del dataframe. Per veure si ha anat bé, podem prendre algun valor d'algun atribut que a l'arxiu original __cliente.cvs__ aparegui amb espais en blanc addicionals, com per exemple els valors \"Casado/a \"de l'atribut __ESTADOCIVIL__. :"
   ]
  },
  {
   "cell_type": "code",
   "execution_count": 66,
   "metadata": {
    "collapsed": false
   },
   "outputs": [
    {
     "data": {
      "text/html": [
       "<ol class=list-inline>\n",
       "\t<li>1318</li>\n",
       "\t<li>12</li>\n",
       "</ol>\n"
      ],
      "text/latex": [
       "\\begin{enumerate*}\n",
       "\\item 1318\n",
       "\\item 12\n",
       "\\end{enumerate*}\n"
      ],
      "text/markdown": [
       "1. 1318\n",
       "2. 12\n",
       "\n",
       "\n"
      ],
      "text/plain": [
       "[1] 1318   12"
      ]
     },
     "metadata": {},
     "output_type": "display_data"
    }
   ],
   "source": [
    "dim(unique(subset(gourmet.cliente, ESTADOCIVIL==\"Casado/a \")))"
   ]
  },
  {
   "cell_type": "markdown",
   "metadata": {},
   "source": [
    "Ara anem a treure tots els espais en blanc addicionals a tot el dataframe:"
   ]
  },
  {
   "cell_type": "code",
   "execution_count": 67,
   "metadata": {
    "collapsed": false
   },
   "outputs": [],
   "source": [
    "for (name in names(gourmet.cliente)) {\n",
    "    gourmet.cliente[[name]] <- trimws(gourmet.cliente[[name]])\n",
    "}"
   ]
  },
  {
   "cell_type": "markdown",
   "metadata": {},
   "source": [
    "Comprovem que ha anat bé:"
   ]
  },
  {
   "cell_type": "code",
   "execution_count": 68,
   "metadata": {
    "collapsed": false
   },
   "outputs": [
    {
     "data": {
      "text/html": [
       "<ol class=list-inline>\n",
       "\t<li>0</li>\n",
       "\t<li>12</li>\n",
       "</ol>\n"
      ],
      "text/latex": [
       "\\begin{enumerate*}\n",
       "\\item 0\n",
       "\\item 12\n",
       "\\end{enumerate*}\n"
      ],
      "text/markdown": [
       "1. 0\n",
       "2. 12\n",
       "\n",
       "\n"
      ],
      "text/plain": [
       "[1]  0 12"
      ]
     },
     "metadata": {},
     "output_type": "display_data"
    }
   ],
   "source": [
    "dim(unique(subset(gourmet.cliente, ESTADOCIVIL==\"Casado/a \")))"
   ]
  },
  {
   "cell_type": "markdown",
   "metadata": {},
   "source": [
    "Veiem que ha funcionat. Continuem amb el cas que consideravem, els clients amb nom *Norma*. "
   ]
  },
  {
   "cell_type": "code",
   "execution_count": 69,
   "metadata": {
    "collapsed": false
   },
   "outputs": [
    {
     "data": {
      "text/html": [
       "<table>\n",
       "<thead><tr><th></th><th scope=col>CODCLIENTE</th><th scope=col>NOMBRECLIENTE</th><th scope=col>SEXO</th><th scope=col>FECHANACIMIENTO</th><th scope=col>ESTADOCIVIL</th><th scope=col>DIRECCION</th><th scope=col>PROFESION</th><th scope=col>NUMEROHIJOS</th><th scope=col>REGION</th><th scope=col>NACIONALIDAD</th><th scope=col>TOTALCOMPRAS</th><th scope=col>PUNTOSACUMULADOS</th></tr></thead>\n",
       "<tbody>\n",
       "\t<tr><th scope=row>478</th><td>0720926N                                      </td><td>Norma                                         </td><td>Empresa                                       </td><td>19300721                                      </td><td>                                              </td><td>via Margutta, 61 Roma                         </td><td>Servicios                                     </td><td>NA                                            </td><td>Sur Europa                                    </td><td>España                                        </td><td>7                                             </td><td>10                                            </td></tr>\n",
       "\t<tr><th scope=row>1323</th><td>0458801N                                      </td><td>Norma                                         </td><td>Empresa                                       </td><td>19751110                                      </td><td>                                              </td><td>3 Rue Ledion , 75001 Paris                    </td><td>Catering                                      </td><td>NA                                            </td><td>Norte Europa                                  </td><td>Reino Unido                                   </td><td>18                                            </td><td>50                                            </td></tr>\n",
       "\t<tr><th scope=row>3004</th><td>4063254N                                      </td><td>Norma                                         </td><td>Empresa                                       </td><td>19520827                                      </td><td>                                              </td><td>Via Vare, 32 , Milano                         </td><td>Catering                                      </td><td>NA                                            </td><td>Sur Europa                                    </td><td>España                                        </td><td>12                                            </td><td>10                                            </td></tr>\n",
       "\t<tr><th scope=row>3169</th><td>2359337N                                      </td><td>Norma                                         </td><td>Empresa                                       </td><td>19510108                                      </td><td>                                              </td><td>246 Grand St Fl 1  New York, NY 10007         </td><td>Catering                                      </td><td>NA                                            </td><td>Norteamérica                                  </td><td>Estados Unidos                                </td><td>9                                             </td><td>13                                            </td></tr>\n",
       "\t<tr><th scope=row>3214</th><td>2818082N                                      </td><td>Norma                                         </td><td>Empresa                                       </td><td>19220520                                      </td><td>                                              </td><td>Bravo Murillo, 304, Madrid 28017              </td><td>Catering                                      </td><td>NA                                            </td><td>Sur Europa                                    </td><td>España                                        </td><td>9                                             </td><td>9                                             </td></tr>\n",
       "\t<tr><th scope=row>3624</th><td>3538976N                                      </td><td>Norma                                         </td><td>Empresa                                       </td><td>19371121                                      </td><td>                                              </td><td>2601 W Broward Blvd  Fort Lauderdale, FL 33033</td><td>Catering                                      </td><td>NA                                            </td><td>Norteamérica                                  </td><td>Estados Unidos                                </td><td>6                                             </td><td>7                                             </td></tr>\n",
       "</tbody>\n",
       "</table>\n"
      ],
      "text/latex": [
       "\\begin{tabular}{r|llllllllllll}\n",
       "  & CODCLIENTE & NOMBRECLIENTE & SEXO & FECHANACIMIENTO & ESTADOCIVIL & DIRECCION & PROFESION & NUMEROHIJOS & REGION & NACIONALIDAD & TOTALCOMPRAS & PUNTOSACUMULADOS\\\\\n",
       "\\hline\n",
       "\t478 & 0720926N                                       & Norma                                          & Empresa                                        & 19300721                                       &                                                & via Margutta, 61 Roma                          & Servicios                                      & NA                                             & Sur Europa                                     & España                                         & 7                                              & 10                                            \\\\\n",
       "\t1323 & 0458801N                                       & Norma                                          & Empresa                                        & 19751110                                       &                                                & 3 Rue Ledion , 75001 Paris                     & Catering                                       & NA                                             & Norte Europa                                   & Reino Unido                                    & 18                                             & 50                                            \\\\\n",
       "\t3004 & 4063254N                                       & Norma                                          & Empresa                                        & 19520827                                       &                                                & Via Vare, 32 , Milano                          & Catering                                       & NA                                             & Sur Europa                                     & España                                         & 12                                             & 10                                            \\\\\n",
       "\t3169 & 2359337N                                       & Norma                                          & Empresa                                        & 19510108                                       &                                                & 246 Grand St Fl 1  New York, NY 10007          & Catering                                       & NA                                             & Norteamérica                                   & Estados Unidos                                 & 9                                              & 13                                            \\\\\n",
       "\t3214 & 2818082N                                       & Norma                                          & Empresa                                        & 19220520                                       &                                                & Bravo Murillo, 304, Madrid 28017               & Catering                                       & NA                                             & Sur Europa                                     & España                                         & 9                                              & 9                                             \\\\\n",
       "\t3624 & 3538976N                                       & Norma                                          & Empresa                                        & 19371121                                       &                                                & 2601 W Broward Blvd  Fort Lauderdale, FL 33033 & Catering                                       & NA                                             & Norteamérica                                   & Estados Unidos                                 & 6                                              & 7                                             \\\\\n",
       "\\end{tabular}\n"
      ],
      "text/markdown": [
       "\n",
       "| <!--/--> | CODCLIENTE | NOMBRECLIENTE | SEXO | FECHANACIMIENTO | ESTADOCIVIL | DIRECCION | PROFESION | NUMEROHIJOS | REGION | NACIONALIDAD | TOTALCOMPRAS | PUNTOSACUMULADOS | \n",
       "|---|---|---|---|---|---|\n",
       "| 478 | 0720926N                                       | Norma                                          | Empresa                                        | 19300721                                       |                                                | via Margutta, 61 Roma                          | Servicios                                      | NA                                             | Sur Europa                                     | España                                         | 7                                              | 10                                             | \n",
       "| 1323 | 0458801N                                       | Norma                                          | Empresa                                        | 19751110                                       |                                                | 3 Rue Ledion , 75001 Paris                     | Catering                                       | NA                                             | Norte Europa                                   | Reino Unido                                    | 18                                             | 50                                             | \n",
       "| 3004 | 4063254N                                       | Norma                                          | Empresa                                        | 19520827                                       |                                                | Via Vare, 32 , Milano                          | Catering                                       | NA                                             | Sur Europa                                     | España                                         | 12                                             | 10                                             | \n",
       "| 3169 | 2359337N                                       | Norma                                          | Empresa                                        | 19510108                                       |                                                | 246 Grand St Fl 1  New York, NY 10007          | Catering                                       | NA                                             | Norteamérica                                   | Estados Unidos                                 | 9                                              | 13                                             | \n",
       "| 3214 | 2818082N                                       | Norma                                          | Empresa                                        | 19220520                                       |                                                | Bravo Murillo, 304, Madrid 28017               | Catering                                       | NA                                             | Sur Europa                                     | España                                         | 9                                              | 9                                              | \n",
       "| 3624 | 3538976N                                       | Norma                                          | Empresa                                        | 19371121                                       |                                                | 2601 W Broward Blvd  Fort Lauderdale, FL 33033 | Catering                                       | NA                                             | Norteamérica                                   | Estados Unidos                                 | 6                                              | 7                                              | \n",
       "\n",
       "\n"
      ],
      "text/plain": [
       "     CODCLIENTE NOMBRECLIENTE SEXO    FECHANACIMIENTO ESTADOCIVIL\n",
       "478  0720926N   Norma         Empresa 19300721                   \n",
       "1323 0458801N   Norma         Empresa 19751110                   \n",
       "3004 4063254N   Norma         Empresa 19520827                   \n",
       "3169 2359337N   Norma         Empresa 19510108                   \n",
       "3214 2818082N   Norma         Empresa 19220520                   \n",
       "3624 3538976N   Norma         Empresa 19371121                   \n",
       "     DIRECCION                                      PROFESION NUMEROHIJOS\n",
       "478  via Margutta, 61 Roma                          Servicios NA         \n",
       "1323 3 Rue Ledion , 75001 Paris                     Catering  NA         \n",
       "3004 Via Vare, 32 , Milano                          Catering  NA         \n",
       "3169 246 Grand St Fl 1  New York, NY 10007          Catering  NA         \n",
       "3214 Bravo Murillo, 304, Madrid 28017               Catering  NA         \n",
       "3624 2601 W Broward Blvd  Fort Lauderdale, FL 33033 Catering  NA         \n",
       "     REGION       NACIONALIDAD   TOTALCOMPRAS PUNTOSACUMULADOS\n",
       "478  Sur Europa   España         7            10              \n",
       "1323 Norte Europa Reino Unido    18           50              \n",
       "3004 Sur Europa   España         12           10              \n",
       "3169 Norteamérica Estados Unidos 9            13              \n",
       "3214 Sur Europa   España         9            9               \n",
       "3624 Norteamérica Estados Unidos 6            7               "
      ]
     },
     "metadata": {},
     "output_type": "display_data"
    }
   ],
   "source": [
    "subset(gourmet.cliente, NOMBRECLIENTE==\"Norma\")"
   ]
  },
  {
   "cell_type": "markdown",
   "metadata": {},
   "source": [
    "Efectivament, veiem que es tracta d'empreses i segurament es deu tractar de la mateixa empresa però botigues diferents. Per tant, considerarem aquests casos com si fosin clients diferents, ja que es tracta de localitzacions diferents. A més, tampoc podem assegurar que es tracti de la mateixa empresa."
   ]
  },
  {
   "cell_type": "markdown",
   "metadata": {},
   "source": [
    "Seguim amb els diferents atributs que hi ha en aquest dataframe. Per l'atribut __SEXO__ tenim tres valors diferents: *Hombre*, *Mujer* i *Empresa*. Per tant, diferencia entre persones particulars i empreses.\n",
    "\n",
    "Passem a l'atribut __FECHANACIMIENTO__. Es tracta de la data de naixement donat per un string en el que els primers 4 caracters corresponen a l'any, el 2 següents al mes i els 2 darrers al dia. Amb aquesta disposició, tenim que si convertim aquests strings a enters, ens serviran per classificar segons l'edat. El que hem de fer, però, es passar-los a valors numèrics:"
   ]
  },
  {
   "cell_type": "code",
   "execution_count": 70,
   "metadata": {
    "collapsed": true
   },
   "outputs": [],
   "source": [
    "gourmet.cliente$FECHANACIMIENTO <- as.numeric(gourmet.cliente$FECHANACIMIENTO)"
   ]
  },
  {
   "cell_type": "markdown",
   "metadata": {},
   "source": [
    "Anem a comprovar que ha anat bé considerant un cas particular:"
   ]
  },
  {
   "cell_type": "code",
   "execution_count": 71,
   "metadata": {
    "collapsed": false
   },
   "outputs": [
    {
     "data": {
      "text/html": [
       "<table>\n",
       "<thead><tr><th></th><th scope=col>CODCLIENTE</th><th scope=col>NOMBRECLIENTE</th><th scope=col>SEXO</th><th scope=col>FECHANACIMIENTO</th><th scope=col>ESTADOCIVIL</th><th scope=col>DIRECCION</th><th scope=col>PROFESION</th><th scope=col>NUMEROHIJOS</th><th scope=col>REGION</th><th scope=col>NACIONALIDAD</th><th scope=col>TOTALCOMPRAS</th><th scope=col>PUNTOSACUMULADOS</th></tr></thead>\n",
       "<tbody>\n",
       "\t<tr><th scope=row>478</th><td>0720926N             </td><td>Norma                </td><td>Empresa              </td><td>19300721             </td><td>                     </td><td>via Margutta, 61 Roma</td><td>Servicios            </td><td>NA                   </td><td>Sur Europa           </td><td>España               </td><td>7                    </td><td>10                   </td></tr>\n",
       "</tbody>\n",
       "</table>\n"
      ],
      "text/latex": [
       "\\begin{tabular}{r|llllllllllll}\n",
       "  & CODCLIENTE & NOMBRECLIENTE & SEXO & FECHANACIMIENTO & ESTADOCIVIL & DIRECCION & PROFESION & NUMEROHIJOS & REGION & NACIONALIDAD & TOTALCOMPRAS & PUNTOSACUMULADOS\\\\\n",
       "\\hline\n",
       "\t478 & 0720926N              & Norma                 & Empresa               & 19300721              &                       & via Margutta, 61 Roma & Servicios             & NA                    & Sur Europa            & España                & 7                     & 10                   \\\\\n",
       "\\end{tabular}\n"
      ],
      "text/markdown": [
       "\n",
       "| <!--/--> | CODCLIENTE | NOMBRECLIENTE | SEXO | FECHANACIMIENTO | ESTADOCIVIL | DIRECCION | PROFESION | NUMEROHIJOS | REGION | NACIONALIDAD | TOTALCOMPRAS | PUNTOSACUMULADOS | \n",
       "|---|\n",
       "| 478 | 0720926N              | Norma                 | Empresa               | 19300721              |                       | via Margutta, 61 Roma | Servicios             | NA                    | Sur Europa            | España                | 7                     | 10                    | \n",
       "\n",
       "\n"
      ],
      "text/plain": [
       "    CODCLIENTE NOMBRECLIENTE SEXO    FECHANACIMIENTO ESTADOCIVIL\n",
       "478 0720926N   Norma         Empresa 19300721                   \n",
       "    DIRECCION             PROFESION NUMEROHIJOS REGION     NACIONALIDAD\n",
       "478 via Margutta, 61 Roma Servicios NA          Sur Europa España      \n",
       "    TOTALCOMPRAS PUNTOSACUMULADOS\n",
       "478 7            10              "
      ]
     },
     "metadata": {},
     "output_type": "display_data"
    }
   ],
   "source": [
    "subset(gourmet.cliente, gourmet.cliente$FECHANACIMIENTO==19300721)"
   ]
  },
  {
   "cell_type": "markdown",
   "metadata": {},
   "source": [
    "Molt bé, el canvi de strings a valors numèrics ha funcionat. Si mirarm amb la funció *summary()* ho podrem comprovar:"
   ]
  },
  {
   "cell_type": "code",
   "execution_count": 72,
   "metadata": {
    "collapsed": false
   },
   "outputs": [
    {
     "data": {
      "text/plain": [
       "    Min.  1st Qu.   Median     Mean  3rd Qu.     Max. \n",
       "19100204 19390225 19511109 19516993 19670811 19791231 "
      ]
     },
     "metadata": {},
     "output_type": "display_data"
    }
   ],
   "source": [
    "summary(gourmet.cliente$FECHANACIMIENTO)"
   ]
  },
  {
   "cell_type": "markdown",
   "metadata": {},
   "source": [
    "Passem ara a l'atribut __ESTADOCIVIL__. Aquest presenta els següents posibles valors:"
   ]
  },
  {
   "cell_type": "code",
   "execution_count": 73,
   "metadata": {
    "collapsed": false
   },
   "outputs": [
    {
     "data": {
      "text/html": [
       "<table>\n",
       "<thead><tr><th></th><th scope=col>ESTADOCIVIL</th></tr></thead>\n",
       "<tbody>\n",
       "\t<tr><th scope=row>1</th><td>Soltero/a   </td></tr>\n",
       "\t<tr><th scope=row>2</th><td>Casado/a    </td></tr>\n",
       "\t<tr><th scope=row>10</th><td>Divorciado/a</td></tr>\n",
       "\t<tr><th scope=row>12</th><td>            </td></tr>\n",
       "\t<tr><th scope=row>22</th><td>Viudo/a     </td></tr>\n",
       "</tbody>\n",
       "</table>\n"
      ],
      "text/latex": [
       "\\begin{tabular}{r|l}\n",
       "  & ESTADOCIVIL\\\\\n",
       "\\hline\n",
       "\t1 & Soltero/a   \\\\\n",
       "\t2 & Casado/a    \\\\\n",
       "\t10 & Divorciado/a\\\\\n",
       "\t12 &             \\\\\n",
       "\t22 & Viudo/a     \\\\\n",
       "\\end{tabular}\n"
      ],
      "text/markdown": [
       "\n",
       "| <!--/--> | ESTADOCIVIL | \n",
       "|---|---|---|---|---|\n",
       "| 1 | Soltero/a    | \n",
       "| 2 | Casado/a     | \n",
       "| 10 | Divorciado/a | \n",
       "| 12 |              | \n",
       "| 22 | Viudo/a      | \n",
       "\n",
       "\n"
      ],
      "text/plain": [
       "   ESTADOCIVIL \n",
       "1  Soltero/a   \n",
       "2  Casado/a    \n",
       "10 Divorciado/a\n",
       "12             \n",
       "22 Viudo/a     "
      ]
     },
     "metadata": {},
     "output_type": "display_data"
    }
   ],
   "source": [
    "unique(subset(gourmet.cliente, select=ESTADOCIVIL))"
   ]
  },
  {
   "cell_type": "markdown",
   "metadata": {},
   "source": [
    "Si mirem els resultats de la funció *head()* veiem que del cas en que aquest atribut està buit n'hi ha 805, el mateix valor que tenim de casos en que __SEXO__ és igual a *Empresa*. Això ens ve a dir que, com que les empreses no tenen estat civil, aquest camp s'ha deixatbuit. El que podriem fer, per evitar tenir camps buits, podria ser omplir aquest camp per aquests casos amb el valor *Empresa*. Anem a fer-ho."
   ]
  },
  {
   "cell_type": "code",
   "execution_count": 74,
   "metadata": {
    "collapsed": false
   },
   "outputs": [
    {
     "data": {
      "text/plain": [
       " ESTADOCIVIL       \n",
       " Length:0          \n",
       " Class :character  \n",
       " Mode  :character  "
      ]
     },
     "metadata": {},
     "output_type": "display_data"
    },
    {
     "data": {
      "text/plain": [
       " ESTADOCIVIL       \n",
       " Length:0          \n",
       " Class :character  \n",
       " Mode  :character  "
      ]
     },
     "metadata": {},
     "output_type": "display_data"
    }
   ],
   "source": [
    "summary(subset(gourmet.cliente, select=ESTADOCIVIL, SEXO==\"Empresa\" & ESTADOCIVIL!=\"\"))\n",
    "summary(subset(gourmet.cliente, select=ESTADOCIVIL, SEXO!=\"Empresa\" & ESTADOCIVIL==\"\"))"
   ]
  },
  {
   "cell_type": "markdown",
   "metadata": {},
   "source": [
    "Veiem que no hi cap cas en que __SEXO__ sigui igual a *Empresa* i __ESTADOCIVIL__ sigui diferent al camp buit, i tampoc n'hi ha cap en que __SEXO__ no sigui igual a *Empresa* i __ESTADOCIVIL__ sigui igual al camp buit. Amb això podem assegurar que el camp buit a __ESTADOCIVIL__ només apareix en els casos en que es tracta de clients que són empreses, no persones individuals. Anem ara a omplir els camps buits amb el valor *Empresa*:"
   ]
  },
  {
   "cell_type": "code",
   "execution_count": 75,
   "metadata": {
    "collapsed": true
   },
   "outputs": [],
   "source": [
    "gourmet.cliente$ESTADOCIVIL[gourmet.cliente$ESTADOCIVIL==\"\"] <- \"Empresa\""
   ]
  },
  {
   "cell_type": "code",
   "execution_count": 76,
   "metadata": {
    "collapsed": false
   },
   "outputs": [
    {
     "ename": "ERROR",
     "evalue": "Error in parse(text = x, srcfile = src): <text>:1:6: unexpected symbol\n1: Anem a\n         ^\n",
     "output_type": "error",
     "traceback": [
      "Error in parse(text = x, srcfile = src): <text>:1:6: unexpected symbol\n1: Anem a\n         ^\nTraceback:\n"
     ]
    }
   ],
   "source": [
    "Anem a comprovar que ha anat bé:"
   ]
  },
  {
   "cell_type": "code",
   "execution_count": 77,
   "metadata": {
    "collapsed": false
   },
   "outputs": [
    {
     "data": {
      "text/html": [
       "<table>\n",
       "<thead><tr><th></th><th scope=col>ESTADOCIVIL</th></tr></thead>\n",
       "<tbody>\n",
       "\t<tr><th scope=row>1</th><td>Soltero/a   </td></tr>\n",
       "\t<tr><th scope=row>2</th><td>Casado/a    </td></tr>\n",
       "\t<tr><th scope=row>10</th><td>Divorciado/a</td></tr>\n",
       "\t<tr><th scope=row>12</th><td>Empresa     </td></tr>\n",
       "\t<tr><th scope=row>22</th><td>Viudo/a     </td></tr>\n",
       "</tbody>\n",
       "</table>\n"
      ],
      "text/latex": [
       "\\begin{tabular}{r|l}\n",
       "  & ESTADOCIVIL\\\\\n",
       "\\hline\n",
       "\t1 & Soltero/a   \\\\\n",
       "\t2 & Casado/a    \\\\\n",
       "\t10 & Divorciado/a\\\\\n",
       "\t12 & Empresa     \\\\\n",
       "\t22 & Viudo/a     \\\\\n",
       "\\end{tabular}\n"
      ],
      "text/markdown": [
       "\n",
       "| <!--/--> | ESTADOCIVIL | \n",
       "|---|---|---|---|---|\n",
       "| 1 | Soltero/a    | \n",
       "| 2 | Casado/a     | \n",
       "| 10 | Divorciado/a | \n",
       "| 12 | Empresa      | \n",
       "| 22 | Viudo/a      | \n",
       "\n",
       "\n"
      ],
      "text/plain": [
       "   ESTADOCIVIL \n",
       "1  Soltero/a   \n",
       "2  Casado/a    \n",
       "10 Divorciado/a\n",
       "12 Empresa     \n",
       "22 Viudo/a     "
      ]
     },
     "metadata": {},
     "output_type": "display_data"
    }
   ],
   "source": [
    "unique(subset(gourmet.cliente, select=ESTADOCIVIL))"
   ]
  },
  {
   "cell_type": "markdown",
   "metadata": {},
   "source": [
    "Molt bé, ja hem aclarit els valors de l'atribut __ESTADOCIVIL__. \n",
    "\n",
    "Passem ara al següent atribut, __DIRECCION__. Aquest atribut no el veiem útil per la classificació, per tant l'el·liminem:"
   ]
  },
  {
   "cell_type": "code",
   "execution_count": 78,
   "metadata": {
    "collapsed": false
   },
   "outputs": [],
   "source": [
    "gourmet.cliente <- subset(gourmet.cliente, select=-c(DIRECCION))"
   ]
  },
  {
   "cell_type": "markdown",
   "metadata": {},
   "source": [
    "Anem a comprovar que ha anat bé:"
   ]
  },
  {
   "cell_type": "code",
   "execution_count": 79,
   "metadata": {
    "collapsed": false
   },
   "outputs": [
    {
     "data": {
      "text/html": [
       "<table>\n",
       "<thead><tr><th scope=col>CODCLIENTE</th><th scope=col>NOMBRECLIENTE</th><th scope=col>SEXO</th><th scope=col>FECHANACIMIENTO</th><th scope=col>ESTADOCIVIL</th><th scope=col>PROFESION</th><th scope=col>NUMEROHIJOS</th><th scope=col>REGION</th><th scope=col>NACIONALIDAD</th><th scope=col>TOTALCOMPRAS</th><th scope=col>PUNTOSACUMULADOS</th></tr></thead>\n",
       "<tbody>\n",
       "\t<tr><td>0000001R                                            </td><td>Roca Sacristán Narciso                              </td><td>Hombre                                              </td><td>19551220                                            </td><td>Soltero/a                                           </td><td>Economistas,Abogados &amp; Admin.Empresas           </td><td>0                                                   </td><td><span style=white-space:pre-wrap>Sur Europa  </span></td><td><span style=white-space:pre-wrap>España     </span> </td><td>4                                                   </td><td>7                                                   </td></tr>\n",
       "\t<tr><td>0065536F                                                                         </td><td>Fuentes Mohedano Rosa                                                            </td><td>Mujer                                                                            </td><td>19420108                                                                         </td><td>Casado/a                                                                         </td><td><span style=white-space:pre-wrap>Ingenieros &amp; Especialistas           </span></td><td>1                                                                                </td><td><span style=white-space:pre-wrap>Sur Europa  </span>                             </td><td><span style=white-space:pre-wrap>España     </span>                              </td><td>16                                                                               </td><td>13                                                                               </td></tr>\n",
       "\t<tr><td>0065537P                                                      </td><td><span style=white-space:pre-wrap>Prat Salom Pedro      </span></td><td>Hombre                                                        </td><td>19400315                                                      </td><td>Casado/a                                                      </td><td>Doctores &amp; Profesionales de la Salud                      </td><td>2                                                             </td><td><span style=white-space:pre-wrap>Sur Europa  </span>          </td><td><span style=white-space:pre-wrap>España     </span>           </td><td>14                                                            </td><td>10                                                            </td></tr>\n",
       "\t<tr><td>0000002J                                                                         </td><td><span style=white-space:pre-wrap>Jones Nicholas        </span>                   </td><td>Hombre                                                                           </td><td>19110808                                                                         </td><td>Soltero/a                                                                        </td><td><span style=white-space:pre-wrap>Ingenieros &amp; Especialistas           </span></td><td>0                                                                                </td><td>Norte Europa                                                                     </td><td>Reino Unido                                                                      </td><td>2                                                                                </td><td>9                                                                                </td></tr>\n",
       "\t<tr><td>0000003B                                                      </td><td><span style=white-space:pre-wrap>Burton Alexander      </span></td><td>Hombre                                                        </td><td>19420417                                                      </td><td>Casado/a                                                      </td><td>Doctores &amp; Profesionales de la Salud                      </td><td>2                                                             </td><td>Norte Europa                                                  </td><td>Reino Unido                                                   </td><td>13                                                            </td><td>9                                                             </td></tr>\n",
       "\t<tr><td>0065538S                                                      </td><td><span style=white-space:pre-wrap>Sales Deborah         </span></td><td>Mujer                                                         </td><td>19410526                                                      </td><td>Casado/a                                                      </td><td>Economistas,Abogados &amp; Admin.Empresas                     </td><td>1                                                             </td><td>Norte Europa                                                  </td><td>Reino Unido                                                   </td><td>7                                                             </td><td>11                                                            </td></tr>\n",
       "</tbody>\n",
       "</table>\n"
      ],
      "text/latex": [
       "\\begin{tabular}{r|lllllllllll}\n",
       " CODCLIENTE & NOMBRECLIENTE & SEXO & FECHANACIMIENTO & ESTADOCIVIL & PROFESION & NUMEROHIJOS & REGION & NACIONALIDAD & TOTALCOMPRAS & PUNTOSACUMULADOS\\\\\n",
       "\\hline\n",
       "\t 0000001R                                & Roca Sacristán Narciso                  & Hombre                                  & 19551220                                & Soltero/a                               & Economistas,Abogados \\& Admin.Empresas & 0                                       & Sur Europa                              & España                                  & 4                                       & 7                                      \\\\\n",
       "\t 0065536F                                & Fuentes Mohedano Rosa                   & Mujer                                   & 19420108                                & Casado/a                                & Ingenieros \\& Especialistas            & 1                                       & Sur Europa                              & España                                  & 16                                      & 13                                     \\\\\n",
       "\t 0065537P                                & Prat Salom Pedro                        & Hombre                                  & 19400315                                & Casado/a                                & Doctores \\& Profesionales de la Salud  & 2                                       & Sur Europa                              & España                                  & 14                                      & 10                                     \\\\\n",
       "\t 0000002J                                & Jones Nicholas                          & Hombre                                  & 19110808                                & Soltero/a                               & Ingenieros \\& Especialistas            & 0                                       & Norte Europa                            & Reino Unido                             & 2                                       & 9                                      \\\\\n",
       "\t 0000003B                                & Burton Alexander                        & Hombre                                  & 19420417                                & Casado/a                                & Doctores \\& Profesionales de la Salud  & 2                                       & Norte Europa                            & Reino Unido                             & 13                                      & 9                                      \\\\\n",
       "\t 0065538S                                & Sales Deborah                           & Mujer                                   & 19410526                                & Casado/a                                & Economistas,Abogados \\& Admin.Empresas & 1                                       & Norte Europa                            & Reino Unido                             & 7                                       & 11                                     \\\\\n",
       "\\end{tabular}\n"
      ],
      "text/markdown": [
       "\n",
       "CODCLIENTE | NOMBRECLIENTE | SEXO | FECHANACIMIENTO | ESTADOCIVIL | PROFESION | NUMEROHIJOS | REGION | NACIONALIDAD | TOTALCOMPRAS | PUNTOSACUMULADOS | \n",
       "|---|---|---|---|---|---|\n",
       "| 0000001R                              | Roca Sacristán Narciso                | Hombre                                | 19551220                              | Soltero/a                             | Economistas,Abogados & Admin.Empresas | 0                                     | Sur Europa                            | España                                | 4                                     | 7                                     | \n",
       "| 0065536F                              | Fuentes Mohedano Rosa                 | Mujer                                 | 19420108                              | Casado/a                              | Ingenieros & Especialistas            | 1                                     | Sur Europa                            | España                                | 16                                    | 13                                    | \n",
       "| 0065537P                              | Prat Salom Pedro                      | Hombre                                | 19400315                              | Casado/a                              | Doctores & Profesionales de la Salud  | 2                                     | Sur Europa                            | España                                | 14                                    | 10                                    | \n",
       "| 0000002J                              | Jones Nicholas                        | Hombre                                | 19110808                              | Soltero/a                             | Ingenieros & Especialistas            | 0                                     | Norte Europa                          | Reino Unido                           | 2                                     | 9                                     | \n",
       "| 0000003B                              | Burton Alexander                      | Hombre                                | 19420417                              | Casado/a                              | Doctores & Profesionales de la Salud  | 2                                     | Norte Europa                          | Reino Unido                           | 13                                    | 9                                     | \n",
       "| 0065538S                              | Sales Deborah                         | Mujer                                 | 19410526                              | Casado/a                              | Economistas,Abogados & Admin.Empresas | 1                                     | Norte Europa                          | Reino Unido                           | 7                                     | 11                                    | \n",
       "\n",
       "\n"
      ],
      "text/plain": [
       "  CODCLIENTE NOMBRECLIENTE          SEXO   FECHANACIMIENTO ESTADOCIVIL\n",
       "1 0000001R   Roca Sacristán Narciso Hombre 19551220        Soltero/a  \n",
       "2 0065536F   Fuentes Mohedano Rosa  Mujer  19420108        Casado/a   \n",
       "3 0065537P   Prat Salom Pedro       Hombre 19400315        Casado/a   \n",
       "4 0000002J   Jones Nicholas         Hombre 19110808        Soltero/a  \n",
       "5 0000003B   Burton Alexander       Hombre 19420417        Casado/a   \n",
       "6 0065538S   Sales Deborah          Mujer  19410526        Casado/a   \n",
       "  PROFESION                             NUMEROHIJOS REGION       NACIONALIDAD\n",
       "1 Economistas,Abogados & Admin.Empresas 0           Sur Europa   España      \n",
       "2 Ingenieros & Especialistas            1           Sur Europa   España      \n",
       "3 Doctores & Profesionales de la Salud  2           Sur Europa   España      \n",
       "4 Ingenieros & Especialistas            0           Norte Europa Reino Unido \n",
       "5 Doctores & Profesionales de la Salud  2           Norte Europa Reino Unido \n",
       "6 Economistas,Abogados & Admin.Empresas 1           Norte Europa Reino Unido \n",
       "  TOTALCOMPRAS PUNTOSACUMULADOS\n",
       "1 4            7               \n",
       "2 16           13              \n",
       "3 14           10              \n",
       "4 2            9               \n",
       "5 13           9               \n",
       "6 7            11              "
      ]
     },
     "metadata": {},
     "output_type": "display_data"
    }
   ],
   "source": [
    "head(gourmet.cliente)"
   ]
  },
  {
   "cell_type": "markdown",
   "metadata": {},
   "source": [
    "Molt bé, l'atribut __DIRECCION__ ja no apareix.\n",
    "\n",
    "Passem al següent atribut, __PROFESION__. Anem a veure quins valors únics tenim:"
   ]
  },
  {
   "cell_type": "code",
   "execution_count": 80,
   "metadata": {
    "collapsed": false
   },
   "outputs": [
    {
     "data": {
      "text/html": [
       "<ol class=list-inline>\n",
       "\t<li>10</li>\n",
       "\t<li>1</li>\n",
       "</ol>\n"
      ],
      "text/latex": [
       "\\begin{enumerate*}\n",
       "\\item 10\n",
       "\\item 1\n",
       "\\end{enumerate*}\n"
      ],
      "text/markdown": [
       "1. 10\n",
       "2. 1\n",
       "\n",
       "\n"
      ],
      "text/plain": [
       "[1] 10  1"
      ]
     },
     "metadata": {},
     "output_type": "display_data"
    },
    {
     "data": {
      "text/html": [
       "<table>\n",
       "<thead><tr><th></th><th scope=col>PROFESION</th></tr></thead>\n",
       "<tbody>\n",
       "\t<tr><th scope=row>1</th><td>Economistas,Abogados &amp; Admin.Empresas</td></tr>\n",
       "\t<tr><th scope=row>2</th><td><span style=white-space:pre-wrap>Ingenieros &amp; Especialistas           </span></td></tr>\n",
       "\t<tr><th scope=row>3</th><td>Doctores &amp; Profesionales de la Salud </td></tr>\n",
       "\t<tr><th scope=row>11</th><td><span style=white-space:pre-wrap>Gerentes &amp; Directivos                </span></td></tr>\n",
       "\t<tr><th scope=row>12</th><td>Catering                             </td></tr>\n",
       "\t<tr><th scope=row>15</th><td>Architectos,Decoradores &amp; Humanistas </td></tr>\n",
       "\t<tr><th scope=row>17</th><td>Servicios                            </td></tr>\n",
       "\t<tr><th scope=row>48</th><td>Ama de Casa                          </td></tr>\n",
       "\t<tr><th scope=row>72</th><td>Alimentación                         </td></tr>\n",
       "\t<tr><th scope=row>2017</th><td>Food                                 </td></tr>\n",
       "</tbody>\n",
       "</table>\n"
      ],
      "text/latex": [
       "\\begin{tabular}{r|l}\n",
       "  & PROFESION\\\\\n",
       "\\hline\n",
       "\t1 & Economistas,Abogados \\& Admin.Empresas\\\\\n",
       "\t2 & Ingenieros \\& Especialistas           \\\\\n",
       "\t3 & Doctores \\& Profesionales de la Salud \\\\\n",
       "\t11 & Gerentes \\& Directivos                \\\\\n",
       "\t12 & Catering                             \\\\\n",
       "\t15 & Architectos,Decoradores \\& Humanistas \\\\\n",
       "\t17 & Servicios                            \\\\\n",
       "\t48 & Ama de Casa                          \\\\\n",
       "\t72 & Alimentación                         \\\\\n",
       "\t2017 & Food                                 \\\\\n",
       "\\end{tabular}\n"
      ],
      "text/markdown": [
       "\n",
       "| <!--/--> | PROFESION | \n",
       "|---|---|---|---|---|---|---|---|---|---|\n",
       "| 1 | Economistas,Abogados & Admin.Empresas | \n",
       "| 2 | Ingenieros & Especialistas            | \n",
       "| 3 | Doctores & Profesionales de la Salud  | \n",
       "| 11 | Gerentes & Directivos                 | \n",
       "| 12 | Catering                              | \n",
       "| 15 | Architectos,Decoradores & Humanistas  | \n",
       "| 17 | Servicios                             | \n",
       "| 48 | Ama de Casa                           | \n",
       "| 72 | Alimentación                          | \n",
       "| 2017 | Food                                  | \n",
       "\n",
       "\n"
      ],
      "text/plain": [
       "     PROFESION                            \n",
       "1    Economistas,Abogados & Admin.Empresas\n",
       "2    Ingenieros & Especialistas           \n",
       "3    Doctores & Profesionales de la Salud \n",
       "11   Gerentes & Directivos                \n",
       "12   Catering                             \n",
       "15   Architectos,Decoradores & Humanistas \n",
       "17   Servicios                            \n",
       "48   Ama de Casa                          \n",
       "72   Alimentación                         \n",
       "2017 Food                                 "
      ]
     },
     "metadata": {},
     "output_type": "display_data"
    }
   ],
   "source": [
    "dim(unique(subset(gourmet.cliente, select=PROFESION)))\n",
    "unique(subset(gourmet.cliente, select=PROFESION))"
   ]
  },
  {
   "cell_type": "markdown",
   "metadata": {},
   "source": [
    "Veiem que només tenim 10 possibles valors diferents. No hi veiem cap problema en aquesta columna, i a més sií que el considerem significatiu per realitzar la classificació, per tant podem passar al següent atribut.\n",
    "\n",
    "El següent atribut és __NUMEROHIJOS__. Si ens fixem en els resultats de la funció *summary()* veiem que tenim 805 valors NA. Pel que hem vist anteriorment, aquests casos són els que no es tracta de persones sinó d'empreses, per les que no es pot definir el nombre de fills. El que farem, per no tenir valors NA, serà omplir-los amb el valor 0. Primer de tot, anem a veure quants valors tenim en que el nombre de fills sigui 0 i també quan sigui NA:"
   ]
  },
  {
   "cell_type": "code",
   "execution_count": 94,
   "metadata": {
    "collapsed": false
   },
   "outputs": [
    {
     "data": {
      "text/html": [
       "<ol class=list-inline>\n",
       "\t<li>'0'</li>\n",
       "\t<li>'1'</li>\n",
       "\t<li>'2'</li>\n",
       "\t<li>'3'</li>\n",
       "\t<li>NA</li>\n",
       "\t<li>'4'</li>\n",
       "</ol>\n"
      ],
      "text/latex": [
       "\\begin{enumerate*}\n",
       "\\item '0'\n",
       "\\item '1'\n",
       "\\item '2'\n",
       "\\item '3'\n",
       "\\item NA\n",
       "\\item '4'\n",
       "\\end{enumerate*}\n"
      ],
      "text/markdown": [
       "1. '0'\n",
       "2. '1'\n",
       "3. '2'\n",
       "4. '3'\n",
       "5. NA\n",
       "6. '4'\n",
       "\n",
       "\n"
      ],
      "text/plain": [
       "[1] \"0\" \"1\" \"2\" \"3\" NA  \"4\""
      ]
     },
     "metadata": {},
     "output_type": "display_data"
    },
    {
     "data": {
      "text/html": [
       "1876"
      ],
      "text/latex": [
       "1876"
      ],
      "text/markdown": [
       "1876"
      ],
      "text/plain": [
       "[1] 1876"
      ]
     },
     "metadata": {},
     "output_type": "display_data"
    },
    {
     "data": {
      "text/html": [
       "805"
      ],
      "text/latex": [
       "805"
      ],
      "text/markdown": [
       "805"
      ],
      "text/plain": [
       "[1] 805"
      ]
     },
     "metadata": {},
     "output_type": "display_data"
    },
    {
     "data": {
      "text/html": [
       "2681"
      ],
      "text/latex": [
       "2681"
      ],
      "text/markdown": [
       "2681"
      ],
      "text/plain": [
       "[1] 2681"
      ]
     },
     "metadata": {},
     "output_type": "display_data"
    }
   ],
   "source": [
    "unique(gourmet.cliente$NUMEROHIJOS)\n",
    "zero_children <- nrow(subset(gourmet.cliente, select=NUMEROHIJOS, NUMEROHIJOS==0))\n",
    "NA_children <-  nrow(subset(gourmet.cliente, select=NUMEROHIJOS, is.na(NUMEROHIJOS)))\n",
    "total <- zero_children + NA_children\n",
    "zero_children\n",
    "NA_children\n",
    "total"
   ]
  },
  {
   "cell_type": "markdown",
   "metadata": {},
   "source": [
    "Passem ara a canviar els valors NA per zeros:"
   ]
  },
  {
   "cell_type": "code",
   "execution_count": 96,
   "metadata": {
    "collapsed": true
   },
   "outputs": [],
   "source": [
    "gourmet.cliente$NUMEROHIJOS[is.na(gourmet.cliente$NUMEROHIJOS)] <- 0"
   ]
  },
  {
   "cell_type": "markdown",
   "metadata": {},
   "source": [
    "Tornem a veure quants valors tenim en que el nombre de fills sigui 0 i també quan sigui NA"
   ]
  },
  {
   "cell_type": "code",
   "execution_count": 97,
   "metadata": {
    "collapsed": false
   },
   "outputs": [
    {
     "data": {
      "text/html": [
       "<ol class=list-inline>\n",
       "\t<li>'0'</li>\n",
       "\t<li>'1'</li>\n",
       "\t<li>'2'</li>\n",
       "\t<li>'3'</li>\n",
       "\t<li>'4'</li>\n",
       "</ol>\n"
      ],
      "text/latex": [
       "\\begin{enumerate*}\n",
       "\\item '0'\n",
       "\\item '1'\n",
       "\\item '2'\n",
       "\\item '3'\n",
       "\\item '4'\n",
       "\\end{enumerate*}\n"
      ],
      "text/markdown": [
       "1. '0'\n",
       "2. '1'\n",
       "3. '2'\n",
       "4. '3'\n",
       "5. '4'\n",
       "\n",
       "\n"
      ],
      "text/plain": [
       "[1] \"0\" \"1\" \"2\" \"3\" \"4\""
      ]
     },
     "metadata": {},
     "output_type": "display_data"
    },
    {
     "data": {
      "text/html": [
       "2681"
      ],
      "text/latex": [
       "2681"
      ],
      "text/markdown": [
       "2681"
      ],
      "text/plain": [
       "[1] 2681"
      ]
     },
     "metadata": {},
     "output_type": "display_data"
    },
    {
     "data": {
      "text/html": [
       "0"
      ],
      "text/latex": [
       "0"
      ],
      "text/markdown": [
       "0"
      ],
      "text/plain": [
       "[1] 0"
      ]
     },
     "metadata": {},
     "output_type": "display_data"
    },
    {
     "data": {
      "text/html": [
       "2681"
      ],
      "text/latex": [
       "2681"
      ],
      "text/markdown": [
       "2681"
      ],
      "text/plain": [
       "[1] 2681"
      ]
     },
     "metadata": {},
     "output_type": "display_data"
    }
   ],
   "source": [
    "unique(gourmet.cliente$NUMEROHIJOS)\n",
    "zero_children <- nrow(subset(gourmet.cliente, select=NUMEROHIJOS, NUMEROHIJOS==0))\n",
    "NA_children <- nrow(subset(gourmet.cliente, select=NUMEROHIJOS, is.na(NUMEROHIJOS)))\n",
    "total <- zero_children + NA_children\n",
    "zero_children\n",
    "NA_children\n",
    "total"
   ]
  },
  {
   "cell_type": "markdown",
   "metadata": {},
   "source": [
    "Ara convertim aquest atribut en numeric:"
   ]
  },
  {
   "cell_type": "code",
   "execution_count": 98,
   "metadata": {
    "collapsed": false
   },
   "outputs": [
    {
     "data": {
      "text/html": [
       "<ol class=list-inline>\n",
       "\t<li>0</li>\n",
       "\t<li>1</li>\n",
       "\t<li>2</li>\n",
       "\t<li>3</li>\n",
       "\t<li>4</li>\n",
       "</ol>\n"
      ],
      "text/latex": [
       "\\begin{enumerate*}\n",
       "\\item 0\n",
       "\\item 1\n",
       "\\item 2\n",
       "\\item 3\n",
       "\\item 4\n",
       "\\end{enumerate*}\n"
      ],
      "text/markdown": [
       "1. 0\n",
       "2. 1\n",
       "3. 2\n",
       "4. 3\n",
       "5. 4\n",
       "\n",
       "\n"
      ],
      "text/plain": [
       "[1] 0 1 2 3 4"
      ]
     },
     "metadata": {},
     "output_type": "display_data"
    }
   ],
   "source": [
    "gourmet.cliente$NUMEROHIJOS <- as.numeric(gourmet.cliente$NUMEROHIJOS)\n",
    "unique(gourmet.cliente$NUMEROHIJOS)"
   ]
  },
  {
   "cell_type": "markdown",
   "metadata": {},
   "source": [
    "Molt bé, ja ho hem aclarit. \n",
    "\n",
    "Passem al següent atribut, que és __REGION__. Segons els resultats de la funció *summary()* veiem que hi ha 3 regions diferents i no hi ha ni camps buits ni NA. No cal fer cap modificació a aquesta columna.\n",
    "\n",
    "Passem al següent atribut, __NACIONALIDAD__. Hi ha 3 nacionalitats diferents i, si mirem els resultats de la funció *summary()*, veiem que les quantitats de dades per a cadascun d'aquestes nacionalitats coincideix amb les quantitats que es tenen en les 3 regions corresponents a l'atribut __REGION__. Així doncs, aquestes dades són redundants i en podem el·liminar una. Trio el·liminar l'atribut __NACIONALIDAD__:"
   ]
  },
  {
   "cell_type": "code",
   "execution_count": 99,
   "metadata": {
    "collapsed": false
   },
   "outputs": [],
   "source": [
    "gourmet.cliente <- subset(gourmet.cliente, select=-c(NACIONALIDAD))"
   ]
  },
  {
   "cell_type": "markdown",
   "metadata": {},
   "source": [
    "Anem a comprovar que ha anat bé:"
   ]
  },
  {
   "cell_type": "code",
   "execution_count": 100,
   "metadata": {
    "collapsed": false
   },
   "outputs": [
    {
     "data": {
      "text/html": [
       "<table>\n",
       "<thead><tr><th scope=col>CODCLIENTE</th><th scope=col>NOMBRECLIENTE</th><th scope=col>SEXO</th><th scope=col>FECHANACIMIENTO</th><th scope=col>ESTADOCIVIL</th><th scope=col>PROFESION</th><th scope=col>NUMEROHIJOS</th><th scope=col>REGION</th><th scope=col>TOTALCOMPRAS</th><th scope=col>PUNTOSACUMULADOS</th></tr></thead>\n",
       "<tbody>\n",
       "\t<tr><td>0000001R                                            </td><td>Roca Sacristán Narciso                              </td><td>Hombre                                              </td><td>19551220                                            </td><td>Soltero/a                                           </td><td>Economistas,Abogados &amp; Admin.Empresas           </td><td>0                                                   </td><td><span style=white-space:pre-wrap>Sur Europa  </span></td><td>4                                                   </td><td>7                                                   </td></tr>\n",
       "\t<tr><td>0065536F                                                                         </td><td>Fuentes Mohedano Rosa                                                            </td><td>Mujer                                                                            </td><td>19420108                                                                         </td><td>Casado/a                                                                         </td><td><span style=white-space:pre-wrap>Ingenieros &amp; Especialistas           </span></td><td>1                                                                                </td><td><span style=white-space:pre-wrap>Sur Europa  </span>                             </td><td>16                                                                               </td><td>13                                                                               </td></tr>\n",
       "\t<tr><td>0065537P                                                      </td><td><span style=white-space:pre-wrap>Prat Salom Pedro      </span></td><td>Hombre                                                        </td><td>19400315                                                      </td><td>Casado/a                                                      </td><td>Doctores &amp; Profesionales de la Salud                      </td><td>2                                                             </td><td><span style=white-space:pre-wrap>Sur Europa  </span>          </td><td>14                                                            </td><td>10                                                            </td></tr>\n",
       "\t<tr><td>0000002J                                                                         </td><td><span style=white-space:pre-wrap>Jones Nicholas        </span>                   </td><td>Hombre                                                                           </td><td>19110808                                                                         </td><td>Soltero/a                                                                        </td><td><span style=white-space:pre-wrap>Ingenieros &amp; Especialistas           </span></td><td>0                                                                                </td><td>Norte Europa                                                                     </td><td>2                                                                                </td><td>9                                                                                </td></tr>\n",
       "\t<tr><td>0000003B                                                      </td><td><span style=white-space:pre-wrap>Burton Alexander      </span></td><td>Hombre                                                        </td><td>19420417                                                      </td><td>Casado/a                                                      </td><td>Doctores &amp; Profesionales de la Salud                      </td><td>2                                                             </td><td>Norte Europa                                                  </td><td>13                                                            </td><td>9                                                             </td></tr>\n",
       "\t<tr><td>0065538S                                                      </td><td><span style=white-space:pre-wrap>Sales Deborah         </span></td><td>Mujer                                                         </td><td>19410526                                                      </td><td>Casado/a                                                      </td><td>Economistas,Abogados &amp; Admin.Empresas                     </td><td>1                                                             </td><td>Norte Europa                                                  </td><td>7                                                             </td><td>11                                                            </td></tr>\n",
       "</tbody>\n",
       "</table>\n"
      ],
      "text/latex": [
       "\\begin{tabular}{r|llllllllll}\n",
       " CODCLIENTE & NOMBRECLIENTE & SEXO & FECHANACIMIENTO & ESTADOCIVIL & PROFESION & NUMEROHIJOS & REGION & TOTALCOMPRAS & PUNTOSACUMULADOS\\\\\n",
       "\\hline\n",
       "\t 0000001R                                & Roca Sacristán Narciso                  & Hombre                                  & 19551220                                & Soltero/a                               & Economistas,Abogados \\& Admin.Empresas & 0                                       & Sur Europa                              & 4                                       & 7                                      \\\\\n",
       "\t 0065536F                                & Fuentes Mohedano Rosa                   & Mujer                                   & 19420108                                & Casado/a                                & Ingenieros \\& Especialistas            & 1                                       & Sur Europa                              & 16                                      & 13                                     \\\\\n",
       "\t 0065537P                                & Prat Salom Pedro                        & Hombre                                  & 19400315                                & Casado/a                                & Doctores \\& Profesionales de la Salud  & 2                                       & Sur Europa                              & 14                                      & 10                                     \\\\\n",
       "\t 0000002J                                & Jones Nicholas                          & Hombre                                  & 19110808                                & Soltero/a                               & Ingenieros \\& Especialistas            & 0                                       & Norte Europa                            & 2                                       & 9                                      \\\\\n",
       "\t 0000003B                                & Burton Alexander                        & Hombre                                  & 19420417                                & Casado/a                                & Doctores \\& Profesionales de la Salud  & 2                                       & Norte Europa                            & 13                                      & 9                                      \\\\\n",
       "\t 0065538S                                & Sales Deborah                           & Mujer                                   & 19410526                                & Casado/a                                & Economistas,Abogados \\& Admin.Empresas & 1                                       & Norte Europa                            & 7                                       & 11                                     \\\\\n",
       "\\end{tabular}\n"
      ],
      "text/markdown": [
       "\n",
       "CODCLIENTE | NOMBRECLIENTE | SEXO | FECHANACIMIENTO | ESTADOCIVIL | PROFESION | NUMEROHIJOS | REGION | TOTALCOMPRAS | PUNTOSACUMULADOS | \n",
       "|---|---|---|---|---|---|\n",
       "| 0000001R                              | Roca Sacristán Narciso                | Hombre                                | 19551220                              | Soltero/a                             | Economistas,Abogados & Admin.Empresas | 0                                     | Sur Europa                            | 4                                     | 7                                     | \n",
       "| 0065536F                              | Fuentes Mohedano Rosa                 | Mujer                                 | 19420108                              | Casado/a                              | Ingenieros & Especialistas            | 1                                     | Sur Europa                            | 16                                    | 13                                    | \n",
       "| 0065537P                              | Prat Salom Pedro                      | Hombre                                | 19400315                              | Casado/a                              | Doctores & Profesionales de la Salud  | 2                                     | Sur Europa                            | 14                                    | 10                                    | \n",
       "| 0000002J                              | Jones Nicholas                        | Hombre                                | 19110808                              | Soltero/a                             | Ingenieros & Especialistas            | 0                                     | Norte Europa                          | 2                                     | 9                                     | \n",
       "| 0000003B                              | Burton Alexander                      | Hombre                                | 19420417                              | Casado/a                              | Doctores & Profesionales de la Salud  | 2                                     | Norte Europa                          | 13                                    | 9                                     | \n",
       "| 0065538S                              | Sales Deborah                         | Mujer                                 | 19410526                              | Casado/a                              | Economistas,Abogados & Admin.Empresas | 1                                     | Norte Europa                          | 7                                     | 11                                    | \n",
       "\n",
       "\n"
      ],
      "text/plain": [
       "  CODCLIENTE NOMBRECLIENTE          SEXO   FECHANACIMIENTO ESTADOCIVIL\n",
       "1 0000001R   Roca Sacristán Narciso Hombre 19551220        Soltero/a  \n",
       "2 0065536F   Fuentes Mohedano Rosa  Mujer  19420108        Casado/a   \n",
       "3 0065537P   Prat Salom Pedro       Hombre 19400315        Casado/a   \n",
       "4 0000002J   Jones Nicholas         Hombre 19110808        Soltero/a  \n",
       "5 0000003B   Burton Alexander       Hombre 19420417        Casado/a   \n",
       "6 0065538S   Sales Deborah          Mujer  19410526        Casado/a   \n",
       "  PROFESION                             NUMEROHIJOS REGION       TOTALCOMPRAS\n",
       "1 Economistas,Abogados & Admin.Empresas 0           Sur Europa   4           \n",
       "2 Ingenieros & Especialistas            1           Sur Europa   16          \n",
       "3 Doctores & Profesionales de la Salud  2           Sur Europa   14          \n",
       "4 Ingenieros & Especialistas            0           Norte Europa 2           \n",
       "5 Doctores & Profesionales de la Salud  2           Norte Europa 13          \n",
       "6 Economistas,Abogados & Admin.Empresas 1           Norte Europa 7           \n",
       "  PUNTOSACUMULADOS\n",
       "1 7               \n",
       "2 13              \n",
       "3 10              \n",
       "4 9               \n",
       "5 9               \n",
       "6 11              "
      ]
     },
     "metadata": {},
     "output_type": "display_data"
    }
   ],
   "source": [
    "head(gourmet.cliente)"
   ]
  },
  {
   "cell_type": "markdown",
   "metadata": {},
   "source": [
    "Molt bé, ja no apareix l'atribut __NACIONALIDAD__.\n",
    "\n",
    "El següent atribut, __TOTALCOMPRAS__, ja que depen tant del nivell de compres del client com de l'antiguitat com a client, i això crec que l'únic que fa és generar soroll. També el·limino el següent atribut, __PUNTOSACUMULADOS__, ja que considero que no aporta informació útil pel nostre sistema classificatori. Així doncs, el·limino aquests 2 atributs:"
   ]
  },
  {
   "cell_type": "code",
   "execution_count": 101,
   "metadata": {
    "collapsed": false
   },
   "outputs": [],
   "source": [
    "gourmet.cliente <- subset(gourmet.cliente, select=-c(TOTALCOMPRAS, PUNTOSACUMULADOS))"
   ]
  },
  {
   "cell_type": "markdown",
   "metadata": {},
   "source": [
    "Anem a comprovar que ha anat bé:"
   ]
  },
  {
   "cell_type": "code",
   "execution_count": 102,
   "metadata": {
    "collapsed": false
   },
   "outputs": [
    {
     "data": {
      "text/html": [
       "<table>\n",
       "<thead><tr><th scope=col>CODCLIENTE</th><th scope=col>NOMBRECLIENTE</th><th scope=col>SEXO</th><th scope=col>FECHANACIMIENTO</th><th scope=col>ESTADOCIVIL</th><th scope=col>PROFESION</th><th scope=col>NUMEROHIJOS</th><th scope=col>REGION</th></tr></thead>\n",
       "<tbody>\n",
       "\t<tr><td>0000001R                                            </td><td>Roca Sacristán Narciso                              </td><td>Hombre                                              </td><td>19551220                                            </td><td>Soltero/a                                           </td><td>Economistas,Abogados &amp; Admin.Empresas           </td><td>0                                                   </td><td><span style=white-space:pre-wrap>Sur Europa  </span></td></tr>\n",
       "\t<tr><td>0065536F                                                                         </td><td>Fuentes Mohedano Rosa                                                            </td><td>Mujer                                                                            </td><td>19420108                                                                         </td><td>Casado/a                                                                         </td><td><span style=white-space:pre-wrap>Ingenieros &amp; Especialistas           </span></td><td>1                                                                                </td><td><span style=white-space:pre-wrap>Sur Europa  </span>                             </td></tr>\n",
       "\t<tr><td>0065537P                                                      </td><td><span style=white-space:pre-wrap>Prat Salom Pedro      </span></td><td>Hombre                                                        </td><td>19400315                                                      </td><td>Casado/a                                                      </td><td>Doctores &amp; Profesionales de la Salud                      </td><td>2                                                             </td><td><span style=white-space:pre-wrap>Sur Europa  </span>          </td></tr>\n",
       "\t<tr><td>0000002J                                                                         </td><td><span style=white-space:pre-wrap>Jones Nicholas        </span>                   </td><td>Hombre                                                                           </td><td>19110808                                                                         </td><td>Soltero/a                                                                        </td><td><span style=white-space:pre-wrap>Ingenieros &amp; Especialistas           </span></td><td>0                                                                                </td><td>Norte Europa                                                                     </td></tr>\n",
       "\t<tr><td>0000003B                                                      </td><td><span style=white-space:pre-wrap>Burton Alexander      </span></td><td>Hombre                                                        </td><td>19420417                                                      </td><td>Casado/a                                                      </td><td>Doctores &amp; Profesionales de la Salud                      </td><td>2                                                             </td><td>Norte Europa                                                  </td></tr>\n",
       "\t<tr><td>0065538S                                                      </td><td><span style=white-space:pre-wrap>Sales Deborah         </span></td><td>Mujer                                                         </td><td>19410526                                                      </td><td>Casado/a                                                      </td><td>Economistas,Abogados &amp; Admin.Empresas                     </td><td>1                                                             </td><td>Norte Europa                                                  </td></tr>\n",
       "</tbody>\n",
       "</table>\n"
      ],
      "text/latex": [
       "\\begin{tabular}{r|llllllll}\n",
       " CODCLIENTE & NOMBRECLIENTE & SEXO & FECHANACIMIENTO & ESTADOCIVIL & PROFESION & NUMEROHIJOS & REGION\\\\\n",
       "\\hline\n",
       "\t 0000001R                                & Roca Sacristán Narciso                  & Hombre                                  & 19551220                                & Soltero/a                               & Economistas,Abogados \\& Admin.Empresas & 0                                       & Sur Europa                             \\\\\n",
       "\t 0065536F                                & Fuentes Mohedano Rosa                   & Mujer                                   & 19420108                                & Casado/a                                & Ingenieros \\& Especialistas            & 1                                       & Sur Europa                             \\\\\n",
       "\t 0065537P                                & Prat Salom Pedro                        & Hombre                                  & 19400315                                & Casado/a                                & Doctores \\& Profesionales de la Salud  & 2                                       & Sur Europa                             \\\\\n",
       "\t 0000002J                                & Jones Nicholas                          & Hombre                                  & 19110808                                & Soltero/a                               & Ingenieros \\& Especialistas            & 0                                       & Norte Europa                           \\\\\n",
       "\t 0000003B                                & Burton Alexander                        & Hombre                                  & 19420417                                & Casado/a                                & Doctores \\& Profesionales de la Salud  & 2                                       & Norte Europa                           \\\\\n",
       "\t 0065538S                                & Sales Deborah                           & Mujer                                   & 19410526                                & Casado/a                                & Economistas,Abogados \\& Admin.Empresas & 1                                       & Norte Europa                           \\\\\n",
       "\\end{tabular}\n"
      ],
      "text/markdown": [
       "\n",
       "CODCLIENTE | NOMBRECLIENTE | SEXO | FECHANACIMIENTO | ESTADOCIVIL | PROFESION | NUMEROHIJOS | REGION | \n",
       "|---|---|---|---|---|---|\n",
       "| 0000001R                              | Roca Sacristán Narciso                | Hombre                                | 19551220                              | Soltero/a                             | Economistas,Abogados & Admin.Empresas | 0                                     | Sur Europa                            | \n",
       "| 0065536F                              | Fuentes Mohedano Rosa                 | Mujer                                 | 19420108                              | Casado/a                              | Ingenieros & Especialistas            | 1                                     | Sur Europa                            | \n",
       "| 0065537P                              | Prat Salom Pedro                      | Hombre                                | 19400315                              | Casado/a                              | Doctores & Profesionales de la Salud  | 2                                     | Sur Europa                            | \n",
       "| 0000002J                              | Jones Nicholas                        | Hombre                                | 19110808                              | Soltero/a                             | Ingenieros & Especialistas            | 0                                     | Norte Europa                          | \n",
       "| 0000003B                              | Burton Alexander                      | Hombre                                | 19420417                              | Casado/a                              | Doctores & Profesionales de la Salud  | 2                                     | Norte Europa                          | \n",
       "| 0065538S                              | Sales Deborah                         | Mujer                                 | 19410526                              | Casado/a                              | Economistas,Abogados & Admin.Empresas | 1                                     | Norte Europa                          | \n",
       "\n",
       "\n"
      ],
      "text/plain": [
       "  CODCLIENTE NOMBRECLIENTE          SEXO   FECHANACIMIENTO ESTADOCIVIL\n",
       "1 0000001R   Roca Sacristán Narciso Hombre 19551220        Soltero/a  \n",
       "2 0065536F   Fuentes Mohedano Rosa  Mujer  19420108        Casado/a   \n",
       "3 0065537P   Prat Salom Pedro       Hombre 19400315        Casado/a   \n",
       "4 0000002J   Jones Nicholas         Hombre 19110808        Soltero/a  \n",
       "5 0000003B   Burton Alexander       Hombre 19420417        Casado/a   \n",
       "6 0065538S   Sales Deborah          Mujer  19410526        Casado/a   \n",
       "  PROFESION                             NUMEROHIJOS REGION      \n",
       "1 Economistas,Abogados & Admin.Empresas 0           Sur Europa  \n",
       "2 Ingenieros & Especialistas            1           Sur Europa  \n",
       "3 Doctores & Profesionales de la Salud  2           Sur Europa  \n",
       "4 Ingenieros & Especialistas            0           Norte Europa\n",
       "5 Doctores & Profesionales de la Salud  2           Norte Europa\n",
       "6 Economistas,Abogados & Admin.Empresas 1           Norte Europa"
      ]
     },
     "metadata": {},
     "output_type": "display_data"
    }
   ],
   "source": [
    "head(gourmet.cliente)"
   ]
  },
  {
   "cell_type": "markdown",
   "metadata": {},
   "source": [
    "Aa ja hem fet tots els canvis pertinents a les dades, anem a veure un sumari de les dades corregides:"
   ]
  },
  {
   "cell_type": "code",
   "execution_count": 103,
   "metadata": {
    "collapsed": false
   },
   "outputs": [
    {
     "data": {
      "text/plain": [
       "  CODCLIENTE        NOMBRECLIENTE          SEXO           FECHANACIMIENTO   \n",
       " Length:4069        Length:4069        Length:4069        Min.   :19100204  \n",
       " Class :character   Class :character   Class :character   1st Qu.:19390225  \n",
       " Mode  :character   Mode  :character   Mode  :character   Median :19511109  \n",
       "                                                          Mean   :19516993  \n",
       "                                                          3rd Qu.:19670811  \n",
       "                                                          Max.   :19791231  \n",
       " ESTADOCIVIL         PROFESION          NUMEROHIJOS        REGION         \n",
       " Length:4069        Length:4069        Min.   :0.0000   Length:4069       \n",
       " Class :character   Class :character   1st Qu.:0.0000   Class :character  \n",
       " Mode  :character   Mode  :character   Median :0.0000   Mode  :character  \n",
       "                                       Mean   :0.7768                     \n",
       "                                       3rd Qu.:2.0000                     \n",
       "                                       Max.   :4.0000                     "
      ]
     },
     "metadata": {},
     "output_type": "display_data"
    }
   ],
   "source": [
    "summary(gourmet.cliente)"
   ]
  },
  {
   "cell_type": "markdown",
   "metadata": {},
   "source": [
    "Anem primer a aconseguir tenir un dataframe amb les despeses realitzades per cada client. Ens basarem en les dades que ofereix el dataframe __gourmet.cabeceraticket__. Primer de tot, tornem a carregar les dades:"
   ]
  },
  {
   "cell_type": "code",
   "execution_count": 104,
   "metadata": {
    "collapsed": false
   },
   "outputs": [
    {
     "name": "stdout",
     "output_type": "stream",
     "text": [
      "[1] \"Visualitzem informació del dataframe cabeceraticket.cvs\"\n",
      "\n",
      "   CODVENTA NOMBRETIENDA    FECHA HORA          FORMAPAGO CODCLIENTE\n",
      "1 P20000000     París II 20000918   16 Tarjeta de Crédito           \n",
      "2 P20000001     París II 20000908   17           Efectivo           \n",
      "3 P20065536     París II 20000915   13 Tarjeta de Crédito           \n",
      "4 P20065537     París II 20000915   14 Tarjeta de Crédito           \n",
      "5 P20000002     París II 20000902   10             Cheque           \n",
      "6 P20000003     París II 20001013   11             Cheque           \n",
      "  IMPORTETOTAL TOTALUNIDADES PUNTOSTICKET\n",
      "1      33.1875             3            0\n",
      "2      61.9400             2            1\n",
      "3      26.9175             2            0\n",
      "4      22.9500             3            0\n",
      "5     106.8200             6            1\n",
      "6      49.1300             6            0\n",
      "\n",
      "[1] 74327     9\n",
      "\n",
      "      CODVENTA           NOMBRETIENDA       FECHA            HORA      \n",
      " BA0000000:    1   Londres I   :10652   Min.   :2e+07   Min.   : 9.00  \n",
      " BA0000001:    1   Manhattan I : 8984   1st Qu.:2e+07   1st Qu.:13.00  \n",
      " BA0000002:    1   Londres II  : 6995   Median :2e+07   Median :18.00  \n",
      " BA0000003:    1   Milán       : 6701   Mean   :2e+07   Mean   :17.06  \n",
      " BA0000004:    1   Munich      : 5882   3rd Qu.:2e+07   3rd Qu.:21.00  \n",
      " BA0000005:    1   París I     : 5586   Max.   :2e+07   Max.   :22.00  \n",
      " (Other)  :74321   (Other)     :29527                                  \n",
      "              FORMAPAGO         CODCLIENTE     IMPORTETOTAL    \n",
      " Cheque            :21820            :38810   Min.   :   2.00  \n",
      " Cheque de Turista :  433   2097157G :   48   1st Qu.:  13.79  \n",
      " Efectivo          :15200   3145777T :   48   Median :  29.95  \n",
      " Otra Tarjeta      : 1701   2293787M :   41   Mean   :  45.23  \n",
      " Tarjeta de Crédito:24779   1900549R :   40   3rd Qu.:  54.00  \n",
      " Tarjeta Débito    :10394   3670041C :   39   Max.   :2303.74  \n",
      "                            (Other)  :35301                    \n",
      " TOTALUNIDADES     PUNTOSTICKET    \n",
      " Min.   : 1.000   Min.   : 0.0000  \n",
      " 1st Qu.: 1.000   1st Qu.: 0.0000  \n",
      " Median : 2.000   Median : 0.0000  \n",
      " Mean   : 3.119   Mean   : 0.3423  \n",
      " 3rd Qu.: 4.000   3rd Qu.: 1.0000  \n",
      " Max.   :41.000   Max.   :23.0000  \n",
      "                                   \n"
     ]
    }
   ],
   "source": [
    "cabeceraticket_header <- c(\"CODVENTA\", \"NOMBRETIENDA\", \"FECHA\", \"HORA\", \"FORMAPAGO\", \"CODCLIENTE\"\n",
    "                          , \"IMPORTETOTAL\", \"TOTALUNIDADES\", \"PUNTOSTICKET\")\n",
    "gourmet.cabeceraticket <- read_and_show_data(\"cabeceraticket.cvs\", cabeceraticket_header)"
   ]
  },
  {
   "cell_type": "markdown",
   "metadata": {},
   "source": [
    "Als resultats de la funció *summary()* veiem com per l'atribut __CODCLIENTE__ hi ha 38.810 tickets dels que no es coneix el client que ha realitzat lacompra, podem suposar que deu ser degut a que l'empresa no té registrats a tots els clients que fan compres. El que farem serà el·liminar totes les files de les quals desconeixem el client:"
   ]
  },
  {
   "cell_type": "code",
   "execution_count": 105,
   "metadata": {
    "collapsed": false
   },
   "outputs": [
    {
     "data": {
      "text/html": [
       "<ol class=list-inline>\n",
       "\t<li>35517</li>\n",
       "\t<li>2</li>\n",
       "</ol>\n"
      ],
      "text/latex": [
       "\\begin{enumerate*}\n",
       "\\item 35517\n",
       "\\item 2\n",
       "\\end{enumerate*}\n"
      ],
      "text/markdown": [
       "1. 35517\n",
       "2. 2\n",
       "\n",
       "\n"
      ],
      "text/plain": [
       "[1] 35517     2"
      ]
     },
     "metadata": {},
     "output_type": "display_data"
    },
    {
     "data": {
      "text/html": [
       "<table>\n",
       "<thead><tr><th></th><th scope=col>CODCLIENTE</th><th scope=col>IMPORTETOTAL</th></tr></thead>\n",
       "<tbody>\n",
       "\t<tr><th scope=row>42</th><td>0000001R </td><td> 3.7250  </td></tr>\n",
       "\t<tr><th scope=row>43</th><td>0000001R </td><td> 3.7250  </td></tr>\n",
       "\t<tr><th scope=row>44</th><td>0000001R </td><td>54.5000  </td></tr>\n",
       "\t<tr><th scope=row>45</th><td>0000001R </td><td> 6.2250  </td></tr>\n",
       "\t<tr><th scope=row>62</th><td>0065536F </td><td>66.6750  </td></tr>\n",
       "\t<tr><th scope=row>63</th><td>0065536F </td><td>13.5525  </td></tr>\n",
       "</tbody>\n",
       "</table>\n"
      ],
      "text/latex": [
       "\\begin{tabular}{r|ll}\n",
       "  & CODCLIENTE & IMPORTETOTAL\\\\\n",
       "\\hline\n",
       "\t42 & 0000001R  &  3.7250  \\\\\n",
       "\t43 & 0000001R  &  3.7250  \\\\\n",
       "\t44 & 0000001R  & 54.5000  \\\\\n",
       "\t45 & 0000001R  &  6.2250  \\\\\n",
       "\t62 & 0065536F  & 66.6750  \\\\\n",
       "\t63 & 0065536F  & 13.5525  \\\\\n",
       "\\end{tabular}\n"
      ],
      "text/markdown": [
       "\n",
       "| <!--/--> | CODCLIENTE | IMPORTETOTAL | \n",
       "|---|---|---|---|---|---|\n",
       "| 42 | 0000001R  |  3.7250   | \n",
       "| 43 | 0000001R  |  3.7250   | \n",
       "| 44 | 0000001R  | 54.5000   | \n",
       "| 45 | 0000001R  |  6.2250   | \n",
       "| 62 | 0065536F  | 66.6750   | \n",
       "| 63 | 0065536F  | 13.5525   | \n",
       "\n",
       "\n"
      ],
      "text/plain": [
       "   CODCLIENTE IMPORTETOTAL\n",
       "42 0000001R    3.7250     \n",
       "43 0000001R    3.7250     \n",
       "44 0000001R   54.5000     \n",
       "45 0000001R    6.2250     \n",
       "62 0065536F   66.6750     \n",
       "63 0065536F   13.5525     "
      ]
     },
     "metadata": {},
     "output_type": "display_data"
    },
    {
     "data": {
      "text/plain": [
       "     CODCLIENTE     IMPORTETOTAL    \n",
       " 2097157G :   48   Min.   :   2.00  \n",
       " 3145777T :   48   1st Qu.:  15.72  \n",
       " 2293787M :   41   Median :  33.45  \n",
       " 1900549R :   40   Mean   :  55.88  \n",
       " 3670041C :   39   3rd Qu.:  64.65  \n",
       " 4063239N :   39   Max.   :2303.74  \n",
       " (Other)  :35262                    "
      ]
     },
     "metadata": {},
     "output_type": "display_data"
    }
   ],
   "source": [
    "new_cabeceraticket <- subset(gourmet.cabeceraticket, select=c(CODCLIENTE, IMPORTETOTAL), CODCLIENTE!=\"\")\n",
    "dim(new_cabeceraticket)\n",
    "head(new_cabeceraticket)\n",
    "summary(new_cabeceraticket)"
   ]
  },
  {
   "cell_type": "markdown",
   "metadata": {},
   "source": [
    "Ara agreguem en diferents files totes les despeses que fa cada client:"
   ]
  },
  {
   "cell_type": "code",
   "execution_count": 112,
   "metadata": {
    "collapsed": false
   },
   "outputs": [
    {
     "name": "stdout",
     "output_type": "stream",
     "text": [
      "package 'plyr' successfully unpacked and MD5 sums checked\n"
     ]
    },
    {
     "name": "stderr",
     "output_type": "stream",
     "text": [
      "Warning message:\n",
      "\"cannot remove prior installation of package 'plyr'\""
     ]
    },
    {
     "name": "stdout",
     "output_type": "stream",
     "text": [
      "\n",
      "The downloaded binary packages are in\n",
      "\tC:\\Users\\Lluís\\AppData\\Local\\Temp\\RtmpKmgUyv\\downloaded_packages\n"
     ]
    },
    {
     "ename": "ERROR",
     "evalue": "Error in library(plyr): there is no package called 'plyr'\n",
     "output_type": "error",
     "traceback": [
      "Error in library(plyr): there is no package called 'plyr'\nTraceback:\n",
      "1. library(plyr)",
      "2. stop(txt, domain = NA)"
     ]
    }
   ],
   "source": [
    "install.packages(\"plyr\", repos = \"http://cran.us.r-project.org\")\n",
    "library(plyr)\n",
    "new_cabeceraticket <- ddply(new_cabeceraticket, c(\"CODCLIENTE\"), summarize, IMPORTETOTAL = sum(IMPORTETOTAL))"
   ]
  },
  {
   "cell_type": "markdown",
   "metadata": {},
   "source": [
    "Corregeixo l'error dels espais en blanc adicionals:"
   ]
  },
  {
   "cell_type": "code",
   "execution_count": 395,
   "metadata": {
    "collapsed": true
   },
   "outputs": [],
   "source": [
    "new_cabeceraticket$CODCLIENTE <- trimws(new_cabeceraticket$CODCLIENTE)"
   ]
  },
  {
   "cell_type": "code",
   "execution_count": 396,
   "metadata": {
    "collapsed": false
   },
   "outputs": [
    {
     "data": {
      "text/html": [
       "<ol class=list-inline>\n",
       "\t<li>3923</li>\n",
       "\t<li>2</li>\n",
       "</ol>\n"
      ],
      "text/latex": [
       "\\begin{enumerate*}\n",
       "\\item 3923\n",
       "\\item 2\n",
       "\\end{enumerate*}\n"
      ],
      "text/markdown": [
       "1. 3923\n",
       "2. 2\n",
       "\n",
       "\n"
      ],
      "text/plain": [
       "[1] 3923    2"
      ]
     },
     "metadata": {},
     "output_type": "display_data"
    },
    {
     "data": {
      "text/html": [
       "<table>\n",
       "<thead><tr><th scope=col>CODCLIENTE</th><th scope=col>IMPORTETOTAL</th></tr></thead>\n",
       "<tbody>\n",
       "\t<tr><td>0000001R</td><td>  68.175</td></tr>\n",
       "\t<tr><td>0000002J</td><td> 218.045</td></tr>\n",
       "\t<tr><td>0000003B</td><td> 242.320</td></tr>\n",
       "\t<tr><td>0000004N</td><td>1187.645</td></tr>\n",
       "\t<tr><td>0000005E</td><td> 266.640</td></tr>\n",
       "\t<tr><td>0000006C</td><td> 134.245</td></tr>\n",
       "</tbody>\n",
       "</table>\n"
      ],
      "text/latex": [
       "\\begin{tabular}{r|ll}\n",
       " CODCLIENTE & IMPORTETOTAL\\\\\n",
       "\\hline\n",
       "\t 0000001R &   68.175\\\\\n",
       "\t 0000002J &  218.045\\\\\n",
       "\t 0000003B &  242.320\\\\\n",
       "\t 0000004N & 1187.645\\\\\n",
       "\t 0000005E &  266.640\\\\\n",
       "\t 0000006C &  134.245\\\\\n",
       "\\end{tabular}\n"
      ],
      "text/markdown": [
       "\n",
       "CODCLIENTE | IMPORTETOTAL | \n",
       "|---|---|---|---|---|---|\n",
       "| 0000001R |   68.175 | \n",
       "| 0000002J |  218.045 | \n",
       "| 0000003B |  242.320 | \n",
       "| 0000004N | 1187.645 | \n",
       "| 0000005E |  266.640 | \n",
       "| 0000006C |  134.245 | \n",
       "\n",
       "\n"
      ],
      "text/plain": [
       "  CODCLIENTE IMPORTETOTAL\n",
       "1 0000001R     68.175    \n",
       "2 0000002J    218.045    \n",
       "3 0000003B    242.320    \n",
       "4 0000004N   1187.645    \n",
       "5 0000005E    266.640    \n",
       "6 0000006C    134.245    "
      ]
     },
     "metadata": {},
     "output_type": "display_data"
    },
    {
     "data": {
      "text/plain": [
       "  CODCLIENTE         IMPORTETOTAL     \n",
       " Length:3923        Min.   :   3.425  \n",
       " Class :character   1st Qu.: 116.421  \n",
       " Mode  :character   Median : 243.815  \n",
       "                    Mean   : 505.903  \n",
       "                    3rd Qu.: 519.707  \n",
       "                    Max.   :9637.302  "
      ]
     },
     "metadata": {},
     "output_type": "display_data"
    }
   ],
   "source": [
    "dim(new_cabeceraticket)\n",
    "head(new_cabeceraticket)\n",
    "summary(new_cabeceraticket)"
   ]
  },
  {
   "cell_type": "markdown",
   "metadata": {},
   "source": [
    "Molt bé, ara que ja tenim un dataframe que ens relaciona la despesa que ha fet cada client, el que farem serà fer un JOIN entre aquest dataframe i el dataframe guormet.cliente. Pel nostre sistema predictiu tindrem que l'atribut de classe serà precisament el que hem afegit amb el JOIN, __IMPORTETOTAL__."
   ]
  },
  {
   "cell_type": "code",
   "execution_count": 397,
   "metadata": {
    "collapsed": true
   },
   "outputs": [],
   "source": [
    "new_cliente <- merge(gourmet.cliente, new_cabeceraticket, by=\"CODCLIENTE\", all = TRUE)"
   ]
  },
  {
   "cell_type": "code",
   "execution_count": 398,
   "metadata": {
    "collapsed": false
   },
   "outputs": [
    {
     "data": {
      "text/html": [
       "<ol class=list-inline>\n",
       "\t<li>4069</li>\n",
       "\t<li>9</li>\n",
       "</ol>\n"
      ],
      "text/latex": [
       "\\begin{enumerate*}\n",
       "\\item 4069\n",
       "\\item 9\n",
       "\\end{enumerate*}\n"
      ],
      "text/markdown": [
       "1. 4069\n",
       "2. 9\n",
       "\n",
       "\n"
      ],
      "text/plain": [
       "[1] 4069    9"
      ]
     },
     "metadata": {},
     "output_type": "display_data"
    },
    {
     "data": {
      "text/html": [
       "<table>\n",
       "<thead><tr><th scope=col>CODCLIENTE</th><th scope=col>NOMBRECLIENTE</th><th scope=col>SEXO</th><th scope=col>FECHANACIMIENTO</th><th scope=col>ESTADOCIVIL</th><th scope=col>PROFESION</th><th scope=col>NUMEROHIJOS</th><th scope=col>REGION</th><th scope=col>IMPORTETOTAL</th></tr></thead>\n",
       "<tbody>\n",
       "\t<tr><td>0000001R                                            </td><td>Roca Sacristán Narciso                              </td><td>Hombre                                              </td><td>19551220                                            </td><td>Soltero/a                                           </td><td>Economistas,Abogados &amp; Admin.Empresas           </td><td>0                                                   </td><td><span style=white-space:pre-wrap>Sur Europa  </span></td><td><span style=white-space:pre-wrap>  68.175</span>    </td></tr>\n",
       "\t<tr><td>0000002J                                                                         </td><td><span style=white-space:pre-wrap>Jones Nicholas        </span>                   </td><td>Hombre                                                                           </td><td>19110808                                                                         </td><td>Soltero/a                                                                        </td><td><span style=white-space:pre-wrap>Ingenieros &amp; Especialistas           </span></td><td>0                                                                                </td><td>Norte Europa                                                                     </td><td> 218.045                                                                         </td></tr>\n",
       "\t<tr><td>0000003B                                                      </td><td><span style=white-space:pre-wrap>Burton Alexander      </span></td><td>Hombre                                                        </td><td>19420417                                                      </td><td>Casado/a                                                      </td><td>Doctores &amp; Profesionales de la Salud                      </td><td>2                                                             </td><td>Norte Europa                                                  </td><td> 242.320                                                      </td></tr>\n",
       "\t<tr><td>0000004N                             </td><td>Nirupa                               </td><td>Empresa                              </td><td>19390404                             </td><td>Empresa                              </td><td>Catering                             </td><td>0                                    </td><td>Sur Europa                           </td><td>1187.645                             </td></tr>\n",
       "\t<tr><td>0000005E                             </td><td>Embers                               </td><td>Empresa                              </td><td>19650909                             </td><td>Empresa                              </td><td>Servicios                            </td><td>0                                    </td><td>Sur Europa                           </td><td> 266.640                             </td></tr>\n",
       "\t<tr><td>0000006C                                                                         </td><td><span style=white-space:pre-wrap>Calder Jhon           </span>                   </td><td>Hombre                                                                           </td><td>19380322                                                                         </td><td>Soltero/a                                                                        </td><td><span style=white-space:pre-wrap>Ingenieros &amp; Especialistas           </span></td><td>0                                                                                </td><td>Norteamérica                                                                     </td><td> 134.245                                                                         </td></tr>\n",
       "</tbody>\n",
       "</table>\n"
      ],
      "text/latex": [
       "\\begin{tabular}{r|lllllllll}\n",
       " CODCLIENTE & NOMBRECLIENTE & SEXO & FECHANACIMIENTO & ESTADOCIVIL & PROFESION & NUMEROHIJOS & REGION & IMPORTETOTAL\\\\\n",
       "\\hline\n",
       "\t 0000001R                                & Roca Sacristán Narciso                  & Hombre                                  & 19551220                                & Soltero/a                               & Economistas,Abogados \\& Admin.Empresas & 0                                       & Sur Europa                              &   68.175                               \\\\\n",
       "\t 0000002J                                & Jones Nicholas                          & Hombre                                  & 19110808                                & Soltero/a                               & Ingenieros \\& Especialistas            & 0                                       & Norte Europa                            &  218.045                               \\\\\n",
       "\t 0000003B                                & Burton Alexander                        & Hombre                                  & 19420417                                & Casado/a                                & Doctores \\& Profesionales de la Salud  & 2                                       & Norte Europa                            &  242.320                               \\\\\n",
       "\t 0000004N                              & Nirupa                                & Empresa                               & 19390404                              & Empresa                               & Catering                              & 0                                     & Sur Europa                            & 1187.645                             \\\\\n",
       "\t 0000005E                              & Embers                                & Empresa                               & 19650909                              & Empresa                               & Servicios                             & 0                                     & Sur Europa                            &  266.640                             \\\\\n",
       "\t 0000006C                                & Calder Jhon                             & Hombre                                  & 19380322                                & Soltero/a                               & Ingenieros \\& Especialistas            & 0                                       & Norteamérica                            &  134.245                               \\\\\n",
       "\\end{tabular}\n"
      ],
      "text/markdown": [
       "\n",
       "CODCLIENTE | NOMBRECLIENTE | SEXO | FECHANACIMIENTO | ESTADOCIVIL | PROFESION | NUMEROHIJOS | REGION | IMPORTETOTAL | \n",
       "|---|---|---|---|---|---|\n",
       "| 0000001R                              | Roca Sacristán Narciso                | Hombre                                | 19551220                              | Soltero/a                             | Economistas,Abogados & Admin.Empresas | 0                                     | Sur Europa                            |   68.175                              | \n",
       "| 0000002J                              | Jones Nicholas                        | Hombre                                | 19110808                              | Soltero/a                             | Ingenieros & Especialistas            | 0                                     | Norte Europa                          |  218.045                              | \n",
       "| 0000003B                              | Burton Alexander                      | Hombre                                | 19420417                              | Casado/a                              | Doctores & Profesionales de la Salud  | 2                                     | Norte Europa                          |  242.320                              | \n",
       "| 0000004N                              | Nirupa                                | Empresa                               | 19390404                              | Empresa                               | Catering                              | 0                                     | Sur Europa                            | 1187.645                              | \n",
       "| 0000005E                              | Embers                                | Empresa                               | 19650909                              | Empresa                               | Servicios                             | 0                                     | Sur Europa                            |  266.640                              | \n",
       "| 0000006C                              | Calder Jhon                           | Hombre                                | 19380322                              | Soltero/a                             | Ingenieros & Especialistas            | 0                                     | Norteamérica                          |  134.245                              | \n",
       "\n",
       "\n"
      ],
      "text/plain": [
       "  CODCLIENTE NOMBRECLIENTE          SEXO    FECHANACIMIENTO ESTADOCIVIL\n",
       "1 0000001R   Roca Sacristán Narciso Hombre  19551220        Soltero/a  \n",
       "2 0000002J   Jones Nicholas         Hombre  19110808        Soltero/a  \n",
       "3 0000003B   Burton Alexander       Hombre  19420417        Casado/a   \n",
       "4 0000004N   Nirupa                 Empresa 19390404        Empresa    \n",
       "5 0000005E   Embers                 Empresa 19650909        Empresa    \n",
       "6 0000006C   Calder Jhon            Hombre  19380322        Soltero/a  \n",
       "  PROFESION                             NUMEROHIJOS REGION       IMPORTETOTAL\n",
       "1 Economistas,Abogados & Admin.Empresas 0           Sur Europa     68.175    \n",
       "2 Ingenieros & Especialistas            0           Norte Europa  218.045    \n",
       "3 Doctores & Profesionales de la Salud  2           Norte Europa  242.320    \n",
       "4 Catering                              0           Sur Europa   1187.645    \n",
       "5 Servicios                             0           Sur Europa    266.640    \n",
       "6 Ingenieros & Especialistas            0           Norteamérica  134.245    "
      ]
     },
     "metadata": {},
     "output_type": "display_data"
    },
    {
     "data": {
      "text/plain": [
       "  CODCLIENTE        NOMBRECLIENTE          SEXO           FECHANACIMIENTO   \n",
       " Length:4069        Length:4069        Length:4069        Min.   :19100204  \n",
       " Class :character   Class :character   Class :character   1st Qu.:19390225  \n",
       " Mode  :character   Mode  :character   Mode  :character   Median :19511109  \n",
       "                                                          Mean   :19516993  \n",
       "                                                          3rd Qu.:19670811  \n",
       "                                                          Max.   :19791231  \n",
       "                                                                            \n",
       " ESTADOCIVIL         PROFESION          NUMEROHIJOS        REGION         \n",
       " Length:4069        Length:4069        Min.   :0.0000   Length:4069       \n",
       " Class :character   Class :character   1st Qu.:0.0000   Class :character  \n",
       " Mode  :character   Mode  :character   Median :0.0000   Mode  :character  \n",
       "                                       Mean   :0.7768                     \n",
       "                                       3rd Qu.:2.0000                     \n",
       "                                       Max.   :4.0000                     \n",
       "                                                                          \n",
       "  IMPORTETOTAL     \n",
       " Min.   :   3.425  \n",
       " 1st Qu.: 116.421  \n",
       " Median : 243.815  \n",
       " Mean   : 505.903  \n",
       " 3rd Qu.: 519.707  \n",
       " Max.   :9637.302  \n",
       " NA's   :146       "
      ]
     },
     "metadata": {},
     "output_type": "display_data"
    }
   ],
   "source": [
    "dim(new_cliente)\n",
    "head(new_cliente)\n",
    "summary(new_cliente)\n"
   ]
  },
  {
   "cell_type": "markdown",
   "metadata": {},
   "source": [
    "Veiem que a l'atribut __IMPORTETOTAL__ hi ha valors NA. El·liminem les files que els contenen:"
   ]
  },
  {
   "cell_type": "code",
   "execution_count": 399,
   "metadata": {
    "collapsed": false
   },
   "outputs": [],
   "source": [
    "new_cliente <- na.omit(new_cliente)"
   ]
  },
  {
   "cell_type": "markdown",
   "metadata": {},
   "source": [
    "Ara només queda discretitzar el target. Anem a mirar a veure què ens dona la funció *summary()*:"
   ]
  },
  {
   "cell_type": "code",
   "execution_count": 454,
   "metadata": {
    "collapsed": false
   },
   "outputs": [
    {
     "data": {
      "text/plain": [
       "  CODCLIENTE        NOMBRECLIENTE          SEXO           FECHANACIMIENTO   \n",
       " Length:3923        Length:3923        Length:3923        Min.   :19100204  \n",
       " Class :character   Class :character   Class :character   1st Qu.:19390224  \n",
       " Mode  :character   Mode  :character   Mode  :character   Median :19520102  \n",
       "                                                          Mean   :19517294  \n",
       "                                                          3rd Qu.:19670818  \n",
       "                                                          Max.   :19791231  \n",
       " ESTADOCIVIL         PROFESION          NUMEROHIJOS        REGION         \n",
       " Length:3923        Length:3923        Min.   :0.0000   Length:3923       \n",
       " Class :character   Class :character   1st Qu.:0.0000   Class :character  \n",
       " Mode  :character   Mode  :character   Median :0.0000   Mode  :character  \n",
       "                                       Mean   :0.7716                     \n",
       "                                       3rd Qu.:2.0000                     \n",
       "                                       Max.   :4.0000                     \n",
       "  IMPORTETOTAL     \n",
       " Min.   :   3.425  \n",
       " 1st Qu.: 116.421  \n",
       " Median : 243.815  \n",
       " Mean   : 505.903  \n",
       " 3rd Qu.: 519.707  \n",
       " Max.   :9637.302  "
      ]
     },
     "metadata": {},
     "output_type": "display_data"
    }
   ],
   "source": [
    "summary(new_cliente)"
   ]
  },
  {
   "cell_type": "markdown",
   "metadata": {},
   "source": [
    "Veiem que __IMPORTETOTAL__ va de 3.4 fins a 9637.3, amb una mediana de 243.8 i una mitjana de 505.9. Considero que una bona manera de discretitzar la despesa de cada client pot ser considerar un valor *low=[0, 150)*, un altre *medium=[150, 500)* i un altre *high=[500, inf]*. Anem a implementar-ho. Farem servir la funció *discretize()* del paquet *arules*:"
   ]
  },
  {
   "cell_type": "code",
   "execution_count": 110,
   "metadata": {
    "collapsed": false
   },
   "outputs": [],
   "source": [
    "#install.packages(\"arules\", repos = \"http://cran.us.r-project.org\")"
   ]
  },
  {
   "cell_type": "markdown",
   "metadata": {
    "collapsed": false
   },
   "source": [
    "new_cliente$IMPORTETOTAL <- arules::discretize(new_cliente$IMPORTETOTAL, \n",
    "                                                 method=\"fixed\", \n",
    "                                                 categories=c(0, 150, 500, Inf), \n",
    "                                                 labels=c(\"low\", \"medium\", \"high\"))"
   ]
  },
  {
   "cell_type": "markdown",
   "metadata": {},
   "source": [
    "Ara ja podem aplicar el model predictiu amb arbres de decisió. Primer de tot separem les dades per tenir per un costat les features, que són les variables que s'utilitzaran per construir el model, i el target, que és la variable que classifica. En el nostre cas la variable per la que classificarem és el total de vendes. No considerem les columnes __CODCLIENTE__ ni __NOMBRECLIENTE__, ja que no aporten informació predictiva:"
   ]
  },
  {
   "cell_type": "code",
   "execution_count": 400,
   "metadata": {
    "collapsed": false
   },
   "outputs": [
    {
     "data": {
      "text/html": [
       "<table>\n",
       "<thead><tr><th scope=col>CODCLIENTE</th><th scope=col>NOMBRECLIENTE</th><th scope=col>SEXO</th><th scope=col>FECHANACIMIENTO</th><th scope=col>ESTADOCIVIL</th><th scope=col>PROFESION</th><th scope=col>NUMEROHIJOS</th><th scope=col>REGION</th></tr></thead>\n",
       "<tbody>\n",
       "\t<tr><td>0000001R                                            </td><td>Roca Sacristán Narciso                              </td><td>Hombre                                              </td><td>19551220                                            </td><td>Soltero/a                                           </td><td>Economistas,Abogados &amp; Admin.Empresas           </td><td>0                                                   </td><td><span style=white-space:pre-wrap>Sur Europa  </span></td></tr>\n",
       "\t<tr><td>0000002J                                                                         </td><td><span style=white-space:pre-wrap>Jones Nicholas        </span>                   </td><td>Hombre                                                                           </td><td>19110808                                                                         </td><td>Soltero/a                                                                        </td><td><span style=white-space:pre-wrap>Ingenieros &amp; Especialistas           </span></td><td>0                                                                                </td><td>Norte Europa                                                                     </td></tr>\n",
       "\t<tr><td>0000003B                                                      </td><td><span style=white-space:pre-wrap>Burton Alexander      </span></td><td>Hombre                                                        </td><td>19420417                                                      </td><td>Casado/a                                                      </td><td>Doctores &amp; Profesionales de la Salud                      </td><td>2                                                             </td><td>Norte Europa                                                  </td></tr>\n",
       "\t<tr><td>0000004N                             </td><td>Nirupa                               </td><td>Empresa                              </td><td>19390404                             </td><td>Empresa                              </td><td>Catering                             </td><td>0                                    </td><td>Sur Europa                           </td></tr>\n",
       "\t<tr><td>0000005E                             </td><td>Embers                               </td><td>Empresa                              </td><td>19650909                             </td><td>Empresa                              </td><td>Servicios                            </td><td>0                                    </td><td>Sur Europa                           </td></tr>\n",
       "\t<tr><td>0000006C                                                                         </td><td><span style=white-space:pre-wrap>Calder Jhon           </span>                   </td><td>Hombre                                                                           </td><td>19380322                                                                         </td><td>Soltero/a                                                                        </td><td><span style=white-space:pre-wrap>Ingenieros &amp; Especialistas           </span></td><td>0                                                                                </td><td>Norteamérica                                                                     </td></tr>\n",
       "</tbody>\n",
       "</table>\n"
      ],
      "text/latex": [
       "\\begin{tabular}{r|llllllll}\n",
       " CODCLIENTE & NOMBRECLIENTE & SEXO & FECHANACIMIENTO & ESTADOCIVIL & PROFESION & NUMEROHIJOS & REGION\\\\\n",
       "\\hline\n",
       "\t 0000001R                                & Roca Sacristán Narciso                  & Hombre                                  & 19551220                                & Soltero/a                               & Economistas,Abogados \\& Admin.Empresas & 0                                       & Sur Europa                             \\\\\n",
       "\t 0000002J                                & Jones Nicholas                          & Hombre                                  & 19110808                                & Soltero/a                               & Ingenieros \\& Especialistas            & 0                                       & Norte Europa                           \\\\\n",
       "\t 0000003B                                & Burton Alexander                        & Hombre                                  & 19420417                                & Casado/a                                & Doctores \\& Profesionales de la Salud  & 2                                       & Norte Europa                           \\\\\n",
       "\t 0000004N                              & Nirupa                                & Empresa                               & 19390404                              & Empresa                               & Catering                              & 0                                     & Sur Europa                           \\\\\n",
       "\t 0000005E                              & Embers                                & Empresa                               & 19650909                              & Empresa                               & Servicios                             & 0                                     & Sur Europa                           \\\\\n",
       "\t 0000006C                                & Calder Jhon                             & Hombre                                  & 19380322                                & Soltero/a                               & Ingenieros \\& Especialistas            & 0                                       & Norteamérica                           \\\\\n",
       "\\end{tabular}\n"
      ],
      "text/markdown": [
       "\n",
       "CODCLIENTE | NOMBRECLIENTE | SEXO | FECHANACIMIENTO | ESTADOCIVIL | PROFESION | NUMEROHIJOS | REGION | \n",
       "|---|---|---|---|---|---|\n",
       "| 0000001R                              | Roca Sacristán Narciso                | Hombre                                | 19551220                              | Soltero/a                             | Economistas,Abogados & Admin.Empresas | 0                                     | Sur Europa                            | \n",
       "| 0000002J                              | Jones Nicholas                        | Hombre                                | 19110808                              | Soltero/a                             | Ingenieros & Especialistas            | 0                                     | Norte Europa                          | \n",
       "| 0000003B                              | Burton Alexander                      | Hombre                                | 19420417                              | Casado/a                              | Doctores & Profesionales de la Salud  | 2                                     | Norte Europa                          | \n",
       "| 0000004N                              | Nirupa                                | Empresa                               | 19390404                              | Empresa                               | Catering                              | 0                                     | Sur Europa                            | \n",
       "| 0000005E                              | Embers                                | Empresa                               | 19650909                              | Empresa                               | Servicios                             | 0                                     | Sur Europa                            | \n",
       "| 0000006C                              | Calder Jhon                           | Hombre                                | 19380322                              | Soltero/a                             | Ingenieros & Especialistas            | 0                                     | Norteamérica                          | \n",
       "\n",
       "\n"
      ],
      "text/plain": [
       "  CODCLIENTE NOMBRECLIENTE          SEXO    FECHANACIMIENTO ESTADOCIVIL\n",
       "1 0000001R   Roca Sacristán Narciso Hombre  19551220        Soltero/a  \n",
       "2 0000002J   Jones Nicholas         Hombre  19110808        Soltero/a  \n",
       "3 0000003B   Burton Alexander       Hombre  19420417        Casado/a   \n",
       "4 0000004N   Nirupa                 Empresa 19390404        Empresa    \n",
       "5 0000005E   Embers                 Empresa 19650909        Empresa    \n",
       "6 0000006C   Calder Jhon            Hombre  19380322        Soltero/a  \n",
       "  PROFESION                             NUMEROHIJOS REGION      \n",
       "1 Economistas,Abogados & Admin.Empresas 0           Sur Europa  \n",
       "2 Ingenieros & Especialistas            0           Norte Europa\n",
       "3 Doctores & Profesionales de la Salud  2           Norte Europa\n",
       "4 Catering                              0           Sur Europa  \n",
       "5 Servicios                             0           Sur Europa  \n",
       "6 Ingenieros & Especialistas            0           Norteamérica"
      ]
     },
     "metadata": {},
     "output_type": "display_data"
    },
    {
     "data": {
      "text/html": [
       "<ol class=list-inline>\n",
       "\t<li>68.175</li>\n",
       "\t<li>218.045</li>\n",
       "\t<li>242.32</li>\n",
       "\t<li>1187.645</li>\n",
       "\t<li>266.64</li>\n",
       "\t<li>134.245</li>\n",
       "</ol>\n"
      ],
      "text/latex": [
       "\\begin{enumerate*}\n",
       "\\item 68.175\n",
       "\\item 218.045\n",
       "\\item 242.32\n",
       "\\item 1187.645\n",
       "\\item 266.64\n",
       "\\item 134.245\n",
       "\\end{enumerate*}\n"
      ],
      "text/markdown": [
       "1. 68.175\n",
       "2. 218.045\n",
       "3. 242.32\n",
       "4. 1187.645\n",
       "5. 266.64\n",
       "6. 134.245\n",
       "\n",
       "\n"
      ],
      "text/plain": [
       "[1]   68.175  218.045  242.320 1187.645  266.640  134.245"
      ]
     },
     "metadata": {},
     "output_type": "display_data"
    },
    {
     "data": {
      "text/html": [
       "<ol class=list-inline>\n",
       "\t<li>3923</li>\n",
       "\t<li>8</li>\n",
       "</ol>\n"
      ],
      "text/latex": [
       "\\begin{enumerate*}\n",
       "\\item 3923\n",
       "\\item 8\n",
       "\\end{enumerate*}\n"
      ],
      "text/markdown": [
       "1. 3923\n",
       "2. 8\n",
       "\n",
       "\n"
      ],
      "text/plain": [
       "[1] 3923    8"
      ]
     },
     "metadata": {},
     "output_type": "display_data"
    }
   ],
   "source": [
    "X <- new_cliente[, 3:8]\n",
    "y <- new_cliente[, 9]\n",
    "head(X)\n",
    "head(y)\n",
    "dim(X)"
   ]
  },
  {
   "cell_type": "markdown",
   "metadata": {},
   "source": [
    "Ara creem un conjunt d’entrenament i un de test:"
   ]
  },
  {
   "cell_type": "code",
   "execution_count": 408,
   "metadata": {
    "collapsed": false
   },
   "outputs": [],
   "source": [
    "trainX <- X[1:3000,]\n",
    "trainy <- y[1:300]\n",
    "testX <- X[3001:3923,]\n",
    "testy <- y[3001:3923]"
   ]
  },
  {
   "cell_type": "markdown",
   "metadata": {},
   "source": [
    "Fem comprovacions sobre aquests conjunts per veure si les hem construït bé:"
   ]
  },
  {
   "cell_type": "code",
   "execution_count": 409,
   "metadata": {
    "collapsed": false
   },
   "outputs": [
    {
     "data": {
      "text/plain": [
       "  CODCLIENTE        NOMBRECLIENTE          SEXO           FECHANACIMIENTO   \n",
       " Length:3500        Length:3500        Length:3500        Min.   :19100204  \n",
       " Class :character   Class :character   Class :character   1st Qu.:19390315  \n",
       " Mode  :character   Mode  :character   Mode  :character   Median :19520105  \n",
       "                                                          Mean   :19518522  \n",
       "                                                          3rd Qu.:19670910  \n",
       "                                                          Max.   :19791231  \n",
       " ESTADOCIVIL         PROFESION          NUMEROHIJOS        REGION         \n",
       " Length:3500        Length:3500        Min.   :0.0000   Length:3500       \n",
       " Class :character   Class :character   1st Qu.:0.0000   Class :character  \n",
       " Mode  :character   Mode  :character   Median :0.0000   Mode  :character  \n",
       "                                       Mean   :0.7666                     \n",
       "                                       3rd Qu.:2.0000                     \n",
       "                                       Max.   :4.0000                     "
      ]
     },
     "metadata": {},
     "output_type": "display_data"
    }
   ],
   "source": [
    "summary(trainX)"
   ]
  },
  {
   "cell_type": "code",
   "execution_count": 410,
   "metadata": {
    "collapsed": false
   },
   "outputs": [
    {
     "data": {
      "text/plain": [
       "    Min.  1st Qu.   Median     Mean  3rd Qu.     Max. \n",
       "   3.425  115.881  241.341  494.786  507.329 9637.302 "
      ]
     },
     "metadata": {},
     "output_type": "display_data"
    }
   ],
   "source": [
    "summary(trainy)"
   ]
  },
  {
   "cell_type": "code",
   "execution_count": 411,
   "metadata": {
    "collapsed": false
   },
   "outputs": [
    {
     "data": {
      "text/plain": [
       "  CODCLIENTE        NOMBRECLIENTE          SEXO           FECHANACIMIENTO   \n",
       " Length:423         Length:423         Length:423         Min.   :19100723  \n",
       " Class :character   Class :character   Class :character   1st Qu.:19380422  \n",
       " Mode  :character   Mode  :character   Mode  :character   Median :19511001  \n",
       "                                                          Mean   :19507129  \n",
       "                                                          3rd Qu.:19660558  \n",
       "                                                          Max.   :19791229  \n",
       " ESTADOCIVIL         PROFESION          NUMEROHIJOS        REGION         \n",
       " Length:423         Length:423         Min.   :0.0000   Length:423        \n",
       " Class :character   Class :character   1st Qu.:0.0000   Class :character  \n",
       " Mode  :character   Mode  :character   Median :0.0000   Mode  :character  \n",
       "                                       Mean   :0.8132                     \n",
       "                                       3rd Qu.:2.0000                     \n",
       "                                       Max.   :4.0000                     "
      ]
     },
     "metadata": {},
     "output_type": "display_data"
    }
   ],
   "source": [
    "summary(testX)"
   ]
  },
  {
   "cell_type": "code",
   "execution_count": 412,
   "metadata": {
    "collapsed": false
   },
   "outputs": [
    {
     "data": {
      "text/plain": [
       "   Min. 1st Qu.  Median    Mean 3rd Qu.    Max. \n",
       "   3.55  127.70  267.82  597.88  614.66 7145.40 "
      ]
     },
     "metadata": {},
     "output_type": "display_data"
    }
   ],
   "source": [
    "summary(testy)"
   ]
  },
  {
   "cell_type": "markdown",
   "metadata": {},
   "source": [
    "A continuació, instal•lem el paquet C50 i accedim a ell:"
   ]
  },
  {
   "cell_type": "markdown",
   "metadata": {},
   "source": [
    "#### NOTA: A partir d'aquí i degut a motius que no he pogut esbrinar ni solucionar, el Notebook m'ha començat a donar problemes. El que he fet ha estat passar a RStudio i he agafat els resultats que he obtingut allà i els he aferrat aquí."
   ]
  },
  {
   "cell_type": "code",
   "execution_count": 453,
   "metadata": {
    "collapsed": false
   },
   "outputs": [
    {
     "name": "stderr",
     "output_type": "stream",
     "text": [
      "Warning message:\n",
      "\"unable to access index for repository cran.us.r-project.org/src/contrib:\n",
      "  scheme not supported in URL 'cran.us.r-project.org/src/contrib/PACKAGES'\"Warning message:\n",
      "\"package 'C50' is not available (for R version 3.4.2)\"Warning message in gzfile(file, mode):\n",
      "\"cannot open compressed file 'C:\\Users\\LLUS~1\\AppData\\Local\\Temp\\RtmpqsBYf6/libloc_186_87cea358.rds', probable reason 'No such file or directory'\""
     ]
    },
    {
     "ename": "ERROR",
     "evalue": "Error in gzfile(file, mode): cannot open the connection\n",
     "output_type": "error",
     "traceback": [
      "Error in gzfile(file, mode): cannot open the connection\nTraceback:\n",
      "1. install.packages(\"C50\", repos = \"cran.us.r-project.org\")",
      "2. getDependencies(pkgs, dependencies, available, lib)",
      "3. installed.packages(lib.loc = libpath, fields = c(\"Package\", \"Version\"))",
      "4. saveRDS(list(base = base, value = ret0), dest)",
      "5. gzfile(file, mode)"
     ]
    }
   ],
   "source": [
    "#install.packages(\"C50\", repos=\"https://cran.r-project.org/src/contrib/C50_0.1.1.tar.gz\")\n",
    "#install.packages(\"C50\", repos=\"https://cran.r-project.org/package=C50\")\n",
    "install.packages('C50', repos='cran.us.r-project.org')\n",
    "#install.packages(\"C50\", source=\"C:/Users/Lluís/Documents/UOC/Màster en Data Science/Mineria de Dades/Practica/C50_0.1.1.zip\")\n",
    "#install.packages(\"C50\", repos=\"http://cran.rstudio.com/bin/windows/contrib/3.1/C50_0.1.0-24.zip\")\n",
    "#install.packages(\"c50\", repos='http://cran.us.r-project.org')"
   ]
  },
  {
   "cell_type": "code",
   "execution_count": 451,
   "metadata": {
    "collapsed": false
   },
   "outputs": [
    {
     "ename": "ERROR",
     "evalue": "Error in library(C50): there is no package called 'C50'\n",
     "output_type": "error",
     "traceback": [
      "Error in library(C50): there is no package called 'C50'\nTraceback:\n",
      "1. library(C50)",
      "2. stop(txt, domain = NA)"
     ]
    }
   ],
   "source": [
    "library(C50)"
   ]
  },
  {
   "cell_type": "code",
   "execution_count": 449,
   "metadata": {
    "collapsed": false
   },
   "outputs": [],
   "source": [
    "model <- C50::C5.0(trainX, trainy)"
   ]
  },
  {
   "cell_type": "code",
   "execution_count": null,
   "metadata": {
    "collapsed": true
   },
   "outputs": [],
   "source": [
    "summary(model)"
   ]
  },
  {
   "cell_type": "markdown",
   "metadata": {
    "collapsed": true
   },
   "source": [
    "Call:\n",
    "C5.0.default(x = trainX, y = trainy, trials = 10)\n",
    "\n",
    "\n",
    "C5.0 [Release 2.07 GPL Edition]  \tSun Jan 07 19:35:53 2018\n",
    "-------------------------------\n",
    "\n",
    "Class specified by attribute `outcome'\n",
    "\n",
    "Read 3000 cases (7 attributes) from undefined.data\n",
    "\n",
    "-----  Trial 0:  -----\n",
    "\n",
    "Decision tree:\n",
    "\n",
    "SEXO = Empresa:\n",
    ":...REGION in {Norte Europa,NorteamÃ©rica}: high (403/164)\n",
    ":   REGION = Sur Europa:\n",
    ":   :...PROFESION in {Economistas,Abogados & Admin.Empresas,\n",
    ":       :             Ingenieros & Especialistas,\n",
    ":       :             Doctores & Profesionales de la Salud,Catering,\n",
    ":       :             Gerentes & Directivos,Ama de Casa,\n",
    ":       :             Architectos,Decoradores & Humanistas,Alimentación,\n",
    ":       :             Food}: medium (147/71)\n",
    ":       PROFESION = Servicios: high (50/23)\n",
    "SEXO in {Hombre,Mujer}:\n",
    ":...REGION = Sur Europa:\n",
    "    :...NUMEROHIJOS <= 0: low (460/220)\n",
    "    :   NUMEROHIJOS > 0:\n",
    "    :   :...ESTADOCIVIL in {Soltero/a,Empresa}: low (4/2)\n",
    "    :       ESTADOCIVIL = Viudo/a:\n",
    "    :       :...SEXO = Hombre: low (6/3)\n",
    "    :       :   SEXO = Mujer: high (5/2)\n",
    "    :       ESTADOCIVIL = Divorciado/a:\n",
    "    :       :...PROFESION = Ingenieros & Especialistas: medium (12/3)\n",
    "    :       :   PROFESION in {Doctores & Profesionales de la Salud,Catering,\n",
    "    :       :   :             Servicios,Gerentes & Directivos,\n",
    "    :       :   :             Architectos,Decoradores & Humanistas,\n",
    "    :       :   :             Alimentación,Food}: low (48/18)\n",
    "    :       :   PROFESION = Economistas,Abogados & Admin.Empresas:\n",
    "    :       :   :...FECHANACIMIENTO <= 1.951092e+007: low (14/5)\n",
    "    :       :   :   FECHANACIMIENTO > 1.951092e+007: medium (10/1)\n",
    "    :       :   PROFESION = Ama de Casa:\n",
    "    :       :   :...NUMEROHIJOS <= 2: medium (3)\n",
    "    :       :       NUMEROHIJOS > 2: high (5/2)\n",
    "    :       ESTADOCIVIL = Casado/a:\n",
    "    :       :...PROFESION in {Catering,Servicios,Alimentación,\n",
    "    :           :             Food}: low (0)\n",
    "    :           PROFESION in {Gerentes & Directivos,\n",
    "    :           :             Ama de Casa}: medium (53/28)\n",
    "    :           PROFESION = Economistas,Abogados & Admin.Empresas:\n",
    "    :           :...NUMEROHIJOS <= 1: medium (7/3)\n",
    "    :           :   NUMEROHIJOS > 1: low (39/18)\n",
    "    :           PROFESION = Architectos,Decoradores & Humanistas:\n",
    "    :           :...NUMEROHIJOS <= 1: medium (11/3)\n",
    "    :           :   NUMEROHIJOS > 1: low (27/14)\n",
    "    :           PROFESION = Ingenieros & Especialistas:\n",
    "    :           :...NUMEROHIJOS <= 1: low (6/2)\n",
    "    :           :   NUMEROHIJOS > 1:\n",
    "    :           :   :...SEXO = Hombre: low (17/6)\n",
    "    :           :       SEXO = Mujer: medium (7/2)\n",
    "    :           PROFESION = Doctores & Profesionales de la Salud:\n",
    "    :           :...FECHANACIMIENTO > 1.971071e+007: medium (3/1)\n",
    "    :               FECHANACIMIENTO <= 1.971071e+007:\n",
    "    :               :...FECHANACIMIENTO <= 1.936123e+007: high (9/5)\n",
    "    :                   FECHANACIMIENTO > 1.936123e+007: low (31/12)\n",
    "    REGION in {Norte Europa,NorteamÃ©rica}:\n",
    "    :...NUMEROHIJOS > 0:\n",
    "        :...PROFESION in {Catering,Servicios,Ama de Casa,Alimentación,\n",
    "        :   :             Food}: medium (39/16)\n",
    "        :   PROFESION = Ingenieros & Especialistas:\n",
    "        :   :...ESTADOCIVIL = Soltero/a: high (3)\n",
    "        :   :   ESTADOCIVIL in {Casado/a,Empresa,Viudo/a,\n",
    "        :   :                   Divorciado/a}: low (110/70)\n",
    "        :   PROFESION = Doctores & Profesionales de la Salud:\n",
    "        :   :...ESTADOCIVIL = Soltero/a: low (3)\n",
    "        :   :   ESTADOCIVIL in {Casado/a,Empresa,Viudo/a,\n",
    "        :   :                   Divorciado/a}: medium (147/80)\n",
    "        :   PROFESION = Gerentes & Directivos:\n",
    "        :   :...FECHANACIMIENTO <= 1.943123e+007: medium (64/22)\n",
    "        :   :   FECHANACIMIENTO > 1.943123e+007:\n",
    "        :   :   :...NUMEROHIJOS > 3:\n",
    "        :   :       :...FECHANACIMIENTO <= 1.95409e+007: high (2)\n",
    "        :   :       :   FECHANACIMIENTO > 1.95409e+007: low (5/1)\n",
    "        :   :       NUMEROHIJOS <= 3:\n",
    "        :   :       :...SEXO = Mujer: low (31/18)\n",
    "        :   :           SEXO = Hombre:\n",
    "        :   :           :...FECHANACIMIENTO <= 1.947082e+007: low (9/4)\n",
    "        :   :               FECHANACIMIENTO > 1.947082e+007: medium (36/14)\n",
    "        :   PROFESION = Economistas,Abogados & Admin.Empresas:\n",
    "        :   :...NUMEROHIJOS <= 1: medium (32/13)\n",
    "        :   :   NUMEROHIJOS > 1:\n",
    "        :   :   :...SEXO = Hombre: medium (73/44)\n",
    "        :   :       SEXO = Mujer:\n",
    "        :   :       :...ESTADOCIVIL = Viudo/a: medium (4/1)\n",
    "        :   :           ESTADOCIVIL in {Soltero/a,Empresa,\n",
    "        :   :           :               Divorciado/a}: high (18/6)\n",
    "        :   :           ESTADOCIVIL = Casado/a:\n",
    "        :   :           :...FECHANACIMIENTO <= 1.935122e+007: medium (6/1)\n",
    "        :   :               FECHANACIMIENTO > 1.935122e+007:\n",
    "        :   :               :...NUMEROHIJOS <= 2: low (10/4)\n",
    "        :   :                   NUMEROHIJOS > 2: high (12/6)\n",
    "        :   PROFESION = Architectos,Decoradores & Humanistas:\n",
    "        :   :...ESTADOCIVIL in {Soltero/a,Empresa}: medium (3/1)\n",
    "        :       ESTADOCIVIL = Viudo/a: low (3/2)\n",
    "        :       ESTADOCIVIL = Divorciado/a:\n",
    "        :       :...FECHANACIMIENTO <= 1.948123e+007: low (15/4)\n",
    "        :       :   FECHANACIMIENTO > 1.948123e+007: medium (11/3)\n",
    "        :       ESTADOCIVIL = Casado/a:\n",
    "        :       :...NUMEROHIJOS <= 1: medium (9/2)\n",
    "        :           NUMEROHIJOS > 1:\n",
    "        :           :...REGION = Norte Europa:\n",
    "        :               :...SEXO = Hombre: low (19/8)\n",
    "        :               :   SEXO = Mujer: medium (13/6)\n",
    "        :               REGION = NorteamÃ©rica:\n",
    "        :               :...SEXO = Hombre:\n",
    "        :                   :...FECHANACIMIENTO <= 1.937123e+007: high (6/2)\n",
    "        :                   :   FECHANACIMIENTO > 1.937123e+007: medium (8/3)\n",
    "        :                   SEXO = Mujer:\n",
    "        :                   :...FECHANACIMIENTO <= 1.946123e+007: medium (2)\n",
    "        :                       FECHANACIMIENTO > 1.946123e+007: high (3)\n",
    "        NUMEROHIJOS <= 0:\n",
    "        :...PROFESION in {Economistas,Abogados & Admin.Empresas,Catering,\n",
    "            :             Servicios,Alimentación,Food}: medium (197/107)\n",
    "            PROFESION = Doctores & Profesionales de la Salud:\n",
    "            :...ESTADOCIVIL = Empresa: low (0)\n",
    "            :   ESTADOCIVIL in {Viudo/a,Divorciado/a}:\n",
    "            :   :...SEXO = Hombre: medium (14/5)\n",
    "            :   :   SEXO = Mujer: high (8/2)\n",
    "            :   ESTADOCIVIL in {Soltero/a,Casado/a}:\n",
    "            :   :...ESTADOCIVIL = Soltero/a: low (123/64)\n",
    "            :       ESTADOCIVIL = Casado/a:\n",
    "            :       :...SEXO = Hombre: medium (33/18)\n",
    "            :           SEXO = Mujer: low (9/3)\n",
    "            PROFESION = Ama de Casa:\n",
    "            :...ESTADOCIVIL in {Soltero/a,Empresa}: low (31/16)\n",
    "            :   ESTADOCIVIL in {Casado/a,Viudo/a}: medium (16/6)\n",
    "            :   ESTADOCIVIL = Divorciado/a:\n",
    "            :   :...REGION = NorteamÃ©rica: medium (1)\n",
    "            :       REGION = Norte Europa:\n",
    "            :       :...FECHANACIMIENTO <= 1.947122e+007: high (2)\n",
    "            :           FECHANACIMIENTO > 1.947122e+007: low (6/2)\n",
    "            PROFESION = Gerentes & Directivos:\n",
    "            :...REGION = Norte Europa:\n",
    "            :   :...ESTADOCIVIL in {Empresa,Viudo/a}: low (3/1)\n",
    "            :   :   ESTADOCIVIL = Soltero/a:\n",
    "            :   :   :...FECHANACIMIENTO <= 1.979092e+007: low (61/32)\n",
    "            :   :   :   FECHANACIMIENTO > 1.979092e+007: high (5/2)\n",
    "            :   :   ESTADOCIVIL = Divorciado/a:\n",
    "            :   :   :...FECHANACIMIENTO <= 1.967123e+007: low (12/3)\n",
    "            :   :   :   FECHANACIMIENTO > 1.967123e+007: medium (2)\n",
    "            :   :   ESTADOCIVIL = Casado/a:\n",
    "            :   :   :...FECHANACIMIENTO > 1.967123e+007: low (6/1)\n",
    "            :   :       FECHANACIMIENTO <= 1.967123e+007:\n",
    "            :   :       :...SEXO = Hombre: medium (22/11)\n",
    "            :   :           SEXO = Mujer: high (8/3)\n",
    "            :   REGION = NorteamÃ©rica:\n",
    "            :   :...SEXO = Mujer: medium (29/11)\n",
    "            :       SEXO = Hombre:\n",
    "            :       :...FECHANACIMIENTO <= 1.928022e+007:\n",
    "            :           :...ESTADOCIVIL = Soltero/a: high (2)\n",
    "            :           :   ESTADOCIVIL in {Casado/a,Empresa,Viudo/a,\n",
    "            :           :                   Divorciado/a}: medium (2)\n",
    "            :           FECHANACIMIENTO > 1.928022e+007:\n",
    "            :           :...FECHANACIMIENTO <= 1.956083e+007: low (19/8)\n",
    "            :               FECHANACIMIENTO > 1.956083e+007: medium (24/13)\n",
    "            PROFESION = Ingenieros & Especialistas:\n",
    "            :...SEXO = Mujer: medium (56/29)\n",
    "            :   SEXO = Hombre:\n",
    "            :   :...ESTADOCIVIL in {Empresa,Viudo/a}: low (0)\n",
    "            :       ESTADOCIVIL = Casado/a:\n",
    "            :       :...FECHANACIMIENTO <= 1.935062e+007: medium (4)\n",
    "            :       :   FECHANACIMIENTO > 1.935062e+007: high (19/10)\n",
    "            :       ESTADOCIVIL = Divorciado/a:\n",
    "            :       :...REGION = NorteamÃ©rica: high (3/1)\n",
    "            :       :   REGION = Norte Europa:\n",
    "            :       :   :...FECHANACIMIENTO <= 1.957112e+007: medium (5/1)\n",
    "            :       :       FECHANACIMIENTO > 1.957112e+007: low (3/1)\n",
    "            :       ESTADOCIVIL = Soltero/a:\n",
    "            :       :...REGION = Norte Europa:\n",
    "            :           :...FECHANACIMIENTO <= 1.940071e+007: medium (6/1)\n",
    "            :           :   FECHANACIMIENTO > 1.940071e+007: low (34/15)\n",
    "            :           REGION = NorteamÃ©rica:\n",
    "            :           :...FECHANACIMIENTO <= 1.945123e+007: low (7/2)\n",
    "            :               FECHANACIMIENTO > 1.945123e+007:\n",
    "            :               :...FECHANACIMIENTO <= 1.976061e+007: medium (9/1)\n",
    "            :                   FECHANACIMIENTO > 1.976061e+007: low (7/3)\n",
    "            PROFESION = Architectos,Decoradores & Humanistas:\n",
    "            :...REGION = NorteamÃ©rica:\n",
    "                :...FECHANACIMIENTO <= 1.937123e+007: low (7/2)\n",
    "                :   FECHANACIMIENTO > 1.937123e+007: medium (38/21)\n",
    "                REGION = Norte Europa:\n",
    "                :...ESTADOCIVIL in {Empresa,Viudo/a}: medium (2/1)\n",
    "                    ESTADOCIVIL = Divorciado/a: low (6/2)\n",
    "                    ESTADOCIVIL in {Soltero/a,Casado/a}:\n",
    "                    :...FECHANACIMIENTO <= 1.966123e+007:\n",
    "                        :...FECHANACIMIENTO <= 1.928123e+007: high (5/2)\n",
    "                        :   FECHANACIMIENTO > 1.928123e+007: medium (38/9)\n",
    "                        FECHANACIMIENTO > 1.966123e+007:\n",
    "                        :...ESTADOCIVIL = Casado/a: high (3/1)\n",
    "                            ESTADOCIVIL = Soltero/a:\n",
    "                            :...FECHANACIMIENTO <= 1.975031e+007: low (8/2)\n",
    "                                FECHANACIMIENTO > 1.975031e+007:\n",
    "                                :...FECHANACIMIENTO <= 1.978073e+007: medium (20/9)\n",
    "                                    FECHANACIMIENTO > 1.978073e+007:\n",
    "                                    :...FECHANACIMIENTO <= 1.979083e+007: high (8/2)\n",
    "                                        FECHANACIMIENTO > 1.979083e+007: low (4/1)\n",
    "\n",
    "-----  Trial 1:  -----\n",
    "\n",
    "Decision tree:\n",
    "\n",
    "SEXO = Empresa:\n",
    ":...REGION = Sur Europa: medium (197.4/104.6)\n",
    ":   REGION in {Norte Europa,NorteamÃ©rica}: high (401.2/172.2)\n",
    "SEXO in {Hombre,Mujer}:\n",
    ":...REGION in {Norte Europa,NorteamÃ©rica}: medium (1624.6/934.9)\n",
    "    REGION = Sur Europa:\n",
    "    :...ESTADOCIVIL in {Soltero/a,Casado/a,Empresa,Viudo/a}: low (637.5/329.3)\n",
    "        ESTADOCIVIL = Divorciado/a:\n",
    "        :...PROFESION in {Economistas,Abogados & Admin.Empresas,\n",
    "            :             Doctores & Profesionales de la Salud,Catering,\n",
    "            :             Servicios,Gerentes & Directivos,\n",
    "            :             Architectos,Decoradores & Humanistas,Alimentación,\n",
    "            :             Food}: low (109.3/51.7)\n",
    "            PROFESION in {Ingenieros & Especialistas,\n",
    "                          Ama de Casa}: medium (29.9/11.1)\n",
    "\n",
    "*** boosting reduced to 1 trial since last classifier is very inaccurate\n",
    "\n",
    "*** boosting abandoned (too few classifiers)\n",
    "\n",
    "\n",
    "Evaluation on training data (3000 cases):\n",
    "\n",
    "\t    Decision Tree   \n",
    "\t  ----------------  \n",
    "\t  Size      Errors  \n",
    "\n",
    "\t    99 1363(45.4%)   <<\n",
    "\n",
    "\n",
    "\t   (a)   (b)   (c)    <-classified as\n",
    "\t  ----  ----  ----\n",
    "\t   634   317    46    (a): class low\n",
    "\t   390   657   187    (b): class medium\n",
    "\t   179   244   346    (c): class high\n",
    "\n",
    "\n",
    "\tAttribute usage:\n",
    "\n",
    "\t100.00%\tSEXO\n",
    "\t100.00%\tREGION\n",
    "\t 80.00%\tNUMEROHIJOS\n",
    "\t 70.73%\tPROFESION\n",
    "\t 42.63%\tESTADOCIVIL\n",
    "\t 22.77%\tFECHANACIMIENTO\n",
    "\n",
    "\n",
    "Time: 0.0 secs"
   ]
  },
  {
   "cell_type": "markdown",
   "metadata": {},
   "source": [
    "Veiem que en total es classifiquen malament 1363 casos, que representen el 45.4% del total. Anem a fer el càlcul de la qualitat de la predicció:"
   ]
  },
  {
   "cell_type": "code",
   "execution_count": null,
   "metadata": {
    "collapsed": true
   },
   "outputs": [],
   "source": [
    "p <-predict(model, testX, type=\"class\")\n",
    "sum(p == testy) / length(p)"
   ]
  },
  {
   "cell_type": "markdown",
   "metadata": {
    "collapsed": true
   },
   "source": [
    "0.4561213"
   ]
  },
  {
   "cell_type": "markdown",
   "metadata": {
    "collapsed": true
   },
   "source": [
    "Veiem que obtenim un encert del 45.61%, no gaire bo, la veritat. El que podriem fer, si de cas, podria ser anar variant els rangs dels 3 tipus de compradors depenent de la despesa, per veure si obtenim més precissió en la predicció."
   ]
  }
 ],
 "metadata": {
  "anaconda-cloud": {},
  "kernelspec": {
   "display_name": "R",
   "language": "R",
   "name": "ir"
  },
  "language_info": {
   "codemirror_mode": "r",
   "file_extension": ".r",
   "mimetype": "text/x-r-source",
   "name": "R",
   "pygments_lexer": "r",
   "version": "3.4.2"
  }
 },
 "nbformat": 4,
 "nbformat_minor": 1
}
